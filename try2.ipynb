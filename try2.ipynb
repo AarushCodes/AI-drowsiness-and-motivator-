{
 "cells": [
  {
   "cell_type": "code",
   "execution_count": 1,
   "metadata": {},
   "outputs": [],
   "source": [
    "import datetime\n",
    "import time\n",
    "from scipy.spatial import distance as dist\n",
    "from imutils.video import VideoStream\n",
    "from imutils import face_utils\n",
    "from threading import Thread\n",
    "import numpy as np\n",
    "import argparse\n",
    "import imutils\n",
    "import time\n",
    "import dlib\n",
    "import cv2\n",
    "import os\n",
    "from deepface import DeepFace\n",
    "import pyttsx3\n",
    "from quoteslist import anger_quotes, sadness_quotes\n",
    "import random\n"
   ]
  },
  {
   "cell_type": "code",
   "execution_count": 2,
   "metadata": {},
   "outputs": [],
   "source": [
    "def eye_aspect_ratio(eye):\n",
    "    A = dist.euclidean(eye[1], eye[5])\n",
    "    B = dist.euclidean(eye[2], eye[4])\n",
    "\n",
    "    C = dist.euclidean(eye[0], eye[3])\n",
    "\n",
    "    ear = (A + B) / (2.0 * C)\n",
    "\n",
    "    return ear\n"
   ]
  },
  {
   "cell_type": "code",
   "execution_count": 3,
   "metadata": {},
   "outputs": [],
   "source": [
    "def final_ear(shape):\n",
    "    (lStart, lEnd) = face_utils.FACIAL_LANDMARKS_IDXS[\"left_eye\"]\n",
    "    (rStart, rEnd) = face_utils.FACIAL_LANDMARKS_IDXS[\"right_eye\"]\n",
    "\n",
    "    leftEye = shape[lStart:lEnd]\n",
    "    rightEye = shape[rStart:rEnd]\n",
    "\n",
    "    leftEAR = eye_aspect_ratio(leftEye)\n",
    "    rightEAR = eye_aspect_ratio(rightEye)\n",
    "\n",
    "    ear = (leftEAR + rightEAR) / 2.0\n",
    "    return (ear, leftEye, rightEye)\n"
   ]
  },
  {
   "cell_type": "code",
   "execution_count": 4,
   "metadata": {},
   "outputs": [],
   "source": [
    "def lip_distance(shape):\n",
    "    top_lip = shape[50:53]\n",
    "    top_lip = np.concatenate((top_lip, shape[61:64]))\n",
    "\n",
    "    low_lip = shape[56:59]\n",
    "    low_lip = np.concatenate((low_lip, shape[65:68]))\n",
    "\n",
    "    top_mean = np.mean(top_lip, axis=0)\n",
    "    low_mean = np.mean(low_lip, axis=0)\n",
    "\n",
    "    distance = abs(top_mean[1] - low_mean[1])\n",
    "    return distance"
   ]
  },
  {
   "cell_type": "code",
   "execution_count": 5,
   "metadata": {},
   "outputs": [],
   "source": [
    "def getemotion(frame):\n",
    "    try:\n",
    "        face_analysis = DeepFace.analyze(frame,actions = ['emotion'])\n",
    "        dominant_emotion = face_analysis[0]['dominant_emotion']\n",
    "        #print(face_analysis[0])\n",
    "        emotion_value = face_analysis[0]['emotion'][dominant_emotion]\n",
    "\n",
    "        #print(emotion_value)\n",
    "        if emotion_value >= 50:\n",
    "            print('a major emotion')\n",
    "            #time.sleep(3)\n",
    "            return dominant_emotion\n",
    "            \n",
    "        else:\n",
    "            print('no major emotion')\n",
    "            #time.sleep(3)\n",
    "            return False\n",
    "        \n",
    "    except:\n",
    "        return False\n",
    "    \n"
   ]
  },
  {
   "cell_type": "code",
   "execution_count": 6,
   "metadata": {},
   "outputs": [],
   "source": [
    "def getstatus(frame):\n",
    "    global COUNTER\n",
    "    global EYE_AR_THRESH\n",
    "    global EYE_AR_CONSEC_FRAMES\n",
    "    global YAWN_THRESH\n",
    "    sleepy = False\n",
    "    yawn = False\n",
    "    dominant_emotion = getemotion(frame)\n",
    "    gray = cv2.cvtColor(frame, cv2.COLOR_BGR2GRAY)\n",
    "    rects = detector.detectMultiScale(gray, scaleFactor=1.1, \n",
    "\t\tminNeighbors=5, minSize=(30, 30),\n",
    "\t\tflags=cv2.CASCADE_SCALE_IMAGE)\n",
    "    print(rects)\n",
    "    for (x, y, w, h) in rects:\n",
    "        rect = dlib.rectangle(int(x), int(y), int(x + w),int(y + h))\n",
    "        \n",
    "        shape = predictor(gray, rect)\n",
    "        shape = face_utils.shape_to_np(shape)\n",
    "\n",
    "        eye = final_ear(shape)\n",
    "        ear = eye[0]\n",
    "        leftEye = eye [1]\n",
    "        rightEye = eye[2]\n",
    "\n",
    "        distance = lip_distance(shape)\n",
    "\n",
    "        leftEyeHull = cv2.convexHull(leftEye)\n",
    "        rightEyeHull = cv2.convexHull(rightEye)\n",
    "        cv2.drawContours(frame, [leftEyeHull], -1, (0, 255, 0), 1)\n",
    "        cv2.drawContours(frame, [rightEyeHull], -1, (0, 255, 0), 1)\n",
    "\n",
    "        lip = shape[48:60]\n",
    "        cv2.drawContours(frame, [lip], -1, (0, 255, 0), 1)\n",
    "\n",
    "        if ear < EYE_AR_THRESH:\n",
    "            COUNTER += 1\n",
    "            #print('sewy')\n",
    "\n",
    "            if COUNTER >= EYE_AR_CONSEC_FRAMES:\n",
    "                #print('oki')\n",
    "                if sleepy == False:\n",
    "                    sleepy = True\n",
    "                    #t = Thread(target=alarm, args=('wake up sir',))\n",
    "                    #t.deamon = True\n",
    "                    #t.start()\n",
    "\n",
    "                cv2.putText(frame, \"DROWSINESS ALERT!\", (10, 30),\n",
    "                            cv2.FONT_HERSHEY_SIMPLEX, 0.7, (0, 0, 255), 2)\n",
    "\n",
    "        else:\n",
    "            COUNTER = 0\n",
    "            sleepy = False\n",
    "\n",
    "        if (distance > YAWN_THRESH):\n",
    "                cv2.putText(frame, \"Yawn Alert\", (10, 30),\n",
    "                            cv2.FONT_HERSHEY_SIMPLEX, 0.7, (0, 0, 255), 2)\n",
    "                if yawn == False and saying == False:\n",
    "                    yawn = True\n",
    "                    #t = Thread(target=alarm, args=('take some fresh air sir',))\n",
    "                    #t.deamon = True\n",
    "                    #t.start()\n",
    "        else:\n",
    "            yawn = False\n",
    "\n",
    "        cv2.putText(frame, \"EAR: {:.2f}\".format(ear), (300, 30),\n",
    "                    cv2.FONT_HERSHEY_SIMPLEX, 0.7, (0, 0, 255), 2)\n",
    "        cv2.putText(frame, \"YAWN: {:.2f}\".format(distance), (300, 60),\n",
    "                    cv2.FONT_HERSHEY_SIMPLEX, 0.7, (0, 0, 255), 2)\n",
    "        print(yawn,sleepy)\n",
    "\n",
    "        \n",
    "        \n",
    "    final_data = {'sleepy': sleepy,\n",
    "                      'yawn': yawn,\n",
    "                      'dominant emotion': dominant_emotion}\n",
    "    print(final_data, 'kasgdagdajd')\n",
    "    return final_data\n",
    "    "
   ]
  },
  {
   "cell_type": "code",
   "execution_count": 7,
   "metadata": {},
   "outputs": [
    {
     "name": "stderr",
     "output_type": "stream",
     "text": [
      "2023-12-25 21:22:25.731 Python[70172:2369434] WARNING: Secure coding is not enabled for restorable state! Enable secure coding by implementing NSApplicationDelegate.applicationSupportsSecureRestorableState: and returning YES.\n"
     ]
    },
    {
     "name": "stdout",
     "output_type": "stream",
     "text": [
      "()\n",
      "{'sleepy': False, 'yawn': False, 'dominant emotion': False} kasgdagdajd\n",
      "False False\n"
     ]
    },
    {
     "name": "stderr",
     "output_type": "stream",
     "text": [
      "Action: emotion: 100%|██████████| 1/1 [00:00<00:00,  5.88it/s]\n"
     ]
    },
    {
     "name": "stdout",
     "output_type": "stream",
     "text": [
      "a major emotion\n",
      "[[215 103  57  57]]\n",
      "False False\n",
      "{'sleepy': False, 'yawn': False, 'dominant emotion': 'neutral'} kasgdagdajd\n",
      "False False\n"
     ]
    },
    {
     "name": "stderr",
     "output_type": "stream",
     "text": [
      "Action: emotion: 100%|██████████| 1/1 [00:00<00:00, 37.88it/s]\n"
     ]
    },
    {
     "name": "stdout",
     "output_type": "stream",
     "text": [
      "no major emotion\n",
      "[[182  91  60  60]]\n",
      "False False\n",
      "{'sleepy': False, 'yawn': False, 'dominant emotion': False} kasgdagdajd\n",
      "False False\n"
     ]
    },
    {
     "name": "stderr",
     "output_type": "stream",
     "text": [
      "Action: emotion: 100%|██████████| 1/1 [00:00<00:00, 38.17it/s]\n"
     ]
    },
    {
     "name": "stdout",
     "output_type": "stream",
     "text": [
      "a major emotion\n",
      "[[163  85  63  63]]\n",
      "False False\n",
      "{'sleepy': False, 'yawn': False, 'dominant emotion': 'fear'} kasgdagdajd\n",
      "False False\n"
     ]
    },
    {
     "name": "stderr",
     "output_type": "stream",
     "text": [
      "Action: emotion: 100%|██████████| 1/1 [00:00<00:00, 34.78it/s]\n"
     ]
    },
    {
     "name": "stdout",
     "output_type": "stream",
     "text": [
      "a major emotion\n",
      "[[142  77  66  66]]\n",
      "False False\n",
      "{'sleepy': False, 'yawn': False, 'dominant emotion': 'fear'} kasgdagdajd\n",
      "False False\n"
     ]
    },
    {
     "name": "stderr",
     "output_type": "stream",
     "text": [
      "Action: emotion: 100%|██████████| 1/1 [00:00<00:00, 36.21it/s]"
     ]
    },
    {
     "name": "stdout",
     "output_type": "stream",
     "text": [
      "a major emotion\n"
     ]
    },
    {
     "name": "stderr",
     "output_type": "stream",
     "text": [
      "\n"
     ]
    },
    {
     "name": "stdout",
     "output_type": "stream",
     "text": [
      "[[125  70  69  69]]\n",
      "False False\n",
      "{'sleepy': False, 'yawn': False, 'dominant emotion': 'sad'} kasgdagdajd\n",
      "False False\n"
     ]
    },
    {
     "name": "stderr",
     "output_type": "stream",
     "text": [
      "Action: emotion: 100%|██████████| 1/1 [00:00<00:00, 33.21it/s]\n"
     ]
    },
    {
     "name": "stdout",
     "output_type": "stream",
     "text": [
      "a major emotion\n",
      "[[118  62  75  75]]\n",
      "False False\n",
      "{'sleepy': False, 'yawn': False, 'dominant emotion': 'sad'} kasgdagdajd\n",
      "False False\n"
     ]
    },
    {
     "name": "stderr",
     "output_type": "stream",
     "text": [
      "Action: emotion: 100%|██████████| 1/1 [00:00<00:00, 40.13it/s]\n"
     ]
    },
    {
     "name": "stdout",
     "output_type": "stream",
     "text": [
      "a major emotion\n",
      "[[127  62  73  73]]\n",
      "False False\n",
      "{'sleepy': False, 'yawn': False, 'dominant emotion': 'neutral'} kasgdagdajd\n",
      "False False\n"
     ]
    },
    {
     "name": "stderr",
     "output_type": "stream",
     "text": [
      "Action: emotion: 100%|██████████| 1/1 [00:00<00:00, 38.80it/s]\n"
     ]
    },
    {
     "name": "stdout",
     "output_type": "stream",
     "text": [
      "a major emotion\n",
      "[[135  60  77  77]]\n",
      "False False\n",
      "{'sleepy': False, 'yawn': False, 'dominant emotion': 'neutral'} kasgdagdajd\n",
      "False False\n"
     ]
    },
    {
     "name": "stderr",
     "output_type": "stream",
     "text": [
      "Action: emotion: 100%|██████████| 1/1 [00:00<00:00, 41.32it/s]\n"
     ]
    },
    {
     "name": "stdout",
     "output_type": "stream",
     "text": [
      "a major emotion\n",
      "[[147  61  78  78]]\n",
      "False False\n",
      "{'sleepy': False, 'yawn': False, 'dominant emotion': 'neutral'} kasgdagdajd\n",
      "False False\n"
     ]
    },
    {
     "name": "stderr",
     "output_type": "stream",
     "text": [
      "Action: emotion: 100%|██████████| 1/1 [00:00<00:00, 40.80it/s]\n"
     ]
    },
    {
     "name": "stdout",
     "output_type": "stream",
     "text": [
      "a major emotion\n",
      "[[160  63  79  79]]\n",
      "False False\n",
      "{'sleepy': False, 'yawn': False, 'dominant emotion': 'neutral'} kasgdagdajd\n",
      "False False\n"
     ]
    },
    {
     "name": "stderr",
     "output_type": "stream",
     "text": [
      "Action: emotion: 100%|██████████| 1/1 [00:00<00:00, 40.37it/s]\n"
     ]
    },
    {
     "name": "stdout",
     "output_type": "stream",
     "text": [
      "a major emotion\n",
      "[[173  67  76  76]]\n",
      "False False\n",
      "{'sleepy': False, 'yawn': False, 'dominant emotion': 'neutral'} kasgdagdajd\n",
      "False False\n"
     ]
    },
    {
     "name": "stderr",
     "output_type": "stream",
     "text": [
      "Action: emotion: 100%|██████████| 1/1 [00:00<00:00, 39.93it/s]\n"
     ]
    },
    {
     "name": "stdout",
     "output_type": "stream",
     "text": [
      "a major emotion\n",
      "[[181  68  79  79]]\n",
      "False False\n",
      "{'sleepy': False, 'yawn': False, 'dominant emotion': 'neutral'} kasgdagdajd\n",
      "False False\n"
     ]
    },
    {
     "name": "stderr",
     "output_type": "stream",
     "text": [
      "Action: emotion: 100%|██████████| 1/1 [00:00<00:00, 39.16it/s]"
     ]
    },
    {
     "name": "stdout",
     "output_type": "stream",
     "text": [
      "a major emotion\n",
      "[[185  69  78  78]]\n",
      "False False\n",
      "{'sleepy': False, 'yawn': False, 'dominant emotion': 'neutral'} kasgdagdajd\n",
      "False False\n"
     ]
    },
    {
     "name": "stderr",
     "output_type": "stream",
     "text": [
      "\n",
      "Action: emotion: 100%|██████████| 1/1 [00:00<00:00, 37.30it/s]"
     ]
    },
    {
     "name": "stdout",
     "output_type": "stream",
     "text": [
      "a major emotion\n",
      "[[189  70  77  77]]\n"
     ]
    },
    {
     "name": "stderr",
     "output_type": "stream",
     "text": [
      "\n"
     ]
    },
    {
     "name": "stdout",
     "output_type": "stream",
     "text": [
      "False False\n",
      "{'sleepy': False, 'yawn': False, 'dominant emotion': 'neutral'} kasgdagdajd\n",
      "False False\n"
     ]
    },
    {
     "name": "stderr",
     "output_type": "stream",
     "text": [
      "Action: emotion: 100%|██████████| 1/1 [00:00<00:00, 39.98it/s]\n"
     ]
    },
    {
     "name": "stdout",
     "output_type": "stream",
     "text": [
      "a major emotion\n",
      "[[194  72  75  75]]\n",
      "False False\n",
      "{'sleepy': False, 'yawn': False, 'dominant emotion': 'neutral'} kasgdagdajd\n",
      "False False\n"
     ]
    },
    {
     "name": "stderr",
     "output_type": "stream",
     "text": [
      "Action: emotion: 100%|██████████| 1/1 [00:00<00:00, 41.55it/s]\n"
     ]
    },
    {
     "name": "stdout",
     "output_type": "stream",
     "text": [
      "no major emotion\n",
      "[[193  73  76  76]]\n",
      "False False\n",
      "{'sleepy': False, 'yawn': False, 'dominant emotion': False} kasgdagdajd\n",
      "False False\n"
     ]
    },
    {
     "name": "stderr",
     "output_type": "stream",
     "text": [
      "Action: emotion: 100%|██████████| 1/1 [00:00<00:00, 40.27it/s]\n"
     ]
    },
    {
     "name": "stdout",
     "output_type": "stream",
     "text": [
      "no major emotion\n",
      "[[195  74  74  74]]\n",
      "False False\n",
      "{'sleepy': False, 'yawn': False, 'dominant emotion': False} kasgdagdajd\n",
      "False False\n"
     ]
    },
    {
     "name": "stderr",
     "output_type": "stream",
     "text": [
      "Action: emotion: 100%|██████████| 1/1 [00:00<00:00, 41.06it/s]\n"
     ]
    },
    {
     "name": "stdout",
     "output_type": "stream",
     "text": [
      "a major emotion\n",
      "[[194  75  73  73]]\n",
      "False False\n",
      "{'sleepy': False, 'yawn': False, 'dominant emotion': 'neutral'} kasgdagdajd\n",
      "False False\n"
     ]
    },
    {
     "name": "stderr",
     "output_type": "stream",
     "text": [
      "Action: emotion: 100%|██████████| 1/1 [00:00<00:00, 31.32it/s]"
     ]
    },
    {
     "name": "stdout",
     "output_type": "stream",
     "text": [
      "no major emotion\n"
     ]
    },
    {
     "name": "stderr",
     "output_type": "stream",
     "text": [
      "\n"
     ]
    },
    {
     "name": "stdout",
     "output_type": "stream",
     "text": [
      "[[192  75  74  74]]\n",
      "False False\n",
      "{'sleepy': False, 'yawn': False, 'dominant emotion': False} kasgdagdajd\n",
      "False False\n"
     ]
    },
    {
     "name": "stderr",
     "output_type": "stream",
     "text": [
      "Action: emotion: 100%|██████████| 1/1 [00:00<00:00, 37.76it/s]\n"
     ]
    },
    {
     "name": "stdout",
     "output_type": "stream",
     "text": [
      "no major emotion\n",
      "[[191  77  72  72]]\n",
      "False False\n",
      "{'sleepy': False, 'yawn': False, 'dominant emotion': False} kasgdagdajd\n",
      "False False\n"
     ]
    },
    {
     "name": "stderr",
     "output_type": "stream",
     "text": [
      "Action: emotion: 100%|██████████| 1/1 [00:00<00:00, 40.38it/s]\n"
     ]
    },
    {
     "name": "stdout",
     "output_type": "stream",
     "text": [
      "a major emotion\n",
      "[[192  78  71  71]]\n",
      "False False\n",
      "{'sleepy': False, 'yawn': False, 'dominant emotion': 'sad'} kasgdagdajd\n",
      "False False\n"
     ]
    },
    {
     "name": "stderr",
     "output_type": "stream",
     "text": [
      "Action: emotion: 100%|██████████| 1/1 [00:00<00:00, 40.11it/s]\n"
     ]
    },
    {
     "name": "stdout",
     "output_type": "stream",
     "text": [
      "a major emotion\n",
      "[[191  78  71  71]]\n",
      "False False\n",
      "{'sleepy': False, 'yawn': False, 'dominant emotion': 'sad'} kasgdagdajd\n",
      "False False\n"
     ]
    },
    {
     "name": "stderr",
     "output_type": "stream",
     "text": [
      "Action: emotion: 100%|██████████| 1/1 [00:00<00:00, 40.70it/s]\n"
     ]
    },
    {
     "name": "stdout",
     "output_type": "stream",
     "text": [
      "no major emotion\n",
      "[[191  79  71  71]]\n",
      "False False\n",
      "{'sleepy': False, 'yawn': False, 'dominant emotion': False} kasgdagdajd\n",
      "False False\n"
     ]
    },
    {
     "name": "stderr",
     "output_type": "stream",
     "text": [
      "Action: emotion: 100%|██████████| 1/1 [00:00<00:00, 41.32it/s]\n"
     ]
    },
    {
     "name": "stdout",
     "output_type": "stream",
     "text": [
      "a major emotion\n",
      "[[191  79  71  71]]\n",
      "False False\n",
      "{'sleepy': False, 'yawn': False, 'dominant emotion': 'fear'} kasgdagdajd\n",
      "False False\n"
     ]
    },
    {
     "name": "stderr",
     "output_type": "stream",
     "text": [
      "Action: emotion: 100%|██████████| 1/1 [00:00<00:00, 40.82it/s]\n"
     ]
    },
    {
     "name": "stdout",
     "output_type": "stream",
     "text": [
      "a major emotion\n",
      "[[190  79  72  72]]\n",
      "False False\n",
      "{'sleepy': False, 'yawn': False, 'dominant emotion': 'sad'} kasgdagdajd\n",
      "False False\n"
     ]
    },
    {
     "name": "stderr",
     "output_type": "stream",
     "text": [
      "Action: emotion: 100%|██████████| 1/1 [00:00<00:00, 38.85it/s]\n"
     ]
    },
    {
     "name": "stdout",
     "output_type": "stream",
     "text": [
      "a major emotion\n",
      "[[190  80  70  70]]\n",
      "False False\n",
      "{'sleepy': False, 'yawn': False, 'dominant emotion': 'sad'} kasgdagdajd\n",
      "False False\n"
     ]
    },
    {
     "name": "stderr",
     "output_type": "stream",
     "text": [
      "Action: emotion: 100%|██████████| 1/1 [00:00<00:00, 40.56it/s]\n"
     ]
    },
    {
     "name": "stdout",
     "output_type": "stream",
     "text": [
      "no major emotion\n",
      "[[190  81  69  69]]\n",
      "False False\n",
      "{'sleepy': False, 'yawn': False, 'dominant emotion': False} kasgdagdajd\n",
      "False False\n"
     ]
    },
    {
     "name": "stderr",
     "output_type": "stream",
     "text": [
      "Action: emotion: 100%|██████████| 1/1 [00:00<00:00, 41.06it/s]\n"
     ]
    },
    {
     "name": "stdout",
     "output_type": "stream",
     "text": [
      "no major emotion\n",
      "[[188  79  70  70]]\n",
      "False False\n",
      "{'sleepy': False, 'yawn': False, 'dominant emotion': False} kasgdagdajd\n",
      "False False\n"
     ]
    },
    {
     "name": "stderr",
     "output_type": "stream",
     "text": [
      "Action: emotion: 100%|██████████| 1/1 [00:00<00:00, 40.77it/s]\n"
     ]
    },
    {
     "name": "stdout",
     "output_type": "stream",
     "text": [
      "no major emotion\n",
      "[[187  78  72  72]]\n",
      "False False\n",
      "{'sleepy': False, 'yawn': False, 'dominant emotion': False} kasgdagdajd\n",
      "False False\n"
     ]
    },
    {
     "name": "stderr",
     "output_type": "stream",
     "text": [
      "Action: emotion: 100%|██████████| 1/1 [00:00<00:00, 32.60it/s]"
     ]
    },
    {
     "name": "stdout",
     "output_type": "stream",
     "text": [
      "no major emotion\n",
      "[[189  80  70  70]]\n",
      "False False\n",
      "{'sleepy': False, 'yawn': False, 'dominant emotion': False} kasgdagdajd\n"
     ]
    },
    {
     "name": "stderr",
     "output_type": "stream",
     "text": [
      "\n"
     ]
    },
    {
     "name": "stdout",
     "output_type": "stream",
     "text": [
      "False False\n"
     ]
    },
    {
     "name": "stderr",
     "output_type": "stream",
     "text": [
      "Action: emotion: 100%|██████████| 1/1 [00:00<00:00, 39.22it/s]\n"
     ]
    },
    {
     "name": "stdout",
     "output_type": "stream",
     "text": [
      "no major emotion\n",
      "[[188  80  70  70]]\n",
      "False False\n",
      "{'sleepy': False, 'yawn': False, 'dominant emotion': False} kasgdagdajd\n",
      "False False\n"
     ]
    },
    {
     "name": "stderr",
     "output_type": "stream",
     "text": [
      "Action: emotion: 100%|██████████| 1/1 [00:00<00:00, 37.31it/s]\n"
     ]
    },
    {
     "name": "stdout",
     "output_type": "stream",
     "text": [
      "a major emotion\n",
      "[[187  79  71  71]]\n",
      "False False\n",
      "{'sleepy': False, 'yawn': False, 'dominant emotion': 'sad'} kasgdagdajd\n",
      "False False\n"
     ]
    },
    {
     "name": "stderr",
     "output_type": "stream",
     "text": [
      "Action: emotion: 100%|██████████| 1/1 [00:00<00:00, 40.98it/s]\n"
     ]
    },
    {
     "name": "stdout",
     "output_type": "stream",
     "text": [
      "a major emotion\n",
      "[[187  78  71  71]]\n",
      "False False\n",
      "{'sleepy': False, 'yawn': False, 'dominant emotion': 'neutral'} kasgdagdajd\n",
      "False False\n"
     ]
    },
    {
     "name": "stderr",
     "output_type": "stream",
     "text": [
      "Action: emotion: 100%|██████████| 1/1 [00:00<00:00, 40.09it/s]\n"
     ]
    },
    {
     "name": "stdout",
     "output_type": "stream",
     "text": [
      "a major emotion\n",
      "[[187  78  70  70]]\n",
      "False False\n",
      "{'sleepy': False, 'yawn': False, 'dominant emotion': 'neutral'} kasgdagdajd\n",
      "False False\n"
     ]
    },
    {
     "name": "stderr",
     "output_type": "stream",
     "text": [
      "Action: emotion: 100%|██████████| 1/1 [00:00<00:00, 39.71it/s]\n"
     ]
    },
    {
     "name": "stdout",
     "output_type": "stream",
     "text": [
      "a major emotion\n",
      "[[186  78  70  70]]\n",
      "False False\n",
      "{'sleepy': False, 'yawn': False, 'dominant emotion': 'sad'} kasgdagdajd\n",
      "False False\n"
     ]
    },
    {
     "name": "stderr",
     "output_type": "stream",
     "text": [
      "Action: emotion: 100%|██████████| 1/1 [00:00<00:00, 39.75it/s]\n"
     ]
    },
    {
     "name": "stdout",
     "output_type": "stream",
     "text": [
      "no major emotion\n",
      "[[187  78  69  69]]\n",
      "False False\n",
      "{'sleepy': False, 'yawn': False, 'dominant emotion': False} kasgdagdajd\n",
      "False False\n"
     ]
    },
    {
     "name": "stderr",
     "output_type": "stream",
     "text": [
      "Action: emotion: 100%|██████████| 1/1 [00:00<00:00, 40.38it/s]\n"
     ]
    },
    {
     "name": "stdout",
     "output_type": "stream",
     "text": [
      "a major emotion\n",
      "[[186  78  69  69]]\n",
      "False False\n",
      "{'sleepy': False, 'yawn': False, 'dominant emotion': 'sad'} kasgdagdajd\n",
      "False False\n"
     ]
    },
    {
     "name": "stderr",
     "output_type": "stream",
     "text": [
      "Action: emotion: 100%|██████████| 1/1 [00:00<00:00, 38.71it/s]"
     ]
    },
    {
     "name": "stdout",
     "output_type": "stream",
     "text": [
      "no major emotion\n",
      "[[187  78  70  70]]\n"
     ]
    },
    {
     "name": "stderr",
     "output_type": "stream",
     "text": [
      "\n"
     ]
    },
    {
     "name": "stdout",
     "output_type": "stream",
     "text": [
      "False False\n",
      "{'sleepy': False, 'yawn': False, 'dominant emotion': False} kasgdagdajd\n",
      "False False\n"
     ]
    },
    {
     "name": "stderr",
     "output_type": "stream",
     "text": [
      "Action: emotion: 100%|██████████| 1/1 [00:00<00:00, 40.10it/s]\n"
     ]
    },
    {
     "name": "stdout",
     "output_type": "stream",
     "text": [
      "no major emotion\n",
      "[[186  77  71  71]]\n",
      "False False\n",
      "{'sleepy': False, 'yawn': False, 'dominant emotion': False} kasgdagdajd\n",
      "False False\n"
     ]
    },
    {
     "name": "stderr",
     "output_type": "stream",
     "text": [
      "Action: emotion: 100%|██████████| 1/1 [00:00<00:00, 39.91it/s]"
     ]
    },
    {
     "name": "stdout",
     "output_type": "stream",
     "text": [
      "a major emotion\n",
      "[[186  77  71  71]]\n"
     ]
    },
    {
     "name": "stderr",
     "output_type": "stream",
     "text": [
      "\n"
     ]
    },
    {
     "name": "stdout",
     "output_type": "stream",
     "text": [
      "False False\n",
      "{'sleepy': False, 'yawn': False, 'dominant emotion': 'sad'} kasgdagdajd\n",
      "False False\n"
     ]
    },
    {
     "name": "stderr",
     "output_type": "stream",
     "text": [
      "Action: emotion: 100%|██████████| 1/1 [00:00<00:00, 30.83it/s]"
     ]
    },
    {
     "name": "stdout",
     "output_type": "stream",
     "text": [
      "a major emotion\n"
     ]
    },
    {
     "name": "stderr",
     "output_type": "stream",
     "text": [
      "\n"
     ]
    },
    {
     "name": "stdout",
     "output_type": "stream",
     "text": [
      "[[185  77  71  71]]\n",
      "False False\n",
      "{'sleepy': False, 'yawn': False, 'dominant emotion': 'sad'} kasgdagdajd\n",
      "False False\n"
     ]
    },
    {
     "name": "stderr",
     "output_type": "stream",
     "text": [
      "Action: emotion: 100%|██████████| 1/1 [00:00<00:00, 38.54it/s]\n"
     ]
    },
    {
     "name": "stdout",
     "output_type": "stream",
     "text": [
      "no major emotion\n",
      "[[186  77  71  71]]\n",
      "False False\n",
      "{'sleepy': False, 'yawn': False, 'dominant emotion': False} kasgdagdajd\n",
      "False False\n"
     ]
    },
    {
     "name": "stderr",
     "output_type": "stream",
     "text": [
      "Action: emotion: 100%|██████████| 1/1 [00:00<00:00, 38.85it/s]\n"
     ]
    },
    {
     "name": "stdout",
     "output_type": "stream",
     "text": [
      "a major emotion\n",
      "[[184  77  72  72]]\n",
      "False False\n",
      "{'sleepy': False, 'yawn': False, 'dominant emotion': 'sad'} kasgdagdajd\n",
      "False False\n"
     ]
    },
    {
     "name": "stderr",
     "output_type": "stream",
     "text": [
      "Action: emotion: 100%|██████████| 1/1 [00:00<00:00, 38.43it/s]\n"
     ]
    },
    {
     "name": "stdout",
     "output_type": "stream",
     "text": [
      "a major emotion\n",
      "[[185  78  71  71]]\n",
      "False False\n",
      "{'sleepy': False, 'yawn': False, 'dominant emotion': 'sad'} kasgdagdajd\n",
      "False False\n"
     ]
    },
    {
     "name": "stderr",
     "output_type": "stream",
     "text": [
      "Action: emotion: 100%|██████████| 1/1 [00:00<00:00, 39.00it/s]"
     ]
    },
    {
     "name": "stdout",
     "output_type": "stream",
     "text": [
      "a major emotion\n",
      "[[186  79  70  70]]\n",
      "False False\n",
      "{'sleepy': False, 'yawn': False, 'dominant emotion': 'sad'} kasgdagdajd\n"
     ]
    },
    {
     "name": "stderr",
     "output_type": "stream",
     "text": [
      "\n"
     ]
    },
    {
     "name": "stdout",
     "output_type": "stream",
     "text": [
      "False False\n"
     ]
    },
    {
     "name": "stderr",
     "output_type": "stream",
     "text": [
      "Action: emotion: 100%|██████████| 1/1 [00:00<00:00, 40.33it/s]\n"
     ]
    },
    {
     "name": "stdout",
     "output_type": "stream",
     "text": [
      "a major emotion\n",
      "[[185  78  72  72]]\n",
      "False False\n",
      "{'sleepy': False, 'yawn': False, 'dominant emotion': 'sad'} kasgdagdajd\n",
      "False False\n"
     ]
    },
    {
     "name": "stderr",
     "output_type": "stream",
     "text": [
      "Action: emotion: 100%|██████████| 1/1 [00:00<00:00, 39.28it/s]\n"
     ]
    },
    {
     "name": "stdout",
     "output_type": "stream",
     "text": [
      "no major emotion\n",
      "[[185  78  71  71]]\n",
      "False False\n",
      "{'sleepy': False, 'yawn': False, 'dominant emotion': False} kasgdagdajd\n",
      "False False\n"
     ]
    },
    {
     "name": "stderr",
     "output_type": "stream",
     "text": [
      "Action: emotion: 100%|██████████| 1/1 [00:00<00:00, 40.92it/s]"
     ]
    },
    {
     "name": "stdout",
     "output_type": "stream",
     "text": [
      "a major emotion\n",
      "[[185  79  72  72]]\n",
      "False False\n",
      "{'sleepy': False, 'yawn': False, 'dominant emotion': 'sad'} kasgdagdajd\n",
      "False False\n"
     ]
    },
    {
     "name": "stderr",
     "output_type": "stream",
     "text": [
      "\n",
      "Action: emotion: 100%|██████████| 1/1 [00:00<00:00, 39.31it/s]\n"
     ]
    },
    {
     "name": "stdout",
     "output_type": "stream",
     "text": [
      "a major emotion\n",
      "[[185  79  72  72]]\n",
      "False False\n",
      "{'sleepy': False, 'yawn': False, 'dominant emotion': 'sad'} kasgdagdajd\n",
      "False False\n"
     ]
    },
    {
     "name": "stderr",
     "output_type": "stream",
     "text": [
      "Action: emotion: 100%|██████████| 1/1 [00:00<00:00, 30.46it/s]"
     ]
    },
    {
     "name": "stdout",
     "output_type": "stream",
     "text": [
      "a major emotion\n",
      "[[186  80  70  70]]\n",
      "False False\n",
      "{'sleepy': False, 'yawn': False, 'dominant emotion': 'sad'} kasgdagdajd\n"
     ]
    },
    {
     "name": "stderr",
     "output_type": "stream",
     "text": [
      "\n"
     ]
    },
    {
     "name": "stdout",
     "output_type": "stream",
     "text": [
      "False False\n"
     ]
    },
    {
     "name": "stderr",
     "output_type": "stream",
     "text": [
      "Action: emotion: 100%|██████████| 1/1 [00:00<00:00, 38.18it/s]\n"
     ]
    },
    {
     "name": "stdout",
     "output_type": "stream",
     "text": [
      "no major emotion\n",
      "[[185  79  73  73]]\n",
      "False False\n",
      "{'sleepy': False, 'yawn': False, 'dominant emotion': False} kasgdagdajd\n",
      "False False\n"
     ]
    },
    {
     "name": "stderr",
     "output_type": "stream",
     "text": [
      "Action: emotion: 100%|██████████| 1/1 [00:00<00:00, 40.28it/s]\n"
     ]
    },
    {
     "name": "stdout",
     "output_type": "stream",
     "text": [
      "a major emotion\n",
      "[[185  79  71  71]]\n",
      "False True\n",
      "{'sleepy': True, 'yawn': False, 'dominant emotion': 'neutral'} kasgdagdajd\n",
      "True False\n"
     ]
    },
    {
     "name": "stderr",
     "output_type": "stream",
     "text": [
      "Action: emotion: 100%|██████████| 1/1 [00:00<00:00, 39.27it/s]\n"
     ]
    },
    {
     "name": "stdout",
     "output_type": "stream",
     "text": [
      "a major emotion\n",
      "[[187  80  70  70]]\n",
      "False True\n",
      "{'sleepy': True, 'yawn': False, 'dominant emotion': 'sad'} kasgdagdajd\n",
      "True False\n"
     ]
    },
    {
     "name": "stderr",
     "output_type": "stream",
     "text": [
      "Action: emotion: 100%|██████████| 1/1 [00:00<00:00, 39.91it/s]\n"
     ]
    },
    {
     "name": "stdout",
     "output_type": "stream",
     "text": [
      "a major emotion\n",
      "[[188  80  70  70]]\n",
      "False True\n",
      "{'sleepy': True, 'yawn': False, 'dominant emotion': 'sad'} kasgdagdajd\n",
      "True False\n"
     ]
    },
    {
     "name": "stderr",
     "output_type": "stream",
     "text": [
      "Action: emotion: 100%|██████████| 1/1 [00:00<00:00, 40.34it/s]\n"
     ]
    },
    {
     "name": "stdout",
     "output_type": "stream",
     "text": [
      "no major emotion\n",
      "[[188  79  70  70]]\n",
      "False True\n",
      "{'sleepy': True, 'yawn': False, 'dominant emotion': False} kasgdagdajd\n",
      "True False\n"
     ]
    },
    {
     "name": "stderr",
     "output_type": "stream",
     "text": [
      "Action: emotion: 100%|██████████| 1/1 [00:00<00:00, 38.45it/s]\n"
     ]
    },
    {
     "name": "stdout",
     "output_type": "stream",
     "text": [
      "a major emotion\n",
      "[[187  79  72  72]]\n",
      "False True\n",
      "{'sleepy': True, 'yawn': False, 'dominant emotion': 'sad'} kasgdagdajd\n",
      "True False\n"
     ]
    },
    {
     "name": "stderr",
     "output_type": "stream",
     "text": [
      "Action: emotion: 100%|██████████| 1/1 [00:00<00:00, 39.85it/s]\n"
     ]
    },
    {
     "name": "stdout",
     "output_type": "stream",
     "text": [
      "no major emotion\n",
      "[[187  79  70  70]]\n",
      "False True\n",
      "{'sleepy': True, 'yawn': False, 'dominant emotion': False} kasgdagdajd\n",
      "True False\n"
     ]
    },
    {
     "name": "stderr",
     "output_type": "stream",
     "text": [
      "Action: emotion: 100%|██████████| 1/1 [00:00<00:00, 39.56it/s]\n"
     ]
    },
    {
     "name": "stdout",
     "output_type": "stream",
     "text": [
      "no major emotion\n",
      "[[187  79  71  71]]\n",
      "False True\n",
      "{'sleepy': True, 'yawn': False, 'dominant emotion': False} kasgdagdajd\n",
      "slpehf\n",
      "False\n",
      "False False\n"
     ]
    },
    {
     "name": "stderr",
     "output_type": "stream",
     "text": [
      "Action: emotion: 100%|██████████| 1/1 [00:00<00:00, 38.61it/s]\n"
     ]
    },
    {
     "name": "stdout",
     "output_type": "stream",
     "text": [
      "a major emotion\n",
      "[[192  75  69  69]]\n",
      "False True\n",
      "{'sleepy': True, 'yawn': False, 'dominant emotion': 'neutral'} kasgdagdajd\n",
      "True False\n"
     ]
    },
    {
     "name": "stderr",
     "output_type": "stream",
     "text": [
      "Action: emotion: 100%|██████████| 1/1 [00:00<00:00, 39.83it/s]\n"
     ]
    },
    {
     "name": "stdout",
     "output_type": "stream",
     "text": [
      "a major emotion\n",
      "[[192  75  69  69]]\n",
      "False True\n",
      "{'sleepy': True, 'yawn': False, 'dominant emotion': 'neutral'} kasgdagdajd\n",
      "True False\n"
     ]
    },
    {
     "name": "stderr",
     "output_type": "stream",
     "text": [
      "Action: emotion: 100%|██████████| 1/1 [00:00<00:00, 30.85it/s]\n"
     ]
    },
    {
     "name": "stdout",
     "output_type": "stream",
     "text": [
      "a major emotion\n",
      "[[193  76  68  68]]\n",
      "False False\n",
      "{'sleepy': False, 'yawn': False, 'dominant emotion': 'neutral'} kasgdagdajd\n",
      "False False\n"
     ]
    },
    {
     "name": "stderr",
     "output_type": "stream",
     "text": [
      "Action: emotion: 100%|██████████| 1/1 [00:00<00:00, 37.72it/s]\n"
     ]
    },
    {
     "name": "stdout",
     "output_type": "stream",
     "text": [
      "a major emotion\n",
      "[[192  75  70  70]]\n",
      "False False\n",
      "{'sleepy': False, 'yawn': False, 'dominant emotion': 'neutral'} kasgdagdajd\n",
      "False False\n"
     ]
    },
    {
     "name": "stderr",
     "output_type": "stream",
     "text": [
      "Action: emotion: 100%|██████████| 1/1 [00:00<00:00, 39.36it/s]\n"
     ]
    },
    {
     "name": "stdout",
     "output_type": "stream",
     "text": [
      "a major emotion\n",
      "[[190  75  71  71]]\n",
      "False False\n",
      "{'sleepy': False, 'yawn': False, 'dominant emotion': 'neutral'} kasgdagdajd\n",
      "False False\n"
     ]
    },
    {
     "name": "stderr",
     "output_type": "stream",
     "text": [
      "Action: emotion: 100%|██████████| 1/1 [00:00<00:00, 39.44it/s]\n"
     ]
    },
    {
     "name": "stdout",
     "output_type": "stream",
     "text": [
      "a major emotion\n",
      "[[190  75  71  71]]\n",
      "False False\n",
      "{'sleepy': False, 'yawn': False, 'dominant emotion': 'neutral'} kasgdagdajd\n",
      "False False\n"
     ]
    },
    {
     "name": "stderr",
     "output_type": "stream",
     "text": [
      "Action: emotion: 100%|██████████| 1/1 [00:00<00:00, 40.04it/s]\n"
     ]
    },
    {
     "name": "stdout",
     "output_type": "stream",
     "text": [
      "a major emotion\n",
      "[[191  75  70  70]]\n",
      "False False\n",
      "{'sleepy': False, 'yawn': False, 'dominant emotion': 'neutral'} kasgdagdajd\n",
      "False False\n"
     ]
    },
    {
     "name": "stderr",
     "output_type": "stream",
     "text": [
      "Action: emotion: 100%|██████████| 1/1 [00:00<00:00, 39.16it/s]"
     ]
    },
    {
     "name": "stdout",
     "output_type": "stream",
     "text": [
      "a major emotion\n",
      "[[191  75  70  70]]\n",
      "False False\n",
      "{'sleepy': False, 'yawn': False, 'dominant emotion': 'neutral'} kasgdagdajd\n"
     ]
    },
    {
     "name": "stderr",
     "output_type": "stream",
     "text": [
      "\n"
     ]
    },
    {
     "name": "stdout",
     "output_type": "stream",
     "text": [
      "False False\n"
     ]
    },
    {
     "name": "stderr",
     "output_type": "stream",
     "text": [
      "Action: emotion: 100%|██████████| 1/1 [00:00<00:00, 39.78it/s]\n"
     ]
    },
    {
     "name": "stdout",
     "output_type": "stream",
     "text": [
      "no major emotion\n",
      "[[190  75  71  71]]\n",
      "False False\n",
      "{'sleepy': False, 'yawn': False, 'dominant emotion': False} kasgdagdajd\n",
      "False False\n"
     ]
    },
    {
     "name": "stderr",
     "output_type": "stream",
     "text": [
      "Action: emotion: 100%|██████████| 1/1 [00:00<00:00, 37.80it/s]\n"
     ]
    },
    {
     "name": "stdout",
     "output_type": "stream",
     "text": [
      "a major emotion\n",
      "[[190  75  70  70]]\n",
      "False False\n",
      "{'sleepy': False, 'yawn': False, 'dominant emotion': 'neutral'} kasgdagdajd\n",
      "False False\n"
     ]
    },
    {
     "name": "stderr",
     "output_type": "stream",
     "text": [
      "Action: emotion: 100%|██████████| 1/1 [00:00<00:00, 37.83it/s]\n"
     ]
    },
    {
     "name": "stdout",
     "output_type": "stream",
     "text": [
      "a major emotion\n",
      "[[191  76  69  69]]\n",
      "False False\n",
      "{'sleepy': False, 'yawn': False, 'dominant emotion': 'neutral'} kasgdagdajd\n",
      "False False\n"
     ]
    },
    {
     "name": "stderr",
     "output_type": "stream",
     "text": [
      "Action: emotion: 100%|██████████| 1/1 [00:00<00:00, 39.36it/s]"
     ]
    },
    {
     "name": "stdout",
     "output_type": "stream",
     "text": [
      "a major emotion\n",
      "[[191  76  68  68]]\n",
      "False False\n",
      "{'sleepy': False, 'yawn': False, 'dominant emotion': 'neutral'} kasgdagdajd\n"
     ]
    },
    {
     "name": "stderr",
     "output_type": "stream",
     "text": [
      "\n"
     ]
    },
    {
     "name": "stdout",
     "output_type": "stream",
     "text": [
      "False False\n"
     ]
    },
    {
     "name": "stderr",
     "output_type": "stream",
     "text": [
      "Action: emotion: 100%|██████████| 1/1 [00:00<00:00, 30.52it/s]\n"
     ]
    },
    {
     "name": "stdout",
     "output_type": "stream",
     "text": [
      "a major emotion\n",
      "[[191  76  68  68]]\n",
      "False False\n",
      "{'sleepy': False, 'yawn': False, 'dominant emotion': 'neutral'} kasgdagdajd\n",
      "False False\n"
     ]
    },
    {
     "name": "stderr",
     "output_type": "stream",
     "text": [
      "Action: emotion: 100%|██████████| 1/1 [00:00<00:00, 39.74it/s]\n"
     ]
    },
    {
     "name": "stdout",
     "output_type": "stream",
     "text": [
      "a major emotion\n",
      "[[192  77  67  67]]\n",
      "False False\n",
      "{'sleepy': False, 'yawn': False, 'dominant emotion': 'neutral'} kasgdagdajd\n",
      "False False\n"
     ]
    },
    {
     "name": "stderr",
     "output_type": "stream",
     "text": [
      "Action: emotion: 100%|██████████| 1/1 [00:00<00:00, 39.58it/s]\n"
     ]
    },
    {
     "name": "stdout",
     "output_type": "stream",
     "text": [
      "a major emotion\n",
      "[[191  77  68  68]]\n",
      "False False\n",
      "{'sleepy': False, 'yawn': False, 'dominant emotion': 'neutral'} kasgdagdajd\n",
      "False False\n"
     ]
    },
    {
     "name": "stderr",
     "output_type": "stream",
     "text": [
      "Action: emotion: 100%|██████████| 1/1 [00:00<00:00, 36.98it/s]\n"
     ]
    },
    {
     "name": "stdout",
     "output_type": "stream",
     "text": [
      "a major emotion\n",
      "[[191  77  68  68]]\n",
      "False False\n",
      "{'sleepy': False, 'yawn': False, 'dominant emotion': 'neutral'} kasgdagdajd\n",
      "False False\n"
     ]
    },
    {
     "name": "stderr",
     "output_type": "stream",
     "text": [
      "Action: emotion: 100%|██████████| 1/1 [00:00<00:00, 38.64it/s]\n"
     ]
    },
    {
     "name": "stdout",
     "output_type": "stream",
     "text": [
      "a major emotion\n",
      "[[189  76  69  69]]\n",
      "False False\n",
      "{'sleepy': False, 'yawn': False, 'dominant emotion': 'neutral'} kasgdagdajd\n",
      "False False\n"
     ]
    },
    {
     "name": "stderr",
     "output_type": "stream",
     "text": [
      "Action: emotion: 100%|██████████| 1/1 [00:00<00:00, 39.63it/s]\n"
     ]
    },
    {
     "name": "stdout",
     "output_type": "stream",
     "text": [
      "a major emotion\n",
      "[[189  76  69  69]]\n",
      "False False\n",
      "{'sleepy': False, 'yawn': False, 'dominant emotion': 'neutral'} kasgdagdajd\n",
      "False False\n"
     ]
    },
    {
     "name": "stderr",
     "output_type": "stream",
     "text": [
      "Action: emotion: 100%|██████████| 1/1 [00:00<00:00, 37.61it/s]\n"
     ]
    },
    {
     "name": "stdout",
     "output_type": "stream",
     "text": [
      "a major emotion\n",
      "[[188  75  70  70]]\n",
      "False False\n",
      "{'sleepy': False, 'yawn': False, 'dominant emotion': 'neutral'} kasgdagdajd\n",
      "False False\n"
     ]
    },
    {
     "name": "stderr",
     "output_type": "stream",
     "text": [
      "Action: emotion: 100%|██████████| 1/1 [00:00<00:00, 40.12it/s]\n"
     ]
    },
    {
     "name": "stdout",
     "output_type": "stream",
     "text": [
      "a major emotion\n",
      "[[189  76  69  69]]\n",
      "False False\n",
      "{'sleepy': False, 'yawn': False, 'dominant emotion': 'neutral'} kasgdagdajd\n",
      "False False\n"
     ]
    },
    {
     "name": "stderr",
     "output_type": "stream",
     "text": [
      "Action: emotion: 100%|██████████| 1/1 [00:00<00:00, 39.55it/s]\n"
     ]
    },
    {
     "name": "stdout",
     "output_type": "stream",
     "text": [
      "a major emotion\n",
      "[[188  75  71  71]]\n",
      "False False\n",
      "{'sleepy': False, 'yawn': False, 'dominant emotion': 'neutral'} kasgdagdajd\n",
      "False False\n"
     ]
    },
    {
     "name": "stderr",
     "output_type": "stream",
     "text": [
      "Action: emotion: 100%|██████████| 1/1 [00:00<00:00, 36.60it/s]"
     ]
    },
    {
     "name": "stdout",
     "output_type": "stream",
     "text": [
      "a major emotion\n",
      "[[188  75  71  71]]\n"
     ]
    },
    {
     "name": "stderr",
     "output_type": "stream",
     "text": [
      "\n"
     ]
    },
    {
     "name": "stdout",
     "output_type": "stream",
     "text": [
      "False False\n",
      "{'sleepy': False, 'yawn': False, 'dominant emotion': 'neutral'} kasgdagdajd\n",
      "False False\n"
     ]
    },
    {
     "name": "stderr",
     "output_type": "stream",
     "text": [
      "Action: emotion: 100%|██████████| 1/1 [00:00<00:00, 39.96it/s]\n"
     ]
    },
    {
     "name": "stdout",
     "output_type": "stream",
     "text": [
      "a major emotion\n",
      "[[188  75  71  71]]\n",
      "False False\n",
      "{'sleepy': False, 'yawn': False, 'dominant emotion': 'neutral'} kasgdagdajd\n",
      "False False\n"
     ]
    },
    {
     "name": "stderr",
     "output_type": "stream",
     "text": [
      "Action: emotion: 100%|██████████| 1/1 [00:00<00:00, 37.08it/s]\n"
     ]
    },
    {
     "name": "stdout",
     "output_type": "stream",
     "text": [
      "a major emotion\n",
      "[[188  75  71  71]]\n",
      "False False\n",
      "{'sleepy': False, 'yawn': False, 'dominant emotion': 'neutral'} kasgdagdajd\n",
      "False False\n"
     ]
    },
    {
     "name": "stderr",
     "output_type": "stream",
     "text": [
      "Action: emotion: 100%|██████████| 1/1 [00:00<00:00, 39.77it/s]\n"
     ]
    },
    {
     "name": "stdout",
     "output_type": "stream",
     "text": [
      "a major emotion\n",
      "[[188  75  70  70]]\n",
      "False False\n",
      "{'sleepy': False, 'yawn': False, 'dominant emotion': 'neutral'} kasgdagdajd\n",
      "False False\n"
     ]
    },
    {
     "name": "stderr",
     "output_type": "stream",
     "text": [
      "Action: emotion: 100%|██████████| 1/1 [00:00<00:00, 38.01it/s]\n"
     ]
    },
    {
     "name": "stdout",
     "output_type": "stream",
     "text": [
      "no major emotion\n",
      "[[188  76  70  70]]\n",
      "False False\n",
      "{'sleepy': False, 'yawn': False, 'dominant emotion': False} kasgdagdajd\n",
      "False False\n"
     ]
    },
    {
     "name": "stderr",
     "output_type": "stream",
     "text": [
      "Action: emotion: 100%|██████████| 1/1 [00:00<00:00, 39.75it/s]\n"
     ]
    },
    {
     "name": "stdout",
     "output_type": "stream",
     "text": [
      "no major emotion\n",
      "[[188  76  70  70]]\n",
      "False False\n",
      "{'sleepy': False, 'yawn': False, 'dominant emotion': False} kasgdagdajd\n",
      "False False\n"
     ]
    },
    {
     "name": "stderr",
     "output_type": "stream",
     "text": [
      "Action: emotion: 100%|██████████| 1/1 [00:00<00:00, 37.51it/s]\n"
     ]
    },
    {
     "name": "stdout",
     "output_type": "stream",
     "text": [
      "a major emotion\n",
      "[[189  76  70  70]]\n",
      "False False\n",
      "{'sleepy': False, 'yawn': False, 'dominant emotion': 'neutral'} kasgdagdajd\n",
      "False False\n"
     ]
    },
    {
     "name": "stderr",
     "output_type": "stream",
     "text": [
      "Action: emotion: 100%|██████████| 1/1 [00:00<00:00, 38.74it/s]\n"
     ]
    },
    {
     "name": "stdout",
     "output_type": "stream",
     "text": [
      "a major emotion\n",
      "[[188  74  72  72]]\n",
      "False False\n",
      "{'sleepy': False, 'yawn': False, 'dominant emotion': 'surprise'} kasgdagdajd\n",
      "False False\n"
     ]
    },
    {
     "name": "stderr",
     "output_type": "stream",
     "text": [
      "Action: emotion: 100%|██████████| 1/1 [00:00<00:00, 38.54it/s]\n"
     ]
    },
    {
     "name": "stdout",
     "output_type": "stream",
     "text": [
      "a major emotion\n",
      "[[187  73  73  73]]\n",
      "False False\n",
      "{'sleepy': False, 'yawn': False, 'dominant emotion': 'surprise'} kasgdagdajd\n",
      "False False\n"
     ]
    },
    {
     "name": "stderr",
     "output_type": "stream",
     "text": [
      "Action: emotion: 100%|██████████| 1/1 [00:00<00:00, 39.17it/s]\n"
     ]
    },
    {
     "name": "stdout",
     "output_type": "stream",
     "text": [
      "a major emotion\n",
      "[[188  73  72  72]]\n",
      "False False\n",
      "{'sleepy': False, 'yawn': False, 'dominant emotion': 'surprise'} kasgdagdajd\n",
      "False False\n"
     ]
    },
    {
     "name": "stderr",
     "output_type": "stream",
     "text": [
      "Action: emotion: 100%|██████████| 1/1 [00:00<00:00, 39.16it/s]\n"
     ]
    },
    {
     "name": "stdout",
     "output_type": "stream",
     "text": [
      "a major emotion\n",
      "[[188  73  71  71]]\n",
      "False False\n",
      "{'sleepy': False, 'yawn': False, 'dominant emotion': 'surprise'} kasgdagdajd\n",
      "False False\n"
     ]
    },
    {
     "name": "stderr",
     "output_type": "stream",
     "text": [
      "Action: emotion: 100%|██████████| 1/1 [00:00<00:00, 39.46it/s]\n"
     ]
    },
    {
     "name": "stdout",
     "output_type": "stream",
     "text": [
      "a major emotion\n",
      "[[187  73  73  73]]\n",
      "False False\n",
      "{'sleepy': False, 'yawn': False, 'dominant emotion': 'surprise'} kasgdagdajd\n",
      "False False\n"
     ]
    },
    {
     "name": "stderr",
     "output_type": "stream",
     "text": [
      "Action: emotion: 100%|██████████| 1/1 [00:00<00:00, 36.75it/s]"
     ]
    },
    {
     "name": "stdout",
     "output_type": "stream",
     "text": [
      "a major emotion\n",
      "[[188  73  72  72]]\n",
      "False False\n",
      "{'sleepy': False, 'yawn': False, 'dominant emotion': 'surprise'} kasgdagdajd\n",
      "False False\n"
     ]
    },
    {
     "name": "stderr",
     "output_type": "stream",
     "text": [
      "\n",
      "Action: emotion: 100%|██████████| 1/1 [00:00<00:00, 38.45it/s]"
     ]
    },
    {
     "name": "stdout",
     "output_type": "stream",
     "text": [
      "a major emotion\n",
      "[[188  74  71  71]]\n"
     ]
    },
    {
     "name": "stderr",
     "output_type": "stream",
     "text": [
      "\n"
     ]
    },
    {
     "name": "stdout",
     "output_type": "stream",
     "text": [
      "False False\n",
      "{'sleepy': False, 'yawn': False, 'dominant emotion': 'surprise'} kasgdagdajd\n",
      "False False\n"
     ]
    },
    {
     "name": "stderr",
     "output_type": "stream",
     "text": [
      "Action: emotion: 100%|██████████| 1/1 [00:00<00:00, 36.60it/s]\n"
     ]
    },
    {
     "name": "stdout",
     "output_type": "stream",
     "text": [
      "no major emotion\n",
      "[[189  74  70  70]]\n",
      "False False\n",
      "{'sleepy': False, 'yawn': False, 'dominant emotion': False} kasgdagdajd\n",
      "False False\n"
     ]
    },
    {
     "name": "stderr",
     "output_type": "stream",
     "text": [
      "Action: emotion: 100%|██████████| 1/1 [00:00<00:00, 39.32it/s]\n"
     ]
    },
    {
     "name": "stdout",
     "output_type": "stream",
     "text": [
      "a major emotion\n",
      "[[187  73  73  73]]\n",
      "False False\n",
      "{'sleepy': False, 'yawn': False, 'dominant emotion': 'neutral'} kasgdagdajd\n",
      "False False\n"
     ]
    },
    {
     "name": "stderr",
     "output_type": "stream",
     "text": [
      "Action: emotion: 100%|██████████| 1/1 [00:00<00:00, 39.05it/s]"
     ]
    },
    {
     "name": "stdout",
     "output_type": "stream",
     "text": [
      "a major emotion\n",
      "[[188  73  73  73]]\n"
     ]
    },
    {
     "name": "stderr",
     "output_type": "stream",
     "text": [
      "\n"
     ]
    },
    {
     "name": "stdout",
     "output_type": "stream",
     "text": [
      "False False\n",
      "{'sleepy': False, 'yawn': False, 'dominant emotion': 'neutral'} kasgdagdajd\n",
      "False False\n"
     ]
    },
    {
     "name": "stderr",
     "output_type": "stream",
     "text": [
      "Action: emotion: 100%|██████████| 1/1 [00:00<00:00, 36.43it/s]\n"
     ]
    },
    {
     "name": "stdout",
     "output_type": "stream",
     "text": [
      "a major emotion\n",
      "[[187  74  73  73]]\n",
      "False False\n",
      "{'sleepy': False, 'yawn': False, 'dominant emotion': 'neutral'} kasgdagdajd\n",
      "False False\n"
     ]
    },
    {
     "name": "stderr",
     "output_type": "stream",
     "text": [
      "Action: emotion: 100%|██████████| 1/1 [00:00<00:00, 36.90it/s]"
     ]
    },
    {
     "name": "stdout",
     "output_type": "stream",
     "text": [
      "a major emotion\n",
      "[[188  74  72  72]]\n"
     ]
    },
    {
     "name": "stderr",
     "output_type": "stream",
     "text": [
      "\n"
     ]
    },
    {
     "name": "stdout",
     "output_type": "stream",
     "text": [
      "False False\n",
      "{'sleepy': False, 'yawn': False, 'dominant emotion': 'neutral'} kasgdagdajd\n",
      "False False\n"
     ]
    },
    {
     "name": "stderr",
     "output_type": "stream",
     "text": [
      "Action: emotion: 100%|██████████| 1/1 [00:00<00:00, 37.54it/s]\n"
     ]
    },
    {
     "name": "stdout",
     "output_type": "stream",
     "text": [
      "a major emotion\n",
      "[[188  75  72  72]]\n",
      "False False\n",
      "{'sleepy': False, 'yawn': False, 'dominant emotion': 'fear'} kasgdagdajd\n",
      "False False\n"
     ]
    },
    {
     "name": "stderr",
     "output_type": "stream",
     "text": [
      "Action: emotion: 100%|██████████| 1/1 [00:00<00:00, 38.43it/s]\n"
     ]
    },
    {
     "name": "stdout",
     "output_type": "stream",
     "text": [
      "a major emotion\n",
      "[[187  74  73  73]]\n",
      "False False\n",
      "{'sleepy': False, 'yawn': False, 'dominant emotion': 'neutral'} kasgdagdajd\n",
      "False False\n"
     ]
    },
    {
     "name": "stderr",
     "output_type": "stream",
     "text": [
      "Action: emotion: 100%|██████████| 1/1 [00:00<00:00, 38.24it/s]\n"
     ]
    },
    {
     "name": "stdout",
     "output_type": "stream",
     "text": [
      "a major emotion\n",
      "[[187  74  72  72]]\n",
      "False False\n",
      "{'sleepy': False, 'yawn': False, 'dominant emotion': 'neutral'} kasgdagdajd\n",
      "False False\n"
     ]
    },
    {
     "name": "stderr",
     "output_type": "stream",
     "text": [
      "Action: emotion: 100%|██████████| 1/1 [00:00<00:00, 36.91it/s]"
     ]
    },
    {
     "name": "stdout",
     "output_type": "stream",
     "text": [
      "no major emotion\n",
      "[[188  75  72  72]]\n",
      "False False\n",
      "{'sleepy': False, 'yawn': False, 'dominant emotion': False} kasgdagdajd\n"
     ]
    },
    {
     "name": "stderr",
     "output_type": "stream",
     "text": [
      "\n"
     ]
    },
    {
     "name": "stdout",
     "output_type": "stream",
     "text": [
      "False False\n"
     ]
    },
    {
     "name": "stderr",
     "output_type": "stream",
     "text": [
      "Action: emotion: 100%|██████████| 1/1 [00:00<00:00, 38.18it/s]\n"
     ]
    },
    {
     "name": "stdout",
     "output_type": "stream",
     "text": [
      "a major emotion\n",
      "[[189  76  70  70]]\n",
      "False False\n",
      "{'sleepy': False, 'yawn': False, 'dominant emotion': 'sad'} kasgdagdajd\n",
      "False False\n"
     ]
    },
    {
     "name": "stderr",
     "output_type": "stream",
     "text": [
      "Action: emotion: 100%|██████████| 1/1 [00:00<00:00, 36.71it/s]\n"
     ]
    },
    {
     "name": "stdout",
     "output_type": "stream",
     "text": [
      "a major emotion\n",
      "[[189  76  70  70]]\n",
      "False False\n",
      "{'sleepy': False, 'yawn': False, 'dominant emotion': 'sad'} kasgdagdajd\n",
      "False False\n"
     ]
    },
    {
     "name": "stderr",
     "output_type": "stream",
     "text": [
      "Action: emotion: 100%|██████████| 1/1 [00:00<00:00, 38.50it/s]\n"
     ]
    },
    {
     "name": "stdout",
     "output_type": "stream",
     "text": [
      "a major emotion\n",
      "[[188  75  70  70]]\n",
      "False False\n",
      "{'sleepy': False, 'yawn': False, 'dominant emotion': 'sad'} kasgdagdajd\n",
      "False False\n"
     ]
    },
    {
     "name": "stderr",
     "output_type": "stream",
     "text": [
      "Action: emotion: 100%|██████████| 1/1 [00:00<00:00, 38.71it/s]\n"
     ]
    },
    {
     "name": "stdout",
     "output_type": "stream",
     "text": [
      "a major emotion\n",
      "[[187  75  71  71]]\n",
      "False False\n",
      "{'sleepy': False, 'yawn': False, 'dominant emotion': 'sad'} kasgdagdajd\n",
      "False False\n"
     ]
    },
    {
     "name": "stderr",
     "output_type": "stream",
     "text": [
      "Action: emotion: 100%|██████████| 1/1 [00:00<00:00, 36.47it/s]\n"
     ]
    },
    {
     "name": "stdout",
     "output_type": "stream",
     "text": [
      "a major emotion\n",
      "[[188  75  71  71]]\n",
      "False False\n",
      "{'sleepy': False, 'yawn': False, 'dominant emotion': 'sad'} kasgdagdajd\n",
      "False False\n"
     ]
    },
    {
     "name": "stderr",
     "output_type": "stream",
     "text": [
      "Action: emotion: 100%|██████████| 1/1 [00:00<00:00, 39.85it/s]\n"
     ]
    },
    {
     "name": "stdout",
     "output_type": "stream",
     "text": [
      "a major emotion\n",
      "[[188  75  71  71]]\n",
      "False False\n",
      "{'sleepy': False, 'yawn': False, 'dominant emotion': 'sad'} kasgdagdajd\n",
      "False False\n"
     ]
    },
    {
     "name": "stderr",
     "output_type": "stream",
     "text": [
      "Action: emotion: 100%|██████████| 1/1 [00:00<00:00, 38.19it/s]"
     ]
    },
    {
     "name": "stdout",
     "output_type": "stream",
     "text": [
      "a major emotion\n"
     ]
    },
    {
     "name": "stderr",
     "output_type": "stream",
     "text": [
      "\n"
     ]
    },
    {
     "name": "stdout",
     "output_type": "stream",
     "text": [
      "[[189  75  71  71]]\n",
      "False False\n",
      "{'sleepy': False, 'yawn': False, 'dominant emotion': 'sad'} kasgdagdajd\n",
      "False False\n"
     ]
    },
    {
     "name": "stderr",
     "output_type": "stream",
     "text": [
      "Action: emotion: 100%|██████████| 1/1 [00:00<00:00, 36.46it/s]\n"
     ]
    },
    {
     "name": "stdout",
     "output_type": "stream",
     "text": [
      "a major emotion\n",
      "[[189  76  69  69]]\n",
      "False False\n",
      "{'sleepy': False, 'yawn': False, 'dominant emotion': 'neutral'} kasgdagdajd\n",
      "False False\n"
     ]
    },
    {
     "name": "stderr",
     "output_type": "stream",
     "text": [
      "Action: emotion: 100%|██████████| 1/1 [00:00<00:00, 36.25it/s]\n"
     ]
    },
    {
     "name": "stdout",
     "output_type": "stream",
     "text": [
      "a major emotion\n",
      "[[188  75  72  72]]\n",
      "False False\n",
      "{'sleepy': False, 'yawn': False, 'dominant emotion': 'neutral'} kasgdagdajd\n",
      "False False\n"
     ]
    },
    {
     "name": "stderr",
     "output_type": "stream",
     "text": [
      "Action: emotion: 100%|██████████| 1/1 [00:00<00:00, 38.62it/s]\n"
     ]
    },
    {
     "name": "stdout",
     "output_type": "stream",
     "text": [
      "a major emotion\n",
      "[[189  75  71  71]]\n",
      "False False\n",
      "{'sleepy': False, 'yawn': False, 'dominant emotion': 'sad'} kasgdagdajd\n",
      "False False\n"
     ]
    },
    {
     "name": "stderr",
     "output_type": "stream",
     "text": [
      "Action: emotion: 100%|██████████| 1/1 [00:00<00:00, 38.31it/s]\n"
     ]
    },
    {
     "name": "stdout",
     "output_type": "stream",
     "text": [
      "a major emotion\n",
      "[[189  76  71  71]]\n",
      "False False\n",
      "{'sleepy': False, 'yawn': False, 'dominant emotion': 'sad'} kasgdagdajd\n",
      "False False\n"
     ]
    },
    {
     "name": "stderr",
     "output_type": "stream",
     "text": [
      "Action: emotion: 100%|██████████| 1/1 [00:00<00:00, 38.91it/s]\n"
     ]
    },
    {
     "name": "stdout",
     "output_type": "stream",
     "text": [
      "a major emotion\n",
      "[[189  76  70  70]]\n",
      "False False\n",
      "{'sleepy': False, 'yawn': False, 'dominant emotion': 'neutral'} kasgdagdajd\n",
      "False False\n"
     ]
    },
    {
     "name": "stderr",
     "output_type": "stream",
     "text": [
      "Action: emotion: 100%|██████████| 1/1 [00:00<00:00, 38.42it/s]\n"
     ]
    },
    {
     "name": "stdout",
     "output_type": "stream",
     "text": [
      "no major emotion\n",
      "[[189  76  71  71]]\n",
      "False False\n",
      "{'sleepy': False, 'yawn': False, 'dominant emotion': False} kasgdagdajd\n",
      "False False\n"
     ]
    },
    {
     "name": "stderr",
     "output_type": "stream",
     "text": [
      "Action: emotion: 100%|██████████| 1/1 [00:00<00:00, 35.82it/s]\n"
     ]
    },
    {
     "name": "stdout",
     "output_type": "stream",
     "text": [
      "a major emotion\n",
      "[[190  76  70  70]]\n",
      "False False\n",
      "{'sleepy': False, 'yawn': False, 'dominant emotion': 'neutral'} kasgdagdajd\n",
      "False False\n"
     ]
    },
    {
     "name": "stderr",
     "output_type": "stream",
     "text": [
      "Action: emotion: 100%|██████████| 1/1 [00:00<00:00, 38.66it/s]\n"
     ]
    },
    {
     "name": "stdout",
     "output_type": "stream",
     "text": [
      "no major emotion\n",
      "[[190  78  68  68]]\n",
      "False False\n",
      "{'sleepy': False, 'yawn': False, 'dominant emotion': False} kasgdagdajd\n",
      "False False\n"
     ]
    },
    {
     "name": "stderr",
     "output_type": "stream",
     "text": [
      "Action: emotion: 100%|██████████| 1/1 [00:00<00:00, 37.90it/s]"
     ]
    },
    {
     "name": "stdout",
     "output_type": "stream",
     "text": [
      "no major emotion\n",
      "[[191  79  67  67]]\n"
     ]
    },
    {
     "name": "stderr",
     "output_type": "stream",
     "text": [
      "\n"
     ]
    },
    {
     "name": "stdout",
     "output_type": "stream",
     "text": [
      "False False\n",
      "{'sleepy': False, 'yawn': False, 'dominant emotion': False} kasgdagdajd\n",
      "False False\n"
     ]
    },
    {
     "name": "stderr",
     "output_type": "stream",
     "text": [
      "Action: emotion: 100%|██████████| 1/1 [00:00<00:00, 37.63it/s]\n"
     ]
    },
    {
     "name": "stdout",
     "output_type": "stream",
     "text": [
      "a major emotion\n",
      "[[191  78  69  69]]\n",
      "False False\n",
      "{'sleepy': False, 'yawn': False, 'dominant emotion': 'angry'} kasgdagdajd\n",
      "False False\n"
     ]
    },
    {
     "name": "stderr",
     "output_type": "stream",
     "text": [
      "Action: emotion: 100%|██████████| 1/1 [00:00<00:00, 38.61it/s]"
     ]
    },
    {
     "name": "stdout",
     "output_type": "stream",
     "text": [
      "no major emotion\n",
      "[[191  77  68  68]]\n",
      "False False\n",
      "{'sleepy': False, 'yawn': False, 'dominant emotion': False} kasgdagdajd\n"
     ]
    },
    {
     "name": "stderr",
     "output_type": "stream",
     "text": [
      "\n"
     ]
    },
    {
     "name": "stdout",
     "output_type": "stream",
     "text": [
      "False False\n"
     ]
    },
    {
     "name": "stderr",
     "output_type": "stream",
     "text": [
      "Action: emotion: 100%|██████████| 1/1 [00:00<00:00, 30.11it/s]\n"
     ]
    },
    {
     "name": "stdout",
     "output_type": "stream",
     "text": [
      "no major emotion\n",
      "[[189  77  70  70]]\n",
      "False False\n",
      "{'sleepy': False, 'yawn': False, 'dominant emotion': False} kasgdagdajd\n",
      "False False\n"
     ]
    },
    {
     "name": "stderr",
     "output_type": "stream",
     "text": [
      "Action: emotion: 100%|██████████| 1/1 [00:00<00:00, 36.40it/s]\n"
     ]
    },
    {
     "name": "stdout",
     "output_type": "stream",
     "text": [
      "a major emotion\n",
      "[[189  78  71  71]]\n",
      "False False\n",
      "{'sleepy': False, 'yawn': False, 'dominant emotion': 'angry'} kasgdagdajd\n",
      "False False\n"
     ]
    },
    {
     "name": "stderr",
     "output_type": "stream",
     "text": [
      "Action: emotion: 100%|██████████| 1/1 [00:00<00:00, 40.26it/s]\n"
     ]
    },
    {
     "name": "stdout",
     "output_type": "stream",
     "text": [
      "a major emotion\n",
      "[[189  80  72  72]]\n",
      "False False\n",
      "{'sleepy': False, 'yawn': False, 'dominant emotion': 'angry'} kasgdagdajd\n",
      "False False\n"
     ]
    },
    {
     "name": "stderr",
     "output_type": "stream",
     "text": [
      "Action: emotion: 100%|██████████| 1/1 [00:00<00:00, 40.31it/s]\n"
     ]
    },
    {
     "name": "stdout",
     "output_type": "stream",
     "text": [
      "a major emotion\n",
      "[[189  82  73  73]]\n",
      "False False\n",
      "{'sleepy': False, 'yawn': False, 'dominant emotion': 'angry'} kasgdagdajd\n",
      "False False\n"
     ]
    },
    {
     "name": "stderr",
     "output_type": "stream",
     "text": [
      "Action: emotion: 100%|██████████| 1/1 [00:00<00:00, 40.32it/s]\n"
     ]
    },
    {
     "name": "stdout",
     "output_type": "stream",
     "text": [
      "a major emotion\n",
      "[[190  84  70  70]]\n",
      "False False\n",
      "{'sleepy': False, 'yawn': False, 'dominant emotion': 'angry'} kasgdagdajd\n",
      "False False\n"
     ]
    },
    {
     "name": "stderr",
     "output_type": "stream",
     "text": [
      "Action: emotion: 100%|██████████| 1/1 [00:00<00:00, 40.29it/s]\n"
     ]
    },
    {
     "name": "stdout",
     "output_type": "stream",
     "text": [
      "a major emotion\n",
      "[[190  84  69  69]]\n",
      "False False\n",
      "{'sleepy': False, 'yawn': False, 'dominant emotion': 'angry'} kasgdagdajd\n",
      "False False\n"
     ]
    },
    {
     "name": "stderr",
     "output_type": "stream",
     "text": [
      "Action: emotion: 100%|██████████| 1/1 [00:00<00:00, 40.58it/s]\n"
     ]
    },
    {
     "name": "stdout",
     "output_type": "stream",
     "text": [
      "a major emotion\n",
      "[[189  82  71  71]]\n",
      "False False\n",
      "{'sleepy': False, 'yawn': False, 'dominant emotion': 'angry'} kasgdagdajd\n",
      "False False\n"
     ]
    },
    {
     "name": "stderr",
     "output_type": "stream",
     "text": [
      "Action: emotion: 100%|██████████| 1/1 [00:00<00:00, 30.99it/s]\n"
     ]
    },
    {
     "name": "stdout",
     "output_type": "stream",
     "text": [
      "a major emotion\n",
      "[[182  85  71  71]]\n",
      "False False\n",
      "{'sleepy': False, 'yawn': False, 'dominant emotion': 'neutral'} kasgdagdajd\n",
      "False False\n"
     ]
    },
    {
     "name": "stderr",
     "output_type": "stream",
     "text": [
      "Action: emotion: 100%|██████████| 1/1 [00:00<00:00, 39.07it/s]"
     ]
    },
    {
     "name": "stdout",
     "output_type": "stream",
     "text": [
      "no major emotion\n",
      "[[181  85  72  72]]\n",
      "False False\n",
      "{'sleepy': False, 'yawn': False, 'dominant emotion': False} kasgdagdajd\n",
      "False False\n"
     ]
    },
    {
     "name": "stderr",
     "output_type": "stream",
     "text": [
      "\n",
      "Action: emotion: 100%|██████████| 1/1 [00:00<00:00, 36.60it/s]\n"
     ]
    },
    {
     "name": "stdout",
     "output_type": "stream",
     "text": [
      "no major emotion\n",
      "[[182  86  70  70]]\n",
      "False False\n",
      "{'sleepy': False, 'yawn': False, 'dominant emotion': False} kasgdagdajd\n",
      "False False\n"
     ]
    },
    {
     "name": "stderr",
     "output_type": "stream",
     "text": [
      "Action: emotion: 100%|██████████| 1/1 [00:00<00:00, 34.37it/s]\n"
     ]
    },
    {
     "name": "stdout",
     "output_type": "stream",
     "text": [
      "a major emotion\n",
      "[[181  86  73  73]]\n",
      "False False\n",
      "{'sleepy': False, 'yawn': False, 'dominant emotion': 'sad'} kasgdagdajd\n",
      "False False\n"
     ]
    },
    {
     "name": "stderr",
     "output_type": "stream",
     "text": [
      "Action: emotion: 100%|██████████| 1/1 [00:00<00:00, 35.43it/s]\n"
     ]
    },
    {
     "name": "stdout",
     "output_type": "stream",
     "text": [
      "no major emotion\n",
      "[[184  85  74  74]]\n",
      "False False\n",
      "{'sleepy': False, 'yawn': False, 'dominant emotion': False} kasgdagdajd\n",
      "False False\n"
     ]
    },
    {
     "name": "stderr",
     "output_type": "stream",
     "text": [
      "Action: emotion: 100%|██████████| 1/1 [00:00<00:00, 38.29it/s]\n"
     ]
    },
    {
     "name": "stdout",
     "output_type": "stream",
     "text": [
      "a major emotion\n",
      "[[189  85  72  72]]\n",
      "False False\n",
      "{'sleepy': False, 'yawn': False, 'dominant emotion': 'happy'} kasgdagdajd\n",
      "False False\n"
     ]
    },
    {
     "name": "stderr",
     "output_type": "stream",
     "text": [
      "Action: emotion: 100%|██████████| 1/1 [00:00<00:00, 35.53it/s]\n"
     ]
    },
    {
     "name": "stdout",
     "output_type": "stream",
     "text": [
      "a major emotion\n",
      "[[193  84  72  72]]\n",
      "False False\n",
      "{'sleepy': False, 'yawn': False, 'dominant emotion': 'happy'} kasgdagdajd\n",
      "False False\n"
     ]
    },
    {
     "name": "stderr",
     "output_type": "stream",
     "text": [
      "Action: emotion: 100%|██████████| 1/1 [00:00<00:00, 38.03it/s]\n"
     ]
    },
    {
     "name": "stdout",
     "output_type": "stream",
     "text": [
      "a major emotion\n",
      "[[197  85  73  73]]\n",
      "False False\n",
      "{'sleepy': False, 'yawn': False, 'dominant emotion': 'happy'} kasgdagdajd\n",
      "False False\n"
     ]
    },
    {
     "name": "stderr",
     "output_type": "stream",
     "text": [
      "Action: emotion: 100%|██████████| 1/1 [00:00<00:00, 37.41it/s]"
     ]
    },
    {
     "name": "stdout",
     "output_type": "stream",
     "text": [
      "a major emotion\n",
      "[[202  88  71  71]]\n"
     ]
    },
    {
     "name": "stderr",
     "output_type": "stream",
     "text": [
      "\n"
     ]
    },
    {
     "name": "stdout",
     "output_type": "stream",
     "text": [
      "False False\n",
      "{'sleepy': False, 'yawn': False, 'dominant emotion': 'happy'} kasgdagdajd\n",
      "False False\n"
     ]
    },
    {
     "name": "stderr",
     "output_type": "stream",
     "text": [
      "Action: emotion: 100%|██████████| 1/1 [00:00<00:00, 32.98it/s]"
     ]
    },
    {
     "name": "stdout",
     "output_type": "stream",
     "text": [
      "a major emotion\n"
     ]
    },
    {
     "name": "stderr",
     "output_type": "stream",
     "text": [
      "\n"
     ]
    },
    {
     "name": "stdout",
     "output_type": "stream",
     "text": [
      "[[200  85  76  76]]\n",
      "False False\n",
      "{'sleepy': False, 'yawn': False, 'dominant emotion': 'happy'} kasgdagdajd\n",
      "False False\n"
     ]
    },
    {
     "name": "stderr",
     "output_type": "stream",
     "text": [
      "Action: emotion: 100%|██████████| 1/1 [00:00<00:00, 37.82it/s]\n"
     ]
    },
    {
     "name": "stdout",
     "output_type": "stream",
     "text": [
      "no major emotion\n",
      "[[200  88  75  75]]\n",
      "False False\n",
      "{'sleepy': False, 'yawn': False, 'dominant emotion': False} kasgdagdajd\n",
      "False False\n"
     ]
    },
    {
     "name": "stderr",
     "output_type": "stream",
     "text": [
      "Action: emotion: 100%|██████████| 1/1 [00:00<00:00, 29.63it/s]\n"
     ]
    },
    {
     "name": "stdout",
     "output_type": "stream",
     "text": [
      "no major emotion\n",
      "[[196  89  75  75]]\n",
      "False False\n",
      "{'sleepy': False, 'yawn': False, 'dominant emotion': False} kasgdagdajd\n",
      "False False\n"
     ]
    },
    {
     "name": "stderr",
     "output_type": "stream",
     "text": [
      "Action: emotion: 100%|██████████| 1/1 [00:00<00:00, 33.10it/s]\n"
     ]
    },
    {
     "name": "stdout",
     "output_type": "stream",
     "text": [
      "no major emotion\n",
      "[[189  93  74  74]]\n",
      "False False\n",
      "{'sleepy': False, 'yawn': False, 'dominant emotion': False} kasgdagdajd\n",
      "False False\n"
     ]
    },
    {
     "name": "stderr",
     "output_type": "stream",
     "text": [
      "Action: emotion: 100%|██████████| 1/1 [00:00<00:00, 40.62it/s]\n"
     ]
    },
    {
     "name": "stdout",
     "output_type": "stream",
     "text": [
      "no major emotion\n",
      "[[186  94  75  75]]\n",
      "False False\n",
      "{'sleepy': False, 'yawn': False, 'dominant emotion': False} kasgdagdajd\n",
      "False False\n"
     ]
    },
    {
     "name": "stderr",
     "output_type": "stream",
     "text": [
      "Action: emotion: 100%|██████████| 1/1 [00:00<00:00, 37.65it/s]\n"
     ]
    },
    {
     "name": "stdout",
     "output_type": "stream",
     "text": [
      "no major emotion\n",
      "[[189  97  74  74]]\n",
      "False False\n",
      "{'sleepy': False, 'yawn': False, 'dominant emotion': False} kasgdagdajd\n",
      "False False\n"
     ]
    },
    {
     "name": "stderr",
     "output_type": "stream",
     "text": [
      "Action: emotion: 100%|██████████| 1/1 [00:00<00:00, 39.34it/s]\n"
     ]
    },
    {
     "name": "stdout",
     "output_type": "stream",
     "text": [
      "a major emotion\n",
      "[[192  97  77  77]]\n",
      "False False\n",
      "{'sleepy': False, 'yawn': False, 'dominant emotion': 'sad'} kasgdagdajd\n",
      "False False\n"
     ]
    },
    {
     "name": "stderr",
     "output_type": "stream",
     "text": [
      "Action: emotion: 100%|██████████| 1/1 [00:00<00:00, 38.84it/s]\n"
     ]
    },
    {
     "name": "stdout",
     "output_type": "stream",
     "text": [
      "no major emotion\n",
      "[[202 101  76  76]]\n",
      "False False\n",
      "{'sleepy': False, 'yawn': False, 'dominant emotion': False} kasgdagdajd\n",
      "False False\n"
     ]
    },
    {
     "name": "stderr",
     "output_type": "stream",
     "text": [
      "Action: emotion: 100%|██████████| 1/1 [00:00<00:00, 37.49it/s]\n"
     ]
    },
    {
     "name": "stdout",
     "output_type": "stream",
     "text": [
      "a major emotion\n",
      "[[209 102  75  75]]\n",
      "False False\n",
      "{'sleepy': False, 'yawn': False, 'dominant emotion': 'sad'} kasgdagdajd\n",
      "False False\n"
     ]
    },
    {
     "name": "stderr",
     "output_type": "stream",
     "text": [
      "Action: emotion: 100%|██████████| 1/1 [00:00<00:00, 35.80it/s]\n"
     ]
    },
    {
     "name": "stdout",
     "output_type": "stream",
     "text": [
      "a major emotion\n",
      "[[216 102  77  77]]\n",
      "False False\n",
      "{'sleepy': False, 'yawn': False, 'dominant emotion': 'neutral'} kasgdagdajd\n",
      "False False\n"
     ]
    },
    {
     "name": "stderr",
     "output_type": "stream",
     "text": [
      "Action: emotion: 100%|██████████| 1/1 [00:00<00:00, 36.57it/s]"
     ]
    },
    {
     "name": "stdout",
     "output_type": "stream",
     "text": [
      "a major emotion\n",
      "[[219 103  76  76]]\n",
      "False False\n",
      "{'sleepy': False, 'yawn': False, 'dominant emotion': 'sad'} kasgdagdajd\n"
     ]
    },
    {
     "name": "stderr",
     "output_type": "stream",
     "text": [
      "\n"
     ]
    },
    {
     "name": "stdout",
     "output_type": "stream",
     "text": [
      "False False\n"
     ]
    },
    {
     "name": "stderr",
     "output_type": "stream",
     "text": [
      "Action: emotion: 100%|██████████| 1/1 [00:00<00:00, 36.74it/s]\n"
     ]
    },
    {
     "name": "stdout",
     "output_type": "stream",
     "text": [
      "a major emotion\n",
      "[[220  96  76  76]]\n",
      "False False\n",
      "{'sleepy': False, 'yawn': False, 'dominant emotion': 'neutral'} kasgdagdajd\n",
      "False False\n"
     ]
    },
    {
     "name": "stderr",
     "output_type": "stream",
     "text": [
      "Action: emotion: 100%|██████████| 1/1 [00:00<00:00, 33.73it/s]\n"
     ]
    },
    {
     "name": "stdout",
     "output_type": "stream",
     "text": [
      "a major emotion\n",
      "[[219  82  76  76]]\n",
      "False False\n",
      "{'sleepy': False, 'yawn': False, 'dominant emotion': 'neutral'} kasgdagdajd\n",
      "False False\n"
     ]
    },
    {
     "name": "stderr",
     "output_type": "stream",
     "text": [
      "Action: emotion: 100%|██████████| 1/1 [00:00<00:00, 33.11it/s]\n"
     ]
    },
    {
     "name": "stdout",
     "output_type": "stream",
     "text": [
      "no major emotion\n",
      "[[217  63  75  75]]\n",
      "False False\n",
      "{'sleepy': False, 'yawn': False, 'dominant emotion': False} kasgdagdajd\n",
      "False False\n"
     ]
    },
    {
     "name": "stderr",
     "output_type": "stream",
     "text": [
      "Action: emotion: 100%|██████████| 1/1 [00:00<00:00, 38.62it/s]\n"
     ]
    },
    {
     "name": "stdout",
     "output_type": "stream",
     "text": [
      "a major emotion\n",
      "[[203  67  87  87]]\n",
      "False False\n",
      "{'sleepy': False, 'yawn': False, 'dominant emotion': 'fear'} kasgdagdajd\n",
      "False False\n"
     ]
    },
    {
     "name": "stderr",
     "output_type": "stream",
     "text": [
      "Action: emotion: 100%|██████████| 1/1 [00:00<00:00, 35.33it/s]\n"
     ]
    },
    {
     "name": "stdout",
     "output_type": "stream",
     "text": [
      "no major emotion\n",
      "[[197  71  91  91]]\n",
      "False False\n",
      "{'sleepy': False, 'yawn': False, 'dominant emotion': False} kasgdagdajd\n",
      "False False\n"
     ]
    },
    {
     "name": "stderr",
     "output_type": "stream",
     "text": [
      "Action: emotion: 100%|██████████| 1/1 [00:00<00:00, 38.92it/s]\n"
     ]
    },
    {
     "name": "stdout",
     "output_type": "stream",
     "text": [
      "a major emotion\n",
      "[[194  71  91  91]]\n",
      "False False\n",
      "{'sleepy': False, 'yawn': False, 'dominant emotion': 'happy'} kasgdagdajd\n",
      "False False\n"
     ]
    },
    {
     "name": "stderr",
     "output_type": "stream",
     "text": [
      "Action: emotion: 100%|██████████| 1/1 [00:00<00:00, 37.19it/s]\n"
     ]
    },
    {
     "name": "stdout",
     "output_type": "stream",
     "text": [
      "a major emotion\n",
      "[[187  80  94  94]]\n",
      "False False\n",
      "{'sleepy': False, 'yawn': False, 'dominant emotion': 'happy'} kasgdagdajd\n",
      "False False\n"
     ]
    },
    {
     "name": "stderr",
     "output_type": "stream",
     "text": [
      "Action: emotion: 100%|██████████| 1/1 [00:00<00:00, 37.97it/s]\n"
     ]
    },
    {
     "name": "stdout",
     "output_type": "stream",
     "text": [
      "a major emotion\n",
      "[[186  81  91  91]]\n",
      "False False\n",
      "{'sleepy': False, 'yawn': False, 'dominant emotion': 'fear'} kasgdagdajd\n",
      "False False\n"
     ]
    },
    {
     "name": "stderr",
     "output_type": "stream",
     "text": [
      "Action: emotion: 100%|██████████| 1/1 [00:00<00:00, 37.59it/s]\n"
     ]
    },
    {
     "name": "stdout",
     "output_type": "stream",
     "text": [
      "a major emotion\n",
      "[[187  78  93  93]]\n",
      "False False\n",
      "{'sleepy': False, 'yawn': False, 'dominant emotion': 'surprise'} kasgdagdajd\n",
      "False False\n"
     ]
    },
    {
     "name": "stderr",
     "output_type": "stream",
     "text": [
      "Action: emotion: 100%|██████████| 1/1 [00:00<00:00, 32.40it/s]"
     ]
    },
    {
     "name": "stdout",
     "output_type": "stream",
     "text": [
      "a major emotion\n"
     ]
    },
    {
     "name": "stderr",
     "output_type": "stream",
     "text": [
      "\n"
     ]
    },
    {
     "name": "stdout",
     "output_type": "stream",
     "text": [
      "[[188  82  91  91]]\n",
      "False False\n",
      "{'sleepy': False, 'yawn': False, 'dominant emotion': 'fear'} kasgdagdajd\n",
      "False False\n"
     ]
    },
    {
     "name": "stderr",
     "output_type": "stream",
     "text": [
      "Action: emotion: 100%|██████████| 1/1 [00:00<00:00, 35.46it/s]\n"
     ]
    },
    {
     "name": "stdout",
     "output_type": "stream",
     "text": [
      "a major emotion\n",
      "[[180  74 102 102]]\n",
      "False False\n",
      "{'sleepy': False, 'yawn': False, 'dominant emotion': 'happy'} kasgdagdajd\n",
      "False False\n"
     ]
    },
    {
     "name": "stderr",
     "output_type": "stream",
     "text": [
      "Action: emotion: 100%|██████████| 1/1 [00:00<00:00, 38.03it/s]\n"
     ]
    },
    {
     "name": "stdout",
     "output_type": "stream",
     "text": [
      "no major emotion\n",
      "[[182  78 102 102]]\n",
      "False False\n",
      "{'sleepy': False, 'yawn': False, 'dominant emotion': False} kasgdagdajd\n",
      "False False\n"
     ]
    },
    {
     "name": "stderr",
     "output_type": "stream",
     "text": [
      "Action: emotion: 100%|██████████| 1/1 [00:00<00:00, 38.98it/s]\n"
     ]
    },
    {
     "name": "stdout",
     "output_type": "stream",
     "text": [
      "a major emotion\n",
      "[[179  72 104 104]]\n",
      "False False\n",
      "{'sleepy': False, 'yawn': False, 'dominant emotion': 'fear'} kasgdagdajd\n",
      "False False\n"
     ]
    },
    {
     "name": "stderr",
     "output_type": "stream",
     "text": [
      "Action: emotion: 100%|██████████| 1/1 [00:00<00:00, 37.23it/s]\n"
     ]
    },
    {
     "name": "stdout",
     "output_type": "stream",
     "text": [
      "a major emotion\n",
      "[[177  72 103 103]]\n",
      "False False\n",
      "{'sleepy': False, 'yawn': False, 'dominant emotion': 'fear'} kasgdagdajd\n",
      "False False\n"
     ]
    },
    {
     "name": "stderr",
     "output_type": "stream",
     "text": [
      "Action: emotion: 100%|██████████| 1/1 [00:00<00:00, 37.43it/s]\n"
     ]
    },
    {
     "name": "stdout",
     "output_type": "stream",
     "text": [
      "a major emotion\n",
      "[[179  72 107 107]]\n",
      "False False\n",
      "{'sleepy': False, 'yawn': False, 'dominant emotion': 'angry'} kasgdagdajd\n",
      "False False\n"
     ]
    },
    {
     "name": "stderr",
     "output_type": "stream",
     "text": [
      "Action: emotion: 100%|██████████| 1/1 [00:00<00:00, 37.56it/s]\n"
     ]
    },
    {
     "name": "stdout",
     "output_type": "stream",
     "text": [
      "a major emotion\n",
      "[[175  69 108 108]]\n",
      "True False\n",
      "{'sleepy': False, 'yawn': True, 'dominant emotion': 'happy'} kasgdagdajd\n",
      "False True\n"
     ]
    },
    {
     "name": "stderr",
     "output_type": "stream",
     "text": [
      "Action: emotion: 100%|██████████| 1/1 [00:00<00:00, 34.93it/s]"
     ]
    },
    {
     "name": "stdout",
     "output_type": "stream",
     "text": [
      "a major emotion\n",
      "[[180  78  97  97]]\n",
      "False False\n",
      "{'sleepy': False, 'yawn': False, 'dominant emotion': 'fear'} kasgdagdajd\n"
     ]
    },
    {
     "name": "stderr",
     "output_type": "stream",
     "text": [
      "\n"
     ]
    },
    {
     "name": "stdout",
     "output_type": "stream",
     "text": [
      "False False\n"
     ]
    },
    {
     "name": "stderr",
     "output_type": "stream",
     "text": [
      "Action: emotion: 100%|██████████| 1/1 [00:00<00:00, 38.18it/s]\n"
     ]
    },
    {
     "name": "stdout",
     "output_type": "stream",
     "text": [
      "a major emotion\n",
      "[[180  70 109 109]]\n",
      "False False\n",
      "{'sleepy': False, 'yawn': False, 'dominant emotion': 'fear'} kasgdagdajd\n",
      "False False\n"
     ]
    },
    {
     "name": "stderr",
     "output_type": "stream",
     "text": [
      "Action: emotion: 100%|██████████| 1/1 [00:00<00:00, 38.99it/s]"
     ]
    },
    {
     "name": "stdout",
     "output_type": "stream",
     "text": [
      "a major emotion\n"
     ]
    },
    {
     "name": "stderr",
     "output_type": "stream",
     "text": [
      "\n"
     ]
    },
    {
     "name": "stdout",
     "output_type": "stream",
     "text": [
      "[[183  56 115 115]]\n",
      "False False\n",
      "{'sleepy': False, 'yawn': False, 'dominant emotion': 'fear'} kasgdagdajd\n",
      "False False\n",
      "()\n",
      "{'sleepy': False, 'yawn': False, 'dominant emotion': False} kasgdagdajd\n",
      "False False\n",
      "()\n",
      "{'sleepy': False, 'yawn': False, 'dominant emotion': False} kasgdagdajd\n",
      "False False\n",
      "()\n",
      "{'sleepy': False, 'yawn': False, 'dominant emotion': False} kasgdagdajd\n",
      "False False\n",
      "()\n",
      "{'sleepy': False, 'yawn': False, 'dominant emotion': False} kasgdagdajd\n",
      "False False\n",
      "()\n",
      "{'sleepy': False, 'yawn': False, 'dominant emotion': False} kasgdagdajd\n",
      "False False\n",
      "()\n",
      "{'sleepy': False, 'yawn': False, 'dominant emotion': False} kasgdagdajd\n",
      "False False\n",
      "()\n",
      "{'sleepy': False, 'yawn': False, 'dominant emotion': False} kasgdagdajd\n",
      "False False\n",
      "()\n",
      "{'sleepy': False, 'yawn': False, 'dominant emotion': False} kasgdagdajd\n",
      "False False\n",
      "()\n",
      "{'sleepy': False, 'yawn': False, 'dominant emotion': False} kasgdagdajd\n",
      "False False\n",
      "()\n",
      "{'sleepy': False, 'yawn': False, 'dominant emotion': False} kasgdagdajd\n",
      "False False\n",
      "()\n",
      "{'sleepy': False, 'yawn': False, 'dominant emotion': False} kasgdagdajd\n",
      "False False\n",
      "()\n",
      "{'sleepy': False, 'yawn': False, 'dominant emotion': False} kasgdagdajd\n",
      "False False\n",
      "()\n",
      "{'sleepy': False, 'yawn': False, 'dominant emotion': False} kasgdagdajd\n",
      "False False\n",
      "()\n",
      "{'sleepy': False, 'yawn': False, 'dominant emotion': False} kasgdagdajd\n",
      "False False\n",
      "()\n",
      "{'sleepy': False, 'yawn': False, 'dominant emotion': False} kasgdagdajd\n",
      "False False\n",
      "[[230  50  70  70]]\n",
      "False False\n",
      "{'sleepy': False, 'yawn': False, 'dominant emotion': False} kasgdagdajd\n",
      "False False\n"
     ]
    },
    {
     "name": "stderr",
     "output_type": "stream",
     "text": [
      "Action: emotion: 100%|██████████| 1/1 [00:00<00:00, 37.41it/s]\n"
     ]
    },
    {
     "name": "stdout",
     "output_type": "stream",
     "text": [
      "a major emotion\n",
      "[[225  50  71  71]]\n",
      "False False\n",
      "{'sleepy': False, 'yawn': False, 'dominant emotion': 'fear'} kasgdagdajd\n",
      "False False\n"
     ]
    },
    {
     "name": "stderr",
     "output_type": "stream",
     "text": [
      "Action: emotion: 100%|██████████| 1/1 [00:00<00:00, 38.85it/s]"
     ]
    },
    {
     "name": "stdout",
     "output_type": "stream",
     "text": [
      "a major emotion\n",
      "[[215  49  74  74]]\n",
      "False False\n",
      "{'sleepy': False, 'yawn': False, 'dominant emotion': 'sad'} kasgdagdajd\n",
      "False False\n"
     ]
    },
    {
     "name": "stderr",
     "output_type": "stream",
     "text": [
      "\n",
      "Action: emotion: 100%|██████████| 1/1 [00:00<00:00, 35.80it/s]"
     ]
    },
    {
     "name": "stdout",
     "output_type": "stream",
     "text": [
      "no major emotion\n",
      "[[210  50  72  72]]\n",
      "False False\n",
      "{'sleepy': False, 'yawn': False, 'dominant emotion': False} kasgdagdajd\n",
      "False False\n"
     ]
    },
    {
     "name": "stderr",
     "output_type": "stream",
     "text": [
      "\n",
      "Action: emotion: 100%|██████████| 1/1 [00:00<00:00, 31.84it/s]\n"
     ]
    },
    {
     "name": "stdout",
     "output_type": "stream",
     "text": [
      "a major emotion\n",
      "[[204  51  74  74]]\n",
      "False False\n",
      "{'sleepy': False, 'yawn': False, 'dominant emotion': 'fear'} kasgdagdajd\n",
      "False False\n"
     ]
    },
    {
     "name": "stderr",
     "output_type": "stream",
     "text": [
      "Action: emotion: 100%|██████████| 1/1 [00:00<00:00, 37.70it/s]\n"
     ]
    },
    {
     "name": "stdout",
     "output_type": "stream",
     "text": [
      "a major emotion\n",
      "[[196  51  78  78]]\n",
      "False False\n",
      "{'sleepy': False, 'yawn': False, 'dominant emotion': 'fear'} kasgdagdajd\n",
      "False False\n"
     ]
    },
    {
     "name": "stderr",
     "output_type": "stream",
     "text": [
      "Action: emotion: 100%|██████████| 1/1 [00:00<00:00, 34.40it/s]\n"
     ]
    },
    {
     "name": "stdout",
     "output_type": "stream",
     "text": [
      "a major emotion\n",
      "[[194  51  77  77]]\n",
      "False False\n",
      "{'sleepy': False, 'yawn': False, 'dominant emotion': 'fear'} kasgdagdajd\n",
      "False False\n"
     ]
    },
    {
     "name": "stderr",
     "output_type": "stream",
     "text": [
      "Action: emotion: 100%|██████████| 1/1 [00:00<00:00, 36.79it/s]\n"
     ]
    },
    {
     "name": "stdout",
     "output_type": "stream",
     "text": [
      "a major emotion\n",
      "[[192  52  78  78]]\n",
      "False False\n",
      "{'sleepy': False, 'yawn': False, 'dominant emotion': 'fear'} kasgdagdajd\n",
      "False False\n"
     ]
    },
    {
     "name": "stderr",
     "output_type": "stream",
     "text": [
      "Action: emotion: 100%|██████████| 1/1 [00:00<00:00, 36.51it/s]\n"
     ]
    },
    {
     "name": "stdout",
     "output_type": "stream",
     "text": [
      "a major emotion\n",
      "[[192  54  77  77]]\n",
      "False False\n",
      "{'sleepy': False, 'yawn': False, 'dominant emotion': 'fear'} kasgdagdajd\n",
      "False False\n"
     ]
    },
    {
     "name": "stderr",
     "output_type": "stream",
     "text": [
      "Action: emotion: 100%|██████████| 1/1 [00:00<00:00, 37.32it/s]\n"
     ]
    },
    {
     "name": "stdout",
     "output_type": "stream",
     "text": [
      "no major emotion\n",
      "[[194  57  76  76]]\n",
      "False False\n",
      "{'sleepy': False, 'yawn': False, 'dominant emotion': False} kasgdagdajd\n",
      "False False\n"
     ]
    },
    {
     "name": "stderr",
     "output_type": "stream",
     "text": [
      "Action: emotion: 100%|██████████| 1/1 [00:00<00:00, 32.62it/s]\n"
     ]
    },
    {
     "name": "stdout",
     "output_type": "stream",
     "text": [
      "a major emotion\n",
      "[[193  60  78  78]]\n",
      "False False\n",
      "{'sleepy': False, 'yawn': False, 'dominant emotion': 'fear'} kasgdagdajd\n",
      "False False\n"
     ]
    },
    {
     "name": "stderr",
     "output_type": "stream",
     "text": [
      "Action: emotion: 100%|██████████| 1/1 [00:00<00:00, 37.97it/s]\n"
     ]
    },
    {
     "name": "stdout",
     "output_type": "stream",
     "text": [
      "a major emotion\n",
      "[[195  64  77  77]]\n",
      "False False\n",
      "{'sleepy': False, 'yawn': False, 'dominant emotion': 'fear'} kasgdagdajd\n",
      "False False\n"
     ]
    },
    {
     "name": "stderr",
     "output_type": "stream",
     "text": [
      "Action: emotion: 100%|██████████| 1/1 [00:00<00:00, 34.77it/s]"
     ]
    },
    {
     "name": "stdout",
     "output_type": "stream",
     "text": [
      "no major emotion\n"
     ]
    },
    {
     "name": "stderr",
     "output_type": "stream",
     "text": [
      "\n"
     ]
    },
    {
     "name": "stdout",
     "output_type": "stream",
     "text": [
      "[[194  68  76  76]]\n",
      "False False\n",
      "{'sleepy': False, 'yawn': False, 'dominant emotion': False} kasgdagdajd\n",
      "False False\n"
     ]
    },
    {
     "name": "stderr",
     "output_type": "stream",
     "text": [
      "Action: emotion: 100%|██████████| 1/1 [00:00<00:00, 35.92it/s]\n"
     ]
    },
    {
     "name": "stdout",
     "output_type": "stream",
     "text": [
      "a major emotion\n",
      "[[193  72  75  75]]\n",
      "False False\n",
      "{'sleepy': False, 'yawn': False, 'dominant emotion': 'fear'} kasgdagdajd\n",
      "False False\n"
     ]
    },
    {
     "name": "stderr",
     "output_type": "stream",
     "text": [
      "Action: emotion: 100%|██████████| 1/1 [00:00<00:00, 37.11it/s]\n"
     ]
    },
    {
     "name": "stdout",
     "output_type": "stream",
     "text": [
      "a major emotion\n",
      "[[194  75  74  74]]\n",
      "False False\n",
      "{'sleepy': False, 'yawn': False, 'dominant emotion': 'sad'} kasgdagdajd\n",
      "False False\n"
     ]
    },
    {
     "name": "stderr",
     "output_type": "stream",
     "text": [
      "Action: emotion: 100%|██████████| 1/1 [00:00<00:00, 35.64it/s]\n"
     ]
    },
    {
     "name": "stdout",
     "output_type": "stream",
     "text": [
      "a major emotion\n",
      "[[193  75  75  75]]\n",
      "False False\n",
      "{'sleepy': False, 'yawn': False, 'dominant emotion': 'sad'} kasgdagdajd\n",
      "False False\n"
     ]
    },
    {
     "name": "stderr",
     "output_type": "stream",
     "text": [
      "Action: emotion: 100%|██████████| 1/1 [00:00<00:00, 35.59it/s]\n"
     ]
    },
    {
     "name": "stdout",
     "output_type": "stream",
     "text": [
      "a major emotion\n",
      "[[191  75  75  75]]\n",
      "False False\n",
      "{'sleepy': False, 'yawn': False, 'dominant emotion': 'sad'} kasgdagdajd\n",
      "False False\n"
     ]
    },
    {
     "name": "stderr",
     "output_type": "stream",
     "text": [
      "Action: emotion: 100%|██████████| 1/1 [00:00<00:00, 36.81it/s]\n"
     ]
    },
    {
     "name": "stdout",
     "output_type": "stream",
     "text": [
      "a major emotion\n",
      "[[191  76  75  75]]\n",
      "False False\n",
      "{'sleepy': False, 'yawn': False, 'dominant emotion': 'neutral'} kasgdagdajd\n",
      "False False\n"
     ]
    },
    {
     "name": "stderr",
     "output_type": "stream",
     "text": [
      "Action: emotion: 100%|██████████| 1/1 [00:00<00:00, 36.63it/s]\n"
     ]
    },
    {
     "name": "stdout",
     "output_type": "stream",
     "text": [
      "a major emotion\n",
      "[[190  75  74  74]]\n",
      "False False\n",
      "{'sleepy': False, 'yawn': False, 'dominant emotion': 'sad'} kasgdagdajd\n",
      "False False\n"
     ]
    },
    {
     "name": "stderr",
     "output_type": "stream",
     "text": [
      "Action: emotion: 100%|██████████| 1/1 [00:00<00:00, 36.20it/s]\n"
     ]
    },
    {
     "name": "stdout",
     "output_type": "stream",
     "text": [
      "no major emotion\n",
      "[[192  77  70  70]]\n",
      "False False\n",
      "{'sleepy': False, 'yawn': False, 'dominant emotion': False} kasgdagdajd\n",
      "False False\n"
     ]
    },
    {
     "name": "stderr",
     "output_type": "stream",
     "text": [
      "Action: emotion: 100%|██████████| 1/1 [00:00<00:00, 35.82it/s]"
     ]
    },
    {
     "name": "stdout",
     "output_type": "stream",
     "text": [
      "a major emotion\n",
      "[[192  78  68  68]]\n",
      "False False\n",
      "{'sleepy': False, 'yawn': False, 'dominant emotion': 'neutral'} kasgdagdajd\n",
      "False"
     ]
    },
    {
     "name": "stderr",
     "output_type": "stream",
     "text": [
      "\n"
     ]
    },
    {
     "name": "stdout",
     "output_type": "stream",
     "text": [
      " False\n",
      "[[193  80  67  67]]\n",
      "False False\n",
      "{'sleepy': False, 'yawn': False, 'dominant emotion': False} kasgdagdajd\n",
      "False False\n"
     ]
    },
    {
     "name": "stderr",
     "output_type": "stream",
     "text": [
      "Action: emotion: 100%|██████████| 1/1 [00:00<00:00, 34.48it/s]\n"
     ]
    },
    {
     "name": "stdout",
     "output_type": "stream",
     "text": [
      "a major emotion\n",
      "[[192  80  66  66]]\n",
      "False False\n",
      "{'sleepy': False, 'yawn': False, 'dominant emotion': 'neutral'} kasgdagdajd\n",
      "False False\n",
      "[[192  80  67  67]]\n",
      "False False\n",
      "{'sleepy': False, 'yawn': False, 'dominant emotion': False} kasgdagdajd\n",
      "False False\n",
      "[[192  80  68  68]]\n",
      "False False\n",
      "{'sleepy': False, 'yawn': False, 'dominant emotion': False} kasgdagdajd\n",
      "False False\n",
      "[[192  79  67  67]]\n",
      "False False\n",
      "{'sleepy': False, 'yawn': False, 'dominant emotion': False} kasgdagdajd\n",
      "False False\n",
      "[[192  79  67  67]]\n",
      "False False\n",
      "{'sleepy': False, 'yawn': False, 'dominant emotion': False} kasgdagdajd\n",
      "False False\n",
      "[[192  80  66  66]]\n",
      "False False\n",
      "{'sleepy': False, 'yawn': False, 'dominant emotion': False} kasgdagdajd\n",
      "False False\n",
      "[[188  76  73  73]]\n",
      "False False\n",
      "{'sleepy': False, 'yawn': False, 'dominant emotion': False} kasgdagdajd\n",
      "False False\n",
      "()\n",
      "{'sleepy': False, 'yawn': False, 'dominant emotion': False} kasgdagdajd\n",
      "False False\n",
      "()\n",
      "{'sleepy': False, 'yawn': False, 'dominant emotion': False} kasgdagdajd\n",
      "False False\n",
      "[[191  79  69  69]]\n",
      "False False\n",
      "{'sleepy': False, 'yawn': False, 'dominant emotion': False} kasgdagdajd\n",
      "False False\n",
      "[[192  80  66  66]]\n",
      "False False\n",
      "{'sleepy': False, 'yawn': False, 'dominant emotion': False} kasgdagdajd\n",
      "False False\n",
      "()\n",
      "{'sleepy': False, 'yawn': False, 'dominant emotion': False} kasgdagdajd\n",
      "False False\n",
      "[[190  78  71  71]]\n",
      "False False\n",
      "{'sleepy': False, 'yawn': False, 'dominant emotion': False} kasgdagdajd\n",
      "False False\n",
      "[[193  78  69  69]]\n",
      "False False\n",
      "{'sleepy': False, 'yawn': False, 'dominant emotion': False} kasgdagdajd\n",
      "False False\n",
      "()\n",
      "{'sleepy': False, 'yawn': False, 'dominant emotion': False} kasgdagdajd\n",
      "False False\n",
      "[[192  77  70  70]]\n",
      "False False\n",
      "{'sleepy': False, 'yawn': False, 'dominant emotion': False} kasgdagdajd\n",
      "False False\n",
      "[[192  77  70  70]]\n",
      "False False\n",
      "{'sleepy': False, 'yawn': False, 'dominant emotion': False} kasgdagdajd\n",
      "False False\n",
      "[[192  78  69  69]]\n",
      "False False\n",
      "{'sleepy': False, 'yawn': False, 'dominant emotion': False} kasgdagdajd\n",
      "False False\n",
      "[[190  76  72  72]]\n",
      "False False\n",
      "{'sleepy': False, 'yawn': False, 'dominant emotion': False} kasgdagdajd\n",
      "False False\n"
     ]
    },
    {
     "name": "stderr",
     "output_type": "stream",
     "text": [
      "Action: emotion: 100%|██████████| 1/1 [00:00<00:00, 36.69it/s]\n"
     ]
    },
    {
     "name": "stdout",
     "output_type": "stream",
     "text": [
      "a major emotion\n",
      "[[190  77  72  72]]\n",
      "False False\n",
      "{'sleepy': False, 'yawn': False, 'dominant emotion': 'neutral'} kasgdagdajd\n",
      "False False\n"
     ]
    },
    {
     "name": "stderr",
     "output_type": "stream",
     "text": [
      "Action: emotion: 100%|██████████| 1/1 [00:00<00:00, 39.18it/s]"
     ]
    },
    {
     "name": "stdout",
     "output_type": "stream",
     "text": [
      "no major emotion\n",
      "[[192  79  69  69]]\n",
      "False False\n",
      "{'sleepy': False, 'yawn': False, 'dominant emotion': False} kasgdagdajd\n"
     ]
    },
    {
     "name": "stderr",
     "output_type": "stream",
     "text": [
      "\n"
     ]
    },
    {
     "name": "stdout",
     "output_type": "stream",
     "text": [
      "False False\n"
     ]
    },
    {
     "name": "stderr",
     "output_type": "stream",
     "text": [
      "Action: emotion: 100%|██████████| 1/1 [00:00<00:00, 38.72it/s]\n"
     ]
    },
    {
     "name": "stdout",
     "output_type": "stream",
     "text": [
      "no major emotion\n",
      "[[192  79  70  70]]\n",
      "False False\n",
      "{'sleepy': False, 'yawn': False, 'dominant emotion': False} kasgdagdajd\n",
      "False False\n"
     ]
    },
    {
     "name": "stderr",
     "output_type": "stream",
     "text": [
      "Action: emotion: 100%|██████████| 1/1 [00:00<00:00, 36.34it/s]\n"
     ]
    },
    {
     "name": "stdout",
     "output_type": "stream",
     "text": [
      "no major emotion\n",
      "[[191  79  70  70]]\n",
      "False False\n",
      "{'sleepy': False, 'yawn': False, 'dominant emotion': False} kasgdagdajd\n",
      "False False\n"
     ]
    },
    {
     "name": "stderr",
     "output_type": "stream",
     "text": [
      "Action: emotion: 100%|██████████| 1/1 [00:00<00:00, 37.19it/s]\n"
     ]
    },
    {
     "name": "stdout",
     "output_type": "stream",
     "text": [
      "a major emotion\n",
      "[[191  79  71  71]]\n",
      "False False\n",
      "{'sleepy': False, 'yawn': False, 'dominant emotion': 'neutral'} kasgdagdajd\n",
      "False False\n"
     ]
    },
    {
     "name": "stderr",
     "output_type": "stream",
     "text": [
      "Action: emotion: 100%|██████████| 1/1 [00:00<00:00, 37.42it/s]\n"
     ]
    },
    {
     "name": "stdout",
     "output_type": "stream",
     "text": [
      "no major emotion\n",
      "[[191  78  71  71]]\n",
      "False False\n",
      "{'sleepy': False, 'yawn': False, 'dominant emotion': False} kasgdagdajd\n",
      "False False\n"
     ]
    },
    {
     "name": "stderr",
     "output_type": "stream",
     "text": [
      "Action: emotion: 100%|██████████| 1/1 [00:00<00:00, 34.16it/s]\n"
     ]
    },
    {
     "name": "stdout",
     "output_type": "stream",
     "text": [
      "a major emotion\n",
      "[[191  78  71  71]]\n",
      "False False\n",
      "{'sleepy': False, 'yawn': False, 'dominant emotion': 'neutral'} kasgdagdajd\n",
      "False False\n"
     ]
    },
    {
     "name": "stderr",
     "output_type": "stream",
     "text": [
      "Action: emotion: 100%|██████████| 1/1 [00:00<00:00, 38.03it/s]\n"
     ]
    },
    {
     "name": "stdout",
     "output_type": "stream",
     "text": [
      "no major emotion\n",
      "[[191  80  70  70]]\n",
      "False False\n",
      "{'sleepy': False, 'yawn': False, 'dominant emotion': False} kasgdagdajd\n",
      "False False\n"
     ]
    },
    {
     "name": "stderr",
     "output_type": "stream",
     "text": [
      "Action: emotion: 100%|██████████| 1/1 [00:00<00:00, 27.25it/s]"
     ]
    },
    {
     "name": "stdout",
     "output_type": "stream",
     "text": [
      "no major emotion\n",
      "[[191  80  70  70]]\n",
      "False False\n",
      "{'sleepy': False, 'yawn': False, 'dominant emotion': False} kasgdagdajd\n"
     ]
    },
    {
     "name": "stderr",
     "output_type": "stream",
     "text": [
      "\n"
     ]
    },
    {
     "name": "stdout",
     "output_type": "stream",
     "text": [
      "False False\n"
     ]
    },
    {
     "name": "stderr",
     "output_type": "stream",
     "text": [
      "Action: emotion: 100%|██████████| 1/1 [00:00<00:00, 35.41it/s]\n"
     ]
    },
    {
     "name": "stdout",
     "output_type": "stream",
     "text": [
      "no major emotion\n",
      "[[189  80  72  72]]\n",
      "False False\n",
      "{'sleepy': False, 'yawn': False, 'dominant emotion': False} kasgdagdajd\n",
      "False False\n"
     ]
    },
    {
     "name": "stderr",
     "output_type": "stream",
     "text": [
      "Action: emotion: 100%|██████████| 1/1 [00:00<00:00, 37.64it/s]\n"
     ]
    },
    {
     "name": "stdout",
     "output_type": "stream",
     "text": [
      "no major emotion\n",
      "[[189  80  73  73]]\n",
      "False False\n",
      "{'sleepy': False, 'yawn': False, 'dominant emotion': False} kasgdagdajd\n",
      "False False\n"
     ]
    },
    {
     "name": "stderr",
     "output_type": "stream",
     "text": [
      "Action: emotion: 100%|██████████| 1/1 [00:00<00:00, 37.73it/s]\n"
     ]
    },
    {
     "name": "stdout",
     "output_type": "stream",
     "text": [
      "no major emotion\n",
      "[[190  81  70  70]]\n",
      "False False\n",
      "{'sleepy': False, 'yawn': False, 'dominant emotion': False} kasgdagdajd\n",
      "False False\n"
     ]
    },
    {
     "name": "stderr",
     "output_type": "stream",
     "text": [
      "Action: emotion: 100%|██████████| 1/1 [00:00<00:00, 35.22it/s]\n"
     ]
    },
    {
     "name": "stdout",
     "output_type": "stream",
     "text": [
      "no major emotion\n",
      "[[191  82  69  69]]\n",
      "False False\n",
      "{'sleepy': False, 'yawn': False, 'dominant emotion': False} kasgdagdajd\n",
      "False False\n"
     ]
    },
    {
     "name": "stderr",
     "output_type": "stream",
     "text": [
      "Action: emotion: 100%|██████████| 1/1 [00:00<00:00, 32.94it/s]\n"
     ]
    },
    {
     "name": "stdout",
     "output_type": "stream",
     "text": [
      "a major emotion\n",
      "[[191  81  70  70]]\n",
      "False False\n",
      "{'sleepy': False, 'yawn': False, 'dominant emotion': 'angry'} kasgdagdajd\n",
      "False False\n"
     ]
    },
    {
     "name": "stderr",
     "output_type": "stream",
     "text": [
      "Action: emotion: 100%|██████████| 1/1 [00:00<00:00, 36.89it/s]\n"
     ]
    },
    {
     "name": "stdout",
     "output_type": "stream",
     "text": [
      "a major emotion\n",
      "[[184  73  72  72]]\n",
      "False False\n",
      "{'sleepy': False, 'yawn': False, 'dominant emotion': 'neutral'} kasgdagdajd\n",
      "False False\n"
     ]
    },
    {
     "name": "stderr",
     "output_type": "stream",
     "text": [
      "Action: emotion: 100%|██████████| 1/1 [00:00<00:00, 38.00it/s]\n"
     ]
    },
    {
     "name": "stdout",
     "output_type": "stream",
     "text": [
      "a major emotion\n",
      "[[184  71  74  74]]\n",
      "False False\n",
      "{'sleepy': False, 'yawn': False, 'dominant emotion': 'neutral'} kasgdagdajd\n",
      "False False\n"
     ]
    },
    {
     "name": "stderr",
     "output_type": "stream",
     "text": [
      "Action: emotion: 100%|██████████| 1/1 [00:00<00:00, 37.41it/s]\n"
     ]
    },
    {
     "name": "stdout",
     "output_type": "stream",
     "text": [
      "a major emotion\n",
      "[[183  70  76  76]]\n",
      "False False\n",
      "{'sleepy': False, 'yawn': False, 'dominant emotion': 'neutral'} kasgdagdajd\n",
      "False False\n"
     ]
    },
    {
     "name": "stderr",
     "output_type": "stream",
     "text": [
      "Action: emotion: 100%|██████████| 1/1 [00:00<00:00, 29.97it/s]\n"
     ]
    },
    {
     "name": "stdout",
     "output_type": "stream",
     "text": [
      "no major emotion\n",
      "[[185  72  73  73]]\n",
      "False False\n",
      "{'sleepy': False, 'yawn': False, 'dominant emotion': False} kasgdagdajd\n",
      "False False\n"
     ]
    },
    {
     "name": "stderr",
     "output_type": "stream",
     "text": [
      "Action: emotion: 100%|██████████| 1/1 [00:00<00:00, 36.25it/s]\n"
     ]
    },
    {
     "name": "stdout",
     "output_type": "stream",
     "text": [
      "a major emotion\n",
      "[[186  75  71  71]]\n",
      "False False\n",
      "{'sleepy': False, 'yawn': False, 'dominant emotion': 'angry'} kasgdagdajd\n",
      "False False\n"
     ]
    },
    {
     "name": "stderr",
     "output_type": "stream",
     "text": [
      "Action: emotion: 100%|██████████| 1/1 [00:00<00:00, 36.44it/s]\n"
     ]
    },
    {
     "name": "stdout",
     "output_type": "stream",
     "text": [
      "a major emotion\n",
      "[[186  76  73  73]]\n",
      "False False\n",
      "{'sleepy': False, 'yawn': False, 'dominant emotion': 'angry'} kasgdagdajd\n",
      "False False\n"
     ]
    },
    {
     "name": "stderr",
     "output_type": "stream",
     "text": [
      "Action: emotion: 100%|██████████| 1/1 [00:00<00:00, 38.95it/s]\n"
     ]
    },
    {
     "name": "stdout",
     "output_type": "stream",
     "text": [
      "no major emotion\n",
      "[[188  77  71  71]]\n",
      "False False\n",
      "{'sleepy': False, 'yawn': False, 'dominant emotion': False} kasgdagdajd\n",
      "False False\n"
     ]
    },
    {
     "name": "stderr",
     "output_type": "stream",
     "text": [
      "Action: emotion: 100%|██████████| 1/1 [00:00<00:00, 38.80it/s]\n"
     ]
    },
    {
     "name": "stdout",
     "output_type": "stream",
     "text": [
      "no major emotion\n",
      "[[189  77  70  70]]\n",
      "False False\n",
      "{'sleepy': False, 'yawn': False, 'dominant emotion': False} kasgdagdajd\n",
      "False False\n"
     ]
    },
    {
     "name": "stderr",
     "output_type": "stream",
     "text": [
      "Action: emotion: 100%|██████████| 1/1 [00:00<00:00, 36.60it/s]\n"
     ]
    },
    {
     "name": "stdout",
     "output_type": "stream",
     "text": [
      "no major emotion\n",
      "[[191  78  67  67]]\n",
      "False False\n",
      "{'sleepy': False, 'yawn': False, 'dominant emotion': False} kasgdagdajd\n",
      "False False\n"
     ]
    },
    {
     "name": "stderr",
     "output_type": "stream",
     "text": [
      "Action: emotion: 100%|██████████| 1/1 [00:00<00:00, 38.53it/s]\n"
     ]
    },
    {
     "name": "stdout",
     "output_type": "stream",
     "text": [
      "no major emotion\n",
      "[[189  76  70  70]]\n",
      "False False\n",
      "{'sleepy': False, 'yawn': False, 'dominant emotion': False} kasgdagdajd\n",
      "False False\n"
     ]
    },
    {
     "name": "stderr",
     "output_type": "stream",
     "text": [
      "Action: emotion: 100%|██████████| 1/1 [00:00<00:00, 36.75it/s]"
     ]
    },
    {
     "name": "stdout",
     "output_type": "stream",
     "text": [
      "no major emotion\n",
      "[[189  75  72  72]]\n"
     ]
    },
    {
     "name": "stderr",
     "output_type": "stream",
     "text": [
      "\n"
     ]
    },
    {
     "name": "stdout",
     "output_type": "stream",
     "text": [
      "False False\n",
      "{'sleepy': False, 'yawn': False, 'dominant emotion': False} kasgdagdajd\n",
      "False False\n"
     ]
    },
    {
     "name": "stderr",
     "output_type": "stream",
     "text": [
      "Action: emotion: 100%|██████████| 1/1 [00:00<00:00, 32.23it/s]\n"
     ]
    },
    {
     "name": "stdout",
     "output_type": "stream",
     "text": [
      "no major emotion\n",
      "[[190  76  69  69]]\n",
      "False False\n",
      "{'sleepy': False, 'yawn': False, 'dominant emotion': False} kasgdagdajd\n",
      "False False\n"
     ]
    },
    {
     "name": "stderr",
     "output_type": "stream",
     "text": [
      "Action: emotion: 100%|██████████| 1/1 [00:00<00:00, 36.69it/s]\n"
     ]
    },
    {
     "name": "stdout",
     "output_type": "stream",
     "text": [
      "no major emotion\n",
      "[[190  75  69  69]]\n",
      "False False\n",
      "{'sleepy': False, 'yawn': False, 'dominant emotion': False} kasgdagdajd\n",
      "False False\n"
     ]
    },
    {
     "name": "stderr",
     "output_type": "stream",
     "text": [
      "Action: emotion: 100%|██████████| 1/1 [00:00<00:00, 36.23it/s]\n"
     ]
    },
    {
     "name": "stdout",
     "output_type": "stream",
     "text": [
      "no major emotion\n",
      "[[191  75  69  69]]\n",
      "False False\n",
      "{'sleepy': False, 'yawn': False, 'dominant emotion': False} kasgdagdajd\n",
      "False False\n"
     ]
    },
    {
     "name": "stderr",
     "output_type": "stream",
     "text": [
      "Action: emotion: 100%|██████████| 1/1 [00:00<00:00, 39.14it/s]\n"
     ]
    },
    {
     "name": "stdout",
     "output_type": "stream",
     "text": [
      "no major emotion\n",
      "[[191  75  70  70]]\n",
      "False False\n",
      "{'sleepy': False, 'yawn': False, 'dominant emotion': False} kasgdagdajd\n",
      "False False\n"
     ]
    },
    {
     "name": "stderr",
     "output_type": "stream",
     "text": [
      "Action: emotion: 100%|██████████| 1/1 [00:00<00:00, 38.22it/s]\n"
     ]
    },
    {
     "name": "stdout",
     "output_type": "stream",
     "text": [
      "no major emotion\n",
      "[[191  75  70  70]]\n",
      "False False\n",
      "{'sleepy': False, 'yawn': False, 'dominant emotion': False} kasgdagdajd\n",
      "False False\n"
     ]
    },
    {
     "name": "stderr",
     "output_type": "stream",
     "text": [
      "Action: emotion: 100%|██████████| 1/1 [00:00<00:00, 35.45it/s]\n"
     ]
    },
    {
     "name": "stdout",
     "output_type": "stream",
     "text": [
      "no major emotion\n",
      "[[191  75  70  70]]\n",
      "False False\n",
      "{'sleepy': False, 'yawn': False, 'dominant emotion': False} kasgdagdajd\n",
      "False False\n"
     ]
    },
    {
     "name": "stderr",
     "output_type": "stream",
     "text": [
      "Action: emotion: 100%|██████████| 1/1 [00:00<00:00, 37.90it/s]\n"
     ]
    },
    {
     "name": "stdout",
     "output_type": "stream",
     "text": [
      "no major emotion\n",
      "[[191  76  71  71]]\n",
      "False False\n",
      "{'sleepy': False, 'yawn': False, 'dominant emotion': False} kasgdagdajd\n",
      "False False\n"
     ]
    },
    {
     "name": "stderr",
     "output_type": "stream",
     "text": [
      "Action: emotion: 100%|██████████| 1/1 [00:00<00:00, 38.03it/s]\n"
     ]
    },
    {
     "name": "stdout",
     "output_type": "stream",
     "text": [
      "no major emotion\n",
      "[[191  75  72  72]]\n",
      "False False\n",
      "{'sleepy': False, 'yawn': False, 'dominant emotion': False} kasgdagdajd\n",
      "False False\n"
     ]
    },
    {
     "name": "stderr",
     "output_type": "stream",
     "text": [
      "Action: emotion: 100%|██████████| 1/1 [00:00<00:00, 37.54it/s]\n"
     ]
    },
    {
     "name": "stdout",
     "output_type": "stream",
     "text": [
      "no major emotion\n",
      "[[191  76  72  72]]\n",
      "False False\n",
      "{'sleepy': False, 'yawn': False, 'dominant emotion': False} kasgdagdajd\n",
      "False False\n"
     ]
    },
    {
     "name": "stderr",
     "output_type": "stream",
     "text": [
      "Action: emotion: 100%|██████████| 1/1 [00:00<00:00, 38.60it/s]\n"
     ]
    },
    {
     "name": "stdout",
     "output_type": "stream",
     "text": [
      "no major emotion\n",
      "[[192  76  71  71]]\n",
      "False False\n",
      "{'sleepy': False, 'yawn': False, 'dominant emotion': False} kasgdagdajd\n",
      "False False\n"
     ]
    },
    {
     "name": "stderr",
     "output_type": "stream",
     "text": [
      "Action: emotion: 100%|██████████| 1/1 [00:00<00:00, 40.50it/s]\n"
     ]
    },
    {
     "name": "stdout",
     "output_type": "stream",
     "text": [
      "no major emotion\n",
      "[[191  77  71  71]]\n",
      "False False\n",
      "{'sleepy': False, 'yawn': False, 'dominant emotion': False} kasgdagdajd\n",
      "False False\n"
     ]
    },
    {
     "name": "stderr",
     "output_type": "stream",
     "text": [
      "Action: emotion: 100%|██████████| 1/1 [00:00<00:00, 34.93it/s]"
     ]
    },
    {
     "name": "stdout",
     "output_type": "stream",
     "text": [
      "no major emotion\n",
      "[[190  78  70  70]]\n"
     ]
    },
    {
     "name": "stderr",
     "output_type": "stream",
     "text": [
      "\n"
     ]
    },
    {
     "name": "stdout",
     "output_type": "stream",
     "text": [
      "False False\n",
      "{'sleepy': False, 'yawn': False, 'dominant emotion': False} kasgdagdajd\n",
      "False False\n"
     ]
    },
    {
     "name": "stderr",
     "output_type": "stream",
     "text": [
      "Action: emotion: 100%|██████████| 1/1 [00:00<00:00, 40.28it/s]\n"
     ]
    },
    {
     "name": "stdout",
     "output_type": "stream",
     "text": [
      "no major emotion\n",
      "[[190  78  69  69]]\n",
      "False False\n",
      "{'sleepy': False, 'yawn': False, 'dominant emotion': False} kasgdagdajd\n",
      "False False\n"
     ]
    },
    {
     "name": "stderr",
     "output_type": "stream",
     "text": [
      "Action: emotion: 100%|██████████| 1/1 [00:00<00:00, 40.41it/s]\n"
     ]
    },
    {
     "name": "stdout",
     "output_type": "stream",
     "text": [
      "a major emotion\n",
      "[[188  77  70  70]]\n",
      "False False\n",
      "{'sleepy': False, 'yawn': False, 'dominant emotion': 'angry'} kasgdagdajd\n",
      "False False\n"
     ]
    },
    {
     "name": "stderr",
     "output_type": "stream",
     "text": [
      "Action: emotion: 100%|██████████| 1/1 [00:00<00:00, 40.78it/s]\n"
     ]
    },
    {
     "name": "stdout",
     "output_type": "stream",
     "text": [
      "no major emotion\n",
      "[[189  78  70  70]]\n",
      "False False\n",
      "{'sleepy': False, 'yawn': False, 'dominant emotion': False} kasgdagdajd\n",
      "False False\n"
     ]
    },
    {
     "name": "stderr",
     "output_type": "stream",
     "text": [
      "Action: emotion: 100%|██████████| 1/1 [00:00<00:00, 39.41it/s]"
     ]
    },
    {
     "name": "stdout",
     "output_type": "stream",
     "text": [
      "a major emotion\n",
      "[[189  78  69  69]]\n",
      "False False\n",
      "{'sleepy': False, 'yawn': False, 'dominant emotion': 'angry'} kasgdagdajd\n"
     ]
    },
    {
     "name": "stderr",
     "output_type": "stream",
     "text": [
      "\n"
     ]
    },
    {
     "name": "stdout",
     "output_type": "stream",
     "text": [
      "False False\n"
     ]
    },
    {
     "name": "stderr",
     "output_type": "stream",
     "text": [
      "Action: emotion: 100%|██████████| 1/1 [00:00<00:00, 40.82it/s]"
     ]
    },
    {
     "name": "stdout",
     "output_type": "stream",
     "text": [
      "a major emotion\n",
      "[[187  78  68  68]]\n",
      "False False\n",
      "{'sleepy': False, 'yawn': False, 'dominant emotion': 'angry'} kasgdagdajd\n"
     ]
    },
    {
     "name": "stderr",
     "output_type": "stream",
     "text": [
      "\n"
     ]
    },
    {
     "name": "stdout",
     "output_type": "stream",
     "text": [
      "False False\n"
     ]
    },
    {
     "name": "stderr",
     "output_type": "stream",
     "text": [
      "Action: emotion: 100%|██████████| 1/1 [00:00<00:00, 38.32it/s]"
     ]
    },
    {
     "name": "stdout",
     "output_type": "stream",
     "text": [
      "no major emotion\n",
      "[[186  77  70  70]]\n",
      "False False\n",
      "{'sleepy': False, 'yawn': False, 'dominant emotion': False} kasgdagdajd\n"
     ]
    },
    {
     "name": "stderr",
     "output_type": "stream",
     "text": [
      "\n"
     ]
    },
    {
     "name": "stdout",
     "output_type": "stream",
     "text": [
      "False False\n"
     ]
    },
    {
     "name": "stderr",
     "output_type": "stream",
     "text": [
      "Action: emotion: 100%|██████████| 1/1 [00:00<00:00, 40.25it/s]\n"
     ]
    },
    {
     "name": "stdout",
     "output_type": "stream",
     "text": [
      "no major emotion\n",
      "[[185  77  70  70]]\n",
      "False False\n",
      "{'sleepy': False, 'yawn': False, 'dominant emotion': False} kasgdagdajd\n",
      "False False\n"
     ]
    },
    {
     "name": "stderr",
     "output_type": "stream",
     "text": [
      "Action: emotion: 100%|██████████| 1/1 [00:00<00:00, 39.81it/s]\n"
     ]
    },
    {
     "name": "stdout",
     "output_type": "stream",
     "text": [
      "a major emotion\n",
      "[[185  77  70  70]]\n",
      "False False\n",
      "{'sleepy': False, 'yawn': False, 'dominant emotion': 'angry'} kasgdagdajd\n",
      "False False\n"
     ]
    },
    {
     "name": "stderr",
     "output_type": "stream",
     "text": [
      "Action: emotion: 100%|██████████| 1/1 [00:00<00:00, 40.47it/s]\n"
     ]
    },
    {
     "name": "stdout",
     "output_type": "stream",
     "text": [
      "a major emotion\n",
      "[[186  77  67  67]]\n",
      "False False\n",
      "{'sleepy': False, 'yawn': False, 'dominant emotion': 'angry'} kasgdagdajd\n",
      "False False\n"
     ]
    },
    {
     "name": "stderr",
     "output_type": "stream",
     "text": [
      "Action: emotion: 100%|██████████| 1/1 [00:00<00:00, 40.24it/s]"
     ]
    },
    {
     "name": "stdout",
     "output_type": "stream",
     "text": [
      "a major emotion\n",
      "[[183  74  70  70]]\n",
      "False False\n",
      "{'sleepy': False, 'yawn': False, 'dominant emotion': 'angry'} kasgdagdajd\n"
     ]
    },
    {
     "name": "stderr",
     "output_type": "stream",
     "text": [
      "\n"
     ]
    },
    {
     "name": "stdout",
     "output_type": "stream",
     "text": [
      "False False\n"
     ]
    },
    {
     "name": "stderr",
     "output_type": "stream",
     "text": [
      "Action: emotion: 100%|██████████| 1/1 [00:00<00:00, 40.53it/s]\n"
     ]
    },
    {
     "name": "stdout",
     "output_type": "stream",
     "text": [
      "a major emotion\n",
      "[[184  74  68  68]]\n",
      "False False\n",
      "{'sleepy': False, 'yawn': False, 'dominant emotion': 'angry'} kasgdagdajd\n",
      "False False\n"
     ]
    },
    {
     "name": "stderr",
     "output_type": "stream",
     "text": [
      "Action: emotion: 100%|██████████| 1/1 [00:00<00:00, 38.63it/s]"
     ]
    },
    {
     "name": "stdout",
     "output_type": "stream",
     "text": [
      "a major emotion\n",
      "[[182  74  69  69]]\n",
      "False False\n",
      "{'sleepy': False, 'yawn': False, 'dominant emotion': 'angry'} kasgdagdajd\n"
     ]
    },
    {
     "name": "stderr",
     "output_type": "stream",
     "text": [
      "\n"
     ]
    },
    {
     "name": "stdout",
     "output_type": "stream",
     "text": [
      "False False\n"
     ]
    },
    {
     "name": "stderr",
     "output_type": "stream",
     "text": [
      "Action: emotion: 100%|██████████| 1/1 [00:00<00:00, 39.73it/s]"
     ]
    },
    {
     "name": "stdout",
     "output_type": "stream",
     "text": [
      "a major emotion\n",
      "[[183  75  67  67]]\n",
      "False False\n",
      "{'sleepy': False, 'yawn': False, 'dominant emotion': 'angry'} kasgdagdajd\n",
      "False False\n"
     ]
    },
    {
     "name": "stderr",
     "output_type": "stream",
     "text": [
      "\n",
      "Action: emotion: 100%|██████████| 1/1 [00:00<00:00, 40.34it/s]\n"
     ]
    },
    {
     "name": "stdout",
     "output_type": "stream",
     "text": [
      "no major emotion\n",
      "[[182  75  69  69]]\n",
      "False False\n",
      "{'sleepy': False, 'yawn': False, 'dominant emotion': False} kasgdagdajd\n",
      "False False\n"
     ]
    },
    {
     "name": "stderr",
     "output_type": "stream",
     "text": [
      "Action: emotion: 100%|██████████| 1/1 [00:00<00:00, 31.81it/s]"
     ]
    },
    {
     "name": "stdout",
     "output_type": "stream",
     "text": [
      "no major emotion\n",
      "[[181  75  68  68]]\n",
      "False False\n",
      "{'sleepy': False, 'yawn': False, 'dominant emotion': False} kasgdagdajd\n"
     ]
    },
    {
     "name": "stderr",
     "output_type": "stream",
     "text": [
      "\n"
     ]
    },
    {
     "name": "stdout",
     "output_type": "stream",
     "text": [
      "False False\n"
     ]
    },
    {
     "name": "stderr",
     "output_type": "stream",
     "text": [
      "Action: emotion: 100%|██████████| 1/1 [00:00<00:00, 40.49it/s]\n"
     ]
    },
    {
     "name": "stdout",
     "output_type": "stream",
     "text": [
      "no major emotion\n",
      "[[182  76  67  67]]\n",
      "False False\n",
      "{'sleepy': False, 'yawn': False, 'dominant emotion': False} kasgdagdajd\n",
      "False False\n"
     ]
    },
    {
     "name": "stderr",
     "output_type": "stream",
     "text": [
      "Action: emotion: 100%|██████████| 1/1 [00:00<00:00, 35.15it/s]\n"
     ]
    },
    {
     "name": "stdout",
     "output_type": "stream",
     "text": [
      "no major emotion\n",
      "[[182  77  67  67]]\n",
      "False False\n",
      "{'sleepy': False, 'yawn': False, 'dominant emotion': False} kasgdagdajd\n",
      "False False\n"
     ]
    },
    {
     "name": "stderr",
     "output_type": "stream",
     "text": [
      "Action: emotion: 100%|██████████| 1/1 [00:00<00:00, 37.72it/s]\n"
     ]
    },
    {
     "name": "stdout",
     "output_type": "stream",
     "text": [
      "no major emotion\n",
      "[[183  77  66  66]]\n",
      "False False\n",
      "{'sleepy': False, 'yawn': False, 'dominant emotion': False} kasgdagdajd\n",
      "False False\n"
     ]
    },
    {
     "name": "stderr",
     "output_type": "stream",
     "text": [
      "Action: emotion: 100%|██████████| 1/1 [00:00<00:00, 41.13it/s]\n"
     ]
    },
    {
     "name": "stdout",
     "output_type": "stream",
     "text": [
      "no major emotion\n",
      "[[183  77  66  66]]\n",
      "False False\n",
      "{'sleepy': False, 'yawn': False, 'dominant emotion': False} kasgdagdajd\n",
      "False False\n"
     ]
    },
    {
     "name": "stderr",
     "output_type": "stream",
     "text": [
      "Action: emotion: 100%|██████████| 1/1 [00:00<00:00, 40.56it/s]\n"
     ]
    },
    {
     "name": "stdout",
     "output_type": "stream",
     "text": [
      "a major emotion\n",
      "[[184  77  67  67]]\n",
      "False False\n",
      "{'sleepy': False, 'yawn': False, 'dominant emotion': 'neutral'} kasgdagdajd\n",
      "False False\n"
     ]
    },
    {
     "name": "stderr",
     "output_type": "stream",
     "text": [
      "Action: emotion: 100%|██████████| 1/1 [00:00<00:00, 39.72it/s]\n"
     ]
    },
    {
     "name": "stdout",
     "output_type": "stream",
     "text": [
      "a major emotion\n",
      "[[184  77  67  67]]\n",
      "False False\n",
      "{'sleepy': False, 'yawn': False, 'dominant emotion': 'neutral'} kasgdagdajd\n",
      "False False\n"
     ]
    },
    {
     "name": "stderr",
     "output_type": "stream",
     "text": [
      "Action: emotion: 100%|██████████| 1/1 [00:00<00:00, 39.28it/s]"
     ]
    },
    {
     "name": "stdout",
     "output_type": "stream",
     "text": [
      "a major emotion\n",
      "[[185  77  67  67]]\n"
     ]
    },
    {
     "name": "stderr",
     "output_type": "stream",
     "text": [
      "\n"
     ]
    },
    {
     "name": "stdout",
     "output_type": "stream",
     "text": [
      "False False\n",
      "{'sleepy': False, 'yawn': False, 'dominant emotion': 'neutral'} kasgdagdajd\n",
      "False False\n"
     ]
    },
    {
     "name": "stderr",
     "output_type": "stream",
     "text": [
      "Action: emotion: 100%|██████████| 1/1 [00:00<00:00, 39.87it/s]\n"
     ]
    },
    {
     "name": "stdout",
     "output_type": "stream",
     "text": [
      "a major emotion\n",
      "[[186  77  66  66]]\n",
      "False False\n",
      "{'sleepy': False, 'yawn': False, 'dominant emotion': 'neutral'} kasgdagdajd\n",
      "False False\n"
     ]
    },
    {
     "name": "stderr",
     "output_type": "stream",
     "text": [
      "Action: emotion: 100%|██████████| 1/1 [00:00<00:00, 37.31it/s]"
     ]
    },
    {
     "name": "stdout",
     "output_type": "stream",
     "text": [
      "a major emotion\n",
      "[[187  76  67  67]]\n"
     ]
    },
    {
     "name": "stderr",
     "output_type": "stream",
     "text": [
      "\n"
     ]
    },
    {
     "name": "stdout",
     "output_type": "stream",
     "text": [
      "False False\n",
      "{'sleepy': False, 'yawn': False, 'dominant emotion': 'neutral'} kasgdagdajd\n",
      "False False\n"
     ]
    },
    {
     "name": "stderr",
     "output_type": "stream",
     "text": [
      "Action: emotion: 100%|██████████| 1/1 [00:00<00:00, 40.02it/s]\n"
     ]
    },
    {
     "name": "stdout",
     "output_type": "stream",
     "text": [
      "a major emotion\n",
      "[[186  75  68  68]]\n",
      "False False\n",
      "{'sleepy': False, 'yawn': False, 'dominant emotion': 'neutral'} kasgdagdajd\n",
      "False False\n"
     ]
    },
    {
     "name": "stderr",
     "output_type": "stream",
     "text": [
      "Action: emotion: 100%|██████████| 1/1 [00:00<00:00, 40.77it/s]\n"
     ]
    },
    {
     "name": "stdout",
     "output_type": "stream",
     "text": [
      "a major emotion\n",
      "[[187  76  66  66]]\n",
      "False False\n",
      "{'sleepy': False, 'yawn': False, 'dominant emotion': 'neutral'} kasgdagdajd\n",
      "False False\n"
     ]
    },
    {
     "name": "stderr",
     "output_type": "stream",
     "text": [
      "Action: emotion: 100%|██████████| 1/1 [00:00<00:00, 39.24it/s]\n"
     ]
    },
    {
     "name": "stdout",
     "output_type": "stream",
     "text": [
      "a major emotion\n",
      "[[186  75  67  67]]\n",
      "False True\n",
      "{'sleepy': True, 'yawn': False, 'dominant emotion': 'neutral'} kasgdagdajd\n",
      "True False\n"
     ]
    },
    {
     "name": "stderr",
     "output_type": "stream",
     "text": [
      "Action: emotion: 100%|██████████| 1/1 [00:00<00:00, 40.46it/s]"
     ]
    },
    {
     "name": "stdout",
     "output_type": "stream",
     "text": [
      "a major emotion\n",
      "[[185  74  68  68]]\n",
      "False True\n",
      "{'sleepy': True, 'yawn': False, 'dominant emotion': 'neutral'} kasgdagdajd\n",
      "True False\n"
     ]
    },
    {
     "name": "stderr",
     "output_type": "stream",
     "text": [
      "\n",
      "Action: emotion: 100%|██████████| 1/1 [00:00<00:00, 40.59it/s]"
     ]
    },
    {
     "name": "stdout",
     "output_type": "stream",
     "text": [
      "a major emotion\n",
      "[[185  74  66  66]]\n",
      "False True\n",
      "{'sleepy': True, 'yawn': False, 'dominant emotion': 'neutral'} kasgdagdajd\n",
      "True False\n"
     ]
    },
    {
     "name": "stderr",
     "output_type": "stream",
     "text": [
      "\n",
      "Action: emotion: 100%|██████████| 1/1 [00:00<00:00, 37.95it/s]"
     ]
    },
    {
     "name": "stdout",
     "output_type": "stream",
     "text": [
      "a major emotion\n",
      "[[184  73  68  68]]\n",
      "False True\n",
      "{'sleepy': True, 'yawn': False, 'dominant emotion': 'neutral'} kasgdagdajd\n"
     ]
    },
    {
     "name": "stderr",
     "output_type": "stream",
     "text": [
      "\n"
     ]
    },
    {
     "name": "stdout",
     "output_type": "stream",
     "text": [
      "True False\n"
     ]
    },
    {
     "name": "stderr",
     "output_type": "stream",
     "text": [
      "Action: emotion: 100%|██████████| 1/1 [00:00<00:00, 39.56it/s]\n"
     ]
    },
    {
     "name": "stdout",
     "output_type": "stream",
     "text": [
      "a major emotion\n",
      "[[184  73  67  67]]\n",
      "False True\n",
      "{'sleepy': True, 'yawn': False, 'dominant emotion': 'neutral'} kasgdagdajd\n",
      "True False\n"
     ]
    },
    {
     "name": "stderr",
     "output_type": "stream",
     "text": [
      "Action: emotion: 100%|██████████| 1/1 [00:00<00:00, 39.45it/s]"
     ]
    },
    {
     "name": "stdout",
     "output_type": "stream",
     "text": [
      "a major emotion\n",
      "[[183  73  66  66]]\n",
      "False True\n",
      "{'sleepy': True, 'yawn': False, 'dominant emotion': 'neutral'} kasgdagdajd\n"
     ]
    },
    {
     "name": "stderr",
     "output_type": "stream",
     "text": [
      "\n"
     ]
    },
    {
     "name": "stdout",
     "output_type": "stream",
     "text": [
      "True False\n"
     ]
    },
    {
     "name": "stderr",
     "output_type": "stream",
     "text": [
      "Action: emotion: 100%|██████████| 1/1 [00:00<00:00, 38.86it/s]"
     ]
    },
    {
     "name": "stdout",
     "output_type": "stream",
     "text": [
      "a major emotion\n",
      "[[182  72  65  65]]\n",
      "False True\n",
      "{'sleepy': True, 'yawn': False, 'dominant emotion': 'neutral'} kasgdagdajd\n"
     ]
    },
    {
     "name": "stderr",
     "output_type": "stream",
     "text": [
      "\n"
     ]
    },
    {
     "name": "stdout",
     "output_type": "stream",
     "text": [
      "True False\n"
     ]
    },
    {
     "name": "stderr",
     "output_type": "stream",
     "text": [
      "Action: emotion: 100%|██████████| 1/1 [00:00<00:00, 40.72it/s]\n"
     ]
    },
    {
     "name": "stdout",
     "output_type": "stream",
     "text": [
      "no major emotion\n",
      "[[184  73  64  64]]\n",
      "False True\n",
      "{'sleepy': True, 'yawn': False, 'dominant emotion': False} kasgdagdajd\n",
      "True False\n"
     ]
    },
    {
     "name": "stderr",
     "output_type": "stream",
     "text": [
      "Action: emotion: 100%|██████████| 1/1 [00:00<00:00, 40.13it/s]\n"
     ]
    },
    {
     "name": "stdout",
     "output_type": "stream",
     "text": [
      "a major emotion\n",
      "[[180  71  70  70]]\n",
      "False True\n",
      "{'sleepy': True, 'yawn': False, 'dominant emotion': 'neutral'} kasgdagdajd\n",
      "True False\n"
     ]
    },
    {
     "name": "stderr",
     "output_type": "stream",
     "text": [
      "Action: emotion: 100%|██████████| 1/1 [00:00<00:00, 30.50it/s]"
     ]
    },
    {
     "name": "stdout",
     "output_type": "stream",
     "text": [
      "a major emotion\n",
      "[[181  72  67  67]]\n",
      "False True\n",
      "{'sleepy': True, 'yawn': False, 'dominant emotion': 'neutral'} kasgdagdajd\n"
     ]
    },
    {
     "name": "stderr",
     "output_type": "stream",
     "text": [
      "\n"
     ]
    },
    {
     "name": "stdout",
     "output_type": "stream",
     "text": [
      "True False\n"
     ]
    },
    {
     "name": "stderr",
     "output_type": "stream",
     "text": [
      "Action: emotion: 100%|██████████| 1/1 [00:00<00:00, 37.93it/s]\n"
     ]
    },
    {
     "name": "stdout",
     "output_type": "stream",
     "text": [
      "no major emotion\n",
      "[[181  71  67  67]]\n",
      "False True\n",
      "{'sleepy': True, 'yawn': False, 'dominant emotion': False} kasgdagdajd\n",
      "True False\n"
     ]
    },
    {
     "name": "stderr",
     "output_type": "stream",
     "text": [
      "Action: emotion: 100%|██████████| 1/1 [00:00<00:00, 40.51it/s]\n"
     ]
    },
    {
     "name": "stdout",
     "output_type": "stream",
     "text": [
      "no major emotion\n",
      "[[180  72  68  68]]\n",
      "False True\n",
      "{'sleepy': True, 'yawn': False, 'dominant emotion': False} kasgdagdajd\n",
      "True False\n"
     ]
    },
    {
     "name": "stderr",
     "output_type": "stream",
     "text": [
      "Action: emotion: 100%|██████████| 1/1 [00:00<00:00, 40.98it/s]\n"
     ]
    },
    {
     "name": "stdout",
     "output_type": "stream",
     "text": [
      "a major emotion\n",
      "[[179  72  70  70]]\n",
      "False True\n",
      "{'sleepy': True, 'yawn': False, 'dominant emotion': 'neutral'} kasgdagdajd\n",
      "True False\n"
     ]
    },
    {
     "name": "stderr",
     "output_type": "stream",
     "text": [
      "Action: emotion: 100%|██████████| 1/1 [00:00<00:00, 39.96it/s]\n"
     ]
    },
    {
     "name": "stdout",
     "output_type": "stream",
     "text": [
      "a major emotion\n",
      "[[179  72  71  71]]\n",
      "False True\n",
      "{'sleepy': True, 'yawn': False, 'dominant emotion': 'neutral'} kasgdagdajd\n",
      "True False\n"
     ]
    },
    {
     "name": "stderr",
     "output_type": "stream",
     "text": [
      "Action: emotion: 100%|██████████| 1/1 [00:00<00:00, 40.32it/s]\n"
     ]
    },
    {
     "name": "stdout",
     "output_type": "stream",
     "text": [
      "a major emotion\n",
      "[[180  73  68  68]]\n",
      "False False\n",
      "{'sleepy': False, 'yawn': False, 'dominant emotion': 'neutral'} kasgdagdajd\n",
      "False False\n"
     ]
    },
    {
     "name": "stderr",
     "output_type": "stream",
     "text": [
      "Action: emotion: 100%|██████████| 1/1 [00:00<00:00, 38.28it/s]\n"
     ]
    },
    {
     "name": "stdout",
     "output_type": "stream",
     "text": [
      "no major emotion\n",
      "[[180  74  67  67]]\n",
      "False False\n",
      "{'sleepy': False, 'yawn': False, 'dominant emotion': False} kasgdagdajd\n",
      "False False\n"
     ]
    },
    {
     "name": "stderr",
     "output_type": "stream",
     "text": [
      "Action: emotion: 100%|██████████| 1/1 [00:00<00:00, 40.45it/s]\n"
     ]
    },
    {
     "name": "stdout",
     "output_type": "stream",
     "text": [
      "a major emotion\n",
      "[[181  74  68  68]]\n",
      "False False\n",
      "{'sleepy': False, 'yawn': False, 'dominant emotion': 'neutral'} kasgdagdajd\n",
      "False False\n"
     ]
    },
    {
     "name": "stderr",
     "output_type": "stream",
     "text": [
      "Action: emotion: 100%|██████████| 1/1 [00:00<00:00, 40.16it/s]\n"
     ]
    },
    {
     "name": "stdout",
     "output_type": "stream",
     "text": [
      "a major emotion\n",
      "[[181  73  69  69]]\n",
      "False False\n",
      "{'sleepy': False, 'yawn': False, 'dominant emotion': 'neutral'} kasgdagdajd\n",
      "False False\n"
     ]
    },
    {
     "name": "stderr",
     "output_type": "stream",
     "text": [
      "Action: emotion: 100%|██████████| 1/1 [00:00<00:00, 39.58it/s]\n"
     ]
    },
    {
     "name": "stdout",
     "output_type": "stream",
     "text": [
      "a major emotion\n",
      "[[180  73  70  70]]\n",
      "False False\n",
      "{'sleepy': False, 'yawn': False, 'dominant emotion': 'neutral'} kasgdagdajd\n",
      "False False\n"
     ]
    },
    {
     "name": "stderr",
     "output_type": "stream",
     "text": [
      "Action: emotion: 100%|██████████| 1/1 [00:00<00:00, 40.59it/s]"
     ]
    },
    {
     "name": "stdout",
     "output_type": "stream",
     "text": [
      "a major emotion\n",
      "[[179  73  71  71]]\n",
      "False False\n",
      "{'sleepy': False, 'yawn': False, 'dominant emotion': 'neutral'} kasgdagdajd\n"
     ]
    },
    {
     "name": "stderr",
     "output_type": "stream",
     "text": [
      "\n"
     ]
    },
    {
     "name": "stdout",
     "output_type": "stream",
     "text": [
      "False False\n"
     ]
    },
    {
     "name": "stderr",
     "output_type": "stream",
     "text": [
      "Action: emotion: 100%|██████████| 1/1 [00:00<00:00, 32.46it/s]\n"
     ]
    },
    {
     "name": "stdout",
     "output_type": "stream",
     "text": [
      "a major emotion\n",
      "[[180  73  70  70]]\n",
      "False False\n",
      "{'sleepy': False, 'yawn': False, 'dominant emotion': 'neutral'} kasgdagdajd\n",
      "False False\n"
     ]
    },
    {
     "name": "stderr",
     "output_type": "stream",
     "text": [
      "Action: emotion: 100%|██████████| 1/1 [00:00<00:00, 37.54it/s]\n"
     ]
    },
    {
     "name": "stdout",
     "output_type": "stream",
     "text": [
      "a major emotion\n",
      "[[180  74  69  69]]\n",
      "False False\n",
      "{'sleepy': False, 'yawn': False, 'dominant emotion': 'neutral'} kasgdagdajd\n",
      "False False\n"
     ]
    },
    {
     "name": "stderr",
     "output_type": "stream",
     "text": [
      "Action: emotion: 100%|██████████| 1/1 [00:00<00:00, 39.04it/s]\n"
     ]
    },
    {
     "name": "stdout",
     "output_type": "stream",
     "text": [
      "a major emotion\n",
      "[[178  71  71  71]]\n",
      "False False\n",
      "{'sleepy': False, 'yawn': False, 'dominant emotion': 'neutral'} kasgdagdajd\n",
      "False False\n"
     ]
    },
    {
     "name": "stderr",
     "output_type": "stream",
     "text": [
      "Action: emotion: 100%|██████████| 1/1 [00:00<00:00, 39.57it/s]\n"
     ]
    },
    {
     "name": "stdout",
     "output_type": "stream",
     "text": [
      "a major emotion\n",
      "[[179  72  72  72]]\n",
      "False False\n",
      "{'sleepy': False, 'yawn': False, 'dominant emotion': 'neutral'} kasgdagdajd\n",
      "False False\n"
     ]
    },
    {
     "name": "stderr",
     "output_type": "stream",
     "text": [
      "Action: emotion: 100%|██████████| 1/1 [00:00<00:00, 40.81it/s]\n"
     ]
    },
    {
     "name": "stdout",
     "output_type": "stream",
     "text": [
      "a major emotion\n",
      "[[178  71  71  71]]\n",
      "False False\n",
      "{'sleepy': False, 'yawn': False, 'dominant emotion': 'neutral'} kasgdagdajd\n",
      "False False\n"
     ]
    },
    {
     "name": "stderr",
     "output_type": "stream",
     "text": [
      "Action: emotion: 100%|██████████| 1/1 [00:00<00:00, 39.47it/s]\n"
     ]
    },
    {
     "name": "stdout",
     "output_type": "stream",
     "text": [
      "a major emotion\n",
      "[[178  69  71  71]]\n",
      "False False\n",
      "{'sleepy': False, 'yawn': False, 'dominant emotion': 'sad'} kasgdagdajd\n",
      "False False\n"
     ]
    },
    {
     "name": "stderr",
     "output_type": "stream",
     "text": [
      "Action: emotion: 100%|██████████| 1/1 [00:00<00:00, 39.88it/s]\n"
     ]
    },
    {
     "name": "stdout",
     "output_type": "stream",
     "text": [
      "a major emotion\n",
      "[[188  69  76  76]]\n",
      "False False\n",
      "{'sleepy': False, 'yawn': False, 'dominant emotion': 'neutral'} kasgdagdajd\n",
      "False False\n"
     ]
    },
    {
     "name": "stderr",
     "output_type": "stream",
     "text": [
      "Action: emotion: 100%|██████████| 1/1 [00:00<00:00,  6.92it/s]\n"
     ]
    },
    {
     "name": "stdout",
     "output_type": "stream",
     "text": [
      "a major emotion\n",
      "[[188  69  75  75]]\n",
      "False False\n",
      "{'sleepy': False, 'yawn': False, 'dominant emotion': 'neutral'} kasgdagdajd\n",
      "False False\n"
     ]
    },
    {
     "name": "stderr",
     "output_type": "stream",
     "text": [
      "Action: emotion: 100%|██████████| 1/1 [00:00<00:00, 38.65it/s]\n"
     ]
    },
    {
     "name": "stdout",
     "output_type": "stream",
     "text": [
      "a major emotion\n",
      "[[188  69  75  75]]\n",
      "False False\n",
      "{'sleepy': False, 'yawn': False, 'dominant emotion': 'neutral'} kasgdagdajd\n",
      "False False\n"
     ]
    },
    {
     "name": "stderr",
     "output_type": "stream",
     "text": [
      "Action: emotion: 100%|██████████| 1/1 [00:00<00:00, 38.98it/s]\n"
     ]
    },
    {
     "name": "stdout",
     "output_type": "stream",
     "text": [
      "a major emotion\n",
      "[[187  69  75  75]]\n",
      "False False\n",
      "{'sleepy': False, 'yawn': False, 'dominant emotion': 'neutral'} kasgdagdajd\n",
      "False False\n"
     ]
    },
    {
     "name": "stderr",
     "output_type": "stream",
     "text": [
      "Action: emotion: 100%|██████████| 1/1 [00:00<00:00, 38.56it/s]\n"
     ]
    },
    {
     "name": "stdout",
     "output_type": "stream",
     "text": [
      "a major emotion\n",
      "[[186  69  76  76]]\n",
      "False False\n",
      "{'sleepy': False, 'yawn': False, 'dominant emotion': 'neutral'} kasgdagdajd\n",
      "False False\n"
     ]
    },
    {
     "name": "stderr",
     "output_type": "stream",
     "text": [
      "Action: emotion: 100%|██████████| 1/1 [00:00<00:00, 29.24it/s]\n"
     ]
    },
    {
     "name": "stdout",
     "output_type": "stream",
     "text": [
      "a major emotion\n",
      "[[186  69  76  76]]\n",
      "False False\n",
      "{'sleepy': False, 'yawn': False, 'dominant emotion': 'neutral'} kasgdagdajd\n",
      "False False\n"
     ]
    },
    {
     "name": "stderr",
     "output_type": "stream",
     "text": [
      "Action: emotion: 100%|██████████| 1/1 [00:00<00:00, 39.94it/s]\n"
     ]
    },
    {
     "name": "stdout",
     "output_type": "stream",
     "text": [
      "a major emotion\n",
      "[[186  69  76  76]]\n",
      "False False\n",
      "{'sleepy': False, 'yawn': False, 'dominant emotion': 'neutral'} kasgdagdajd\n",
      "False False\n"
     ]
    },
    {
     "name": "stderr",
     "output_type": "stream",
     "text": [
      "Action: emotion: 100%|██████████| 1/1 [00:00<00:00, 37.42it/s]\n"
     ]
    },
    {
     "name": "stdout",
     "output_type": "stream",
     "text": [
      "a major emotion\n",
      "[[184  67  78  78]]\n",
      "False False\n",
      "{'sleepy': False, 'yawn': False, 'dominant emotion': 'neutral'} kasgdagdajd\n",
      "False False\n"
     ]
    },
    {
     "name": "stderr",
     "output_type": "stream",
     "text": [
      "Action: emotion: 100%|██████████| 1/1 [00:00<00:00, 40.55it/s]\n"
     ]
    },
    {
     "name": "stdout",
     "output_type": "stream",
     "text": [
      "a major emotion\n",
      "[[185  67  77  77]]\n",
      "False False\n",
      "{'sleepy': False, 'yawn': False, 'dominant emotion': 'neutral'} kasgdagdajd\n",
      "False False\n"
     ]
    },
    {
     "name": "stderr",
     "output_type": "stream",
     "text": [
      "Action: emotion: 100%|██████████| 1/1 [00:00<00:00, 41.23it/s]\n"
     ]
    },
    {
     "name": "stdout",
     "output_type": "stream",
     "text": [
      "a major emotion\n",
      "[[186  59  76  76]]\n",
      "False False\n",
      "{'sleepy': False, 'yawn': False, 'dominant emotion': 'neutral'} kasgdagdajd\n",
      "False False\n",
      "[[184  51  82  82]]\n",
      "False False\n",
      "{'sleepy': False, 'yawn': False, 'dominant emotion': False} kasgdagdajd\n",
      "False False\n",
      "[[183  51  80  80]]\n",
      "False False\n",
      "{'sleepy': False, 'yawn': False, 'dominant emotion': False} kasgdagdajd\n",
      "False False\n"
     ]
    },
    {
     "name": "stderr",
     "output_type": "stream",
     "text": [
      "Action: emotion: 100%|██████████| 1/1 [00:00<00:00, 38.74it/s]\n"
     ]
    },
    {
     "name": "stdout",
     "output_type": "stream",
     "text": [
      "a major emotion\n",
      "[[181  53  84  84]]\n",
      "False False\n",
      "{'sleepy': False, 'yawn': False, 'dominant emotion': 'fear'} kasgdagdajd\n",
      "False False\n"
     ]
    },
    {
     "name": "stderr",
     "output_type": "stream",
     "text": [
      "Action: emotion: 100%|██████████| 1/1 [00:00<00:00, 39.58it/s]\n"
     ]
    },
    {
     "name": "stdout",
     "output_type": "stream",
     "text": [
      "a major emotion\n",
      "[[182  56  85  85]]\n",
      "False False\n",
      "{'sleepy': False, 'yawn': False, 'dominant emotion': 'happy'} kasgdagdajd\n",
      "False False\n"
     ]
    },
    {
     "name": "stderr",
     "output_type": "stream",
     "text": [
      "Action: emotion: 100%|██████████| 1/1 [00:00<00:00, 39.73it/s]"
     ]
    },
    {
     "name": "stdout",
     "output_type": "stream",
     "text": [
      "no major emotion\n",
      "[[182  65  86  86]]\n",
      "False False\n",
      "{'sleepy': False, 'yawn': False, 'dominant emotion': False} kasgdagdajd\n",
      "False False\n"
     ]
    },
    {
     "name": "stderr",
     "output_type": "stream",
     "text": [
      "\n"
     ]
    },
    {
     "name": "stdout",
     "output_type": "stream",
     "text": [
      "[[189  76  82  82]]\n",
      "False False\n",
      "{'sleepy': False, 'yawn': False, 'dominant emotion': False} kasgdagdajd\n",
      "False False\n"
     ]
    },
    {
     "name": "stderr",
     "output_type": "stream",
     "text": [
      "Action: emotion: 100%|██████████| 1/1 [00:00<00:00, 38.27it/s]\n"
     ]
    },
    {
     "name": "stdout",
     "output_type": "stream",
     "text": [
      "a major emotion\n",
      "[[192  78  76  76]]\n",
      "False False\n",
      "{'sleepy': False, 'yawn': False, 'dominant emotion': 'fear'} kasgdagdajd\n",
      "False False\n"
     ]
    },
    {
     "name": "stderr",
     "output_type": "stream",
     "text": [
      "Action: emotion: 100%|██████████| 1/1 [00:00<00:00, 40.12it/s]\n"
     ]
    },
    {
     "name": "stdout",
     "output_type": "stream",
     "text": [
      "a major emotion\n",
      "[[190  80  73  73]]\n",
      "False False\n",
      "{'sleepy': False, 'yawn': False, 'dominant emotion': 'happy'} kasgdagdajd\n",
      "False False\n",
      "()\n",
      "{'sleepy': False, 'yawn': False, 'dominant emotion': False} kasgdagdajd\n",
      "False False\n",
      "()\n",
      "{'sleepy': False, 'yawn': False, 'dominant emotion': False} kasgdagdajd\n",
      "False False\n",
      "()\n",
      "{'sleepy': False, 'yawn': False, 'dominant emotion': False} kasgdagdajd\n",
      "False False\n",
      "[[188  87  70  70]]\n",
      "False False\n",
      "{'sleepy': False, 'yawn': False, 'dominant emotion': False} kasgdagdajd\n",
      "False False\n",
      "[[184  88  74  74]]\n",
      "False False\n",
      "{'sleepy': False, 'yawn': False, 'dominant emotion': False} kasgdagdajd\n",
      "False False\n",
      "()\n",
      "{'sleepy': False, 'yawn': False, 'dominant emotion': False} kasgdagdajd\n",
      "False False\n",
      "[[185  89  71  71]]\n",
      "False False\n",
      "{'sleepy': False, 'yawn': False, 'dominant emotion': False} kasgdagdajd\n",
      "False False\n",
      "[[186  89  71  71]]\n",
      "False False\n",
      "{'sleepy': False, 'yawn': False, 'dominant emotion': False} kasgdagdajd\n",
      "False False\n",
      "()\n",
      "{'sleepy': False, 'yawn': False, 'dominant emotion': False} kasgdagdajd\n",
      "False False\n"
     ]
    },
    {
     "name": "stderr",
     "output_type": "stream",
     "text": [
      "Action: emotion: 100%|██████████| 1/1 [00:00<00:00, 38.25it/s]"
     ]
    },
    {
     "name": "stdout",
     "output_type": "stream",
     "text": [
      "a major emotion\n",
      "[[185  84  77  77]]\n",
      "False False\n",
      "{'sleepy': False, 'yawn': False, 'dominant emotion': 'happy'} kasgdagdajd\n",
      "False False\n"
     ]
    },
    {
     "name": "stderr",
     "output_type": "stream",
     "text": [
      "\n",
      "Action: emotion: 100%|██████████| 1/1 [00:00<00:00, 40.06it/s]"
     ]
    },
    {
     "name": "stdout",
     "output_type": "stream",
     "text": [
      "no major emotion\n",
      "[[181  83  77  77]]\n",
      "False False\n",
      "{'sleepy': False, 'yawn': False, 'dominant emotion': False} kasgdagdajd\n"
     ]
    },
    {
     "name": "stderr",
     "output_type": "stream",
     "text": [
      "\n"
     ]
    },
    {
     "name": "stdout",
     "output_type": "stream",
     "text": [
      "False False\n"
     ]
    },
    {
     "name": "stderr",
     "output_type": "stream",
     "text": [
      "Action: emotion: 100%|██████████| 1/1 [00:00<00:00, 31.23it/s]\n"
     ]
    },
    {
     "name": "stdout",
     "output_type": "stream",
     "text": [
      "a major emotion\n",
      "[[176  84  79  79]]\n",
      "False False\n",
      "{'sleepy': False, 'yawn': False, 'dominant emotion': 'happy'} kasgdagdajd\n",
      "False False\n"
     ]
    },
    {
     "name": "stderr",
     "output_type": "stream",
     "text": [
      "Action: emotion: 100%|██████████| 1/1 [00:00<00:00, 41.56it/s]"
     ]
    },
    {
     "name": "stdout",
     "output_type": "stream",
     "text": [
      "a major emotion\n",
      "[[175  83  82  82]]\n",
      "False False\n",
      "{'sleepy': False, 'yawn': False, 'dominant emotion': 'happy'} kasgdagdajd\n",
      "False False\n"
     ]
    },
    {
     "name": "stderr",
     "output_type": "stream",
     "text": [
      "\n",
      "Action: emotion: 100%|██████████| 1/1 [00:00<00:00, 37.25it/s]\n"
     ]
    },
    {
     "name": "stdout",
     "output_type": "stream",
     "text": [
      "a major emotion\n",
      "[[178  70  82  82]]\n",
      "False False\n",
      "{'sleepy': False, 'yawn': False, 'dominant emotion': 'fear'} kasgdagdajd\n",
      "False False\n"
     ]
    },
    {
     "name": "stderr",
     "output_type": "stream",
     "text": [
      "Action: emotion: 100%|██████████| 1/1 [00:00<00:00, 41.94it/s]\n"
     ]
    },
    {
     "name": "stdout",
     "output_type": "stream",
     "text": [
      "a major emotion\n",
      "[[183  66  85  85]]\n",
      "False False\n",
      "{'sleepy': False, 'yawn': False, 'dominant emotion': 'fear'} kasgdagdajd\n",
      "False False\n"
     ]
    },
    {
     "name": "stderr",
     "output_type": "stream",
     "text": [
      "Action: emotion: 100%|██████████| 1/1 [00:00<00:00, 41.18it/s]"
     ]
    },
    {
     "name": "stdout",
     "output_type": "stream",
     "text": [
      "no major emotion\n",
      "[[188  79  87  87]]\n"
     ]
    },
    {
     "name": "stderr",
     "output_type": "stream",
     "text": [
      "\n"
     ]
    },
    {
     "name": "stdout",
     "output_type": "stream",
     "text": [
      "False False\n",
      "{'sleepy': False, 'yawn': False, 'dominant emotion': False} kasgdagdajd\n",
      "False False\n"
     ]
    },
    {
     "name": "stderr",
     "output_type": "stream",
     "text": [
      "Action: emotion: 100%|██████████| 1/1 [00:00<00:00, 41.74it/s]\n"
     ]
    },
    {
     "name": "stdout",
     "output_type": "stream",
     "text": [
      "a major emotion\n",
      "[[189  98  84  84]]\n",
      "False False\n",
      "{'sleepy': False, 'yawn': False, 'dominant emotion': 'fear'} kasgdagdajd\n",
      "False False\n"
     ]
    },
    {
     "name": "stderr",
     "output_type": "stream",
     "text": [
      "Action: emotion: 100%|██████████| 1/1 [00:00<00:00, 37.16it/s]\n"
     ]
    },
    {
     "name": "stdout",
     "output_type": "stream",
     "text": [
      "a major emotion\n",
      "[[183  92  82  82]]\n",
      "False False\n",
      "{'sleepy': False, 'yawn': False, 'dominant emotion': 'fear'} kasgdagdajd\n",
      "False False\n"
     ]
    },
    {
     "name": "stderr",
     "output_type": "stream",
     "text": [
      "Action: emotion: 100%|██████████| 1/1 [00:00<00:00, 39.03it/s]\n"
     ]
    },
    {
     "name": "stdout",
     "output_type": "stream",
     "text": [
      "a major emotion\n",
      "[[182  84  81  81]]\n",
      "False False\n",
      "{'sleepy': False, 'yawn': False, 'dominant emotion': 'surprise'} kasgdagdajd\n",
      "False False\n"
     ]
    },
    {
     "name": "stderr",
     "output_type": "stream",
     "text": [
      "Action: emotion: 100%|██████████| 1/1 [00:00<00:00, 36.63it/s]\n"
     ]
    },
    {
     "name": "stdout",
     "output_type": "stream",
     "text": [
      "a major emotion\n",
      "[[187  79  84  84]]\n",
      "False False\n",
      "{'sleepy': False, 'yawn': False, 'dominant emotion': 'fear'} kasgdagdajd\n",
      "False False\n"
     ]
    },
    {
     "name": "stderr",
     "output_type": "stream",
     "text": [
      "Action: emotion: 100%|██████████| 1/1 [00:00<00:00, 39.44it/s]"
     ]
    },
    {
     "name": "stdout",
     "output_type": "stream",
     "text": [
      "no major emotion\n",
      "[[200  89  81  81]]\n",
      "False False\n",
      "{'sleepy': False, 'yawn': False, 'dominant emotion': False} kasgdagdajd\n",
      "False False\n"
     ]
    },
    {
     "name": "stderr",
     "output_type": "stream",
     "text": [
      "\n",
      "Action: emotion: 100%|██████████| 1/1 [00:00<00:00, 38.65it/s]\n"
     ]
    },
    {
     "name": "stdout",
     "output_type": "stream",
     "text": [
      "a major emotion\n",
      "[[210  93  85  85]]\n",
      "False False\n",
      "{'sleepy': False, 'yawn': False, 'dominant emotion': 'fear'} kasgdagdajd\n",
      "False False\n"
     ]
    },
    {
     "name": "stderr",
     "output_type": "stream",
     "text": [
      "Action: emotion: 100%|██████████| 1/1 [00:00<00:00, 38.86it/s]\n"
     ]
    },
    {
     "name": "stdout",
     "output_type": "stream",
     "text": [
      "no major emotion\n",
      "[[206  89  85  85]]\n",
      "False False\n",
      "{'sleepy': False, 'yawn': False, 'dominant emotion': False} kasgdagdajd\n",
      "False False\n"
     ]
    },
    {
     "name": "stderr",
     "output_type": "stream",
     "text": [
      "Action: emotion: 100%|██████████| 1/1 [00:00<00:00, 39.71it/s]\n"
     ]
    },
    {
     "name": "stdout",
     "output_type": "stream",
     "text": [
      "no major emotion\n",
      "[[200  83  80  80]]\n",
      "False False\n",
      "{'sleepy': False, 'yawn': False, 'dominant emotion': False} kasgdagdajd\n",
      "False False\n"
     ]
    },
    {
     "name": "stderr",
     "output_type": "stream",
     "text": [
      "Action: emotion: 100%|██████████| 1/1 [00:00<00:00, 39.00it/s]\n"
     ]
    },
    {
     "name": "stdout",
     "output_type": "stream",
     "text": [
      "a major emotion\n",
      "[[188  77  82  82]]\n",
      "False False\n",
      "{'sleepy': False, 'yawn': False, 'dominant emotion': 'fear'} kasgdagdajd\n",
      "False False\n"
     ]
    },
    {
     "name": "stderr",
     "output_type": "stream",
     "text": [
      "Action: emotion: 100%|██████████| 1/1 [00:00<00:00, 37.16it/s]\n"
     ]
    },
    {
     "name": "stdout",
     "output_type": "stream",
     "text": [
      "a major emotion\n",
      "[[182  79  82  82]]\n",
      "False False\n",
      "{'sleepy': False, 'yawn': False, 'dominant emotion': 'fear'} kasgdagdajd\n",
      "False False\n"
     ]
    },
    {
     "name": "stderr",
     "output_type": "stream",
     "text": [
      "Action: emotion: 100%|██████████| 1/1 [00:00<00:00, 38.43it/s]"
     ]
    },
    {
     "name": "stdout",
     "output_type": "stream",
     "text": [
      "a major emotion\n",
      "[[178  83  87  87]]\n"
     ]
    },
    {
     "name": "stderr",
     "output_type": "stream",
     "text": [
      "\n"
     ]
    },
    {
     "name": "stdout",
     "output_type": "stream",
     "text": [
      "False False\n",
      "{'sleepy': False, 'yawn': False, 'dominant emotion': 'fear'} kasgdagdajd\n",
      "False False\n"
     ]
    },
    {
     "name": "stderr",
     "output_type": "stream",
     "text": [
      "Action: emotion: 100%|██████████| 1/1 [00:00<00:00, 38.38it/s]\n"
     ]
    },
    {
     "name": "stdout",
     "output_type": "stream",
     "text": [
      "a major emotion\n",
      "[[186  80  83  83]]\n",
      "False False\n",
      "{'sleepy': False, 'yawn': False, 'dominant emotion': 'fear'} kasgdagdajd\n",
      "False False\n"
     ]
    },
    {
     "name": "stderr",
     "output_type": "stream",
     "text": [
      "Action: emotion: 100%|██████████| 1/1 [00:00<00:00, 38.73it/s]\n"
     ]
    },
    {
     "name": "stdout",
     "output_type": "stream",
     "text": [
      "no major emotion\n",
      "[[196  74  85  85]]\n",
      "False False\n",
      "{'sleepy': False, 'yawn': False, 'dominant emotion': False} kasgdagdajd\n",
      "False False\n"
     ]
    },
    {
     "name": "stderr",
     "output_type": "stream",
     "text": [
      "Action: emotion: 100%|██████████| 1/1 [00:00<00:00, 39.57it/s]\n"
     ]
    },
    {
     "name": "stdout",
     "output_type": "stream",
     "text": [
      "no major emotion\n",
      "[[210  73  81  81]]\n",
      "False False\n",
      "{'sleepy': False, 'yawn': False, 'dominant emotion': False} kasgdagdajd\n",
      "False False\n",
      "[[224  76  79  79]]\n",
      "False False\n",
      "{'sleepy': False, 'yawn': False, 'dominant emotion': False} kasgdagdajd\n",
      "False False\n"
     ]
    },
    {
     "name": "stderr",
     "output_type": "stream",
     "text": [
      "Action: emotion: 100%|██████████| 1/1 [00:00<00:00, 39.93it/s]\n"
     ]
    },
    {
     "name": "stdout",
     "output_type": "stream",
     "text": [
      "a major emotion\n",
      "[[231  78  80  80]]\n",
      "False False\n",
      "{'sleepy': False, 'yawn': False, 'dominant emotion': 'sad'} kasgdagdajd\n",
      "False False\n"
     ]
    },
    {
     "name": "stderr",
     "output_type": "stream",
     "text": [
      "Action: emotion: 100%|██████████| 1/1 [00:00<00:00, 37.36it/s]\n"
     ]
    },
    {
     "name": "stdout",
     "output_type": "stream",
     "text": [
      "a major emotion\n",
      "[[237  86  83  83]]\n",
      "False False\n",
      "{'sleepy': False, 'yawn': False, 'dominant emotion': 'fear'} kasgdagdajd\n",
      "False False\n"
     ]
    },
    {
     "name": "stderr",
     "output_type": "stream",
     "text": [
      "Action: emotion: 100%|██████████| 1/1 [00:00<00:00, 39.03it/s]\n"
     ]
    },
    {
     "name": "stdout",
     "output_type": "stream",
     "text": [
      "a major emotion\n",
      "[[231  85  83  83]]\n",
      "False False\n",
      "{'sleepy': False, 'yawn': False, 'dominant emotion': 'fear'} kasgdagdajd\n",
      "False False\n"
     ]
    },
    {
     "name": "stderr",
     "output_type": "stream",
     "text": [
      "Action: emotion: 100%|██████████| 1/1 [00:00<00:00, 29.96it/s]\n"
     ]
    },
    {
     "name": "stdout",
     "output_type": "stream",
     "text": [
      "no major emotion\n",
      "[[215  81  80  80]]\n",
      "False False\n",
      "{'sleepy': False, 'yawn': False, 'dominant emotion': False} kasgdagdajd\n",
      "False False\n"
     ]
    },
    {
     "name": "stderr",
     "output_type": "stream",
     "text": [
      "Action: emotion: 100%|██████████| 1/1 [00:00<00:00, 39.46it/s]\n"
     ]
    },
    {
     "name": "stdout",
     "output_type": "stream",
     "text": [
      "a major emotion\n",
      "[[193  79  75  75]]\n",
      "False False\n",
      "{'sleepy': False, 'yawn': False, 'dominant emotion': 'fear'} kasgdagdajd\n",
      "False False\n",
      "[[167  78  82  82]]\n",
      "False False\n",
      "{'sleepy': False, 'yawn': False, 'dominant emotion': False} kasgdagdajd\n",
      "False False\n"
     ]
    },
    {
     "name": "stderr",
     "output_type": "stream",
     "text": [
      "Action: emotion: 100%|██████████| 1/1 [00:00<00:00, 38.74it/s]\n"
     ]
    },
    {
     "name": "stdout",
     "output_type": "stream",
     "text": [
      "a major emotion\n",
      "[[162  82  80  80]]\n",
      "False False\n",
      "{'sleepy': False, 'yawn': False, 'dominant emotion': 'sad'} kasgdagdajd\n",
      "False False\n"
     ]
    },
    {
     "name": "stderr",
     "output_type": "stream",
     "text": [
      "Action: emotion: 100%|██████████| 1/1 [00:00<00:00, 38.93it/s]\n"
     ]
    },
    {
     "name": "stdout",
     "output_type": "stream",
     "text": [
      "no major emotion\n",
      "[[159  80  83  83]]\n",
      "False False\n",
      "{'sleepy': False, 'yawn': False, 'dominant emotion': False} kasgdagdajd\n",
      "False False\n"
     ]
    },
    {
     "name": "stderr",
     "output_type": "stream",
     "text": [
      "Action: emotion: 100%|██████████| 1/1 [00:00<00:00, 36.85it/s]"
     ]
    },
    {
     "name": "stdout",
     "output_type": "stream",
     "text": [
      "a major emotion\n",
      "[[171  80  77  77]]\n",
      "False False\n",
      "{'sleepy': False, 'yawn': False, 'dominant emotion': 'sad'} kasgdagdajd\n"
     ]
    },
    {
     "name": "stderr",
     "output_type": "stream",
     "text": [
      "\n"
     ]
    },
    {
     "name": "stdout",
     "output_type": "stream",
     "text": [
      "False False\n",
      "[[184  80  76  76]]\n",
      "False False\n",
      "{'sleepy': False, 'yawn': False, 'dominant emotion': False} kasgdagdajd\n",
      "False False\n",
      "()\n",
      "{'sleepy': False, 'yawn': False, 'dominant emotion': False} kasgdagdajd\n",
      "False False\n",
      "()\n",
      "{'sleepy': False, 'yawn': False, 'dominant emotion': False} kasgdagdajd\n",
      "False False\n",
      "()\n",
      "{'sleepy': False, 'yawn': False, 'dominant emotion': False} kasgdagdajd\n",
      "False False\n",
      "[[223  91  80  80]]\n",
      "False False\n",
      "{'sleepy': False, 'yawn': False, 'dominant emotion': False} kasgdagdajd\n",
      "False False\n",
      "[[228  91  74  74]]\n",
      "False False\n",
      "{'sleepy': False, 'yawn': False, 'dominant emotion': False} kasgdagdajd\n",
      "False False\n",
      "[[218  85  77  77]]\n",
      "False False\n",
      "{'sleepy': False, 'yawn': False, 'dominant emotion': False} kasgdagdajd\n",
      "False False\n"
     ]
    },
    {
     "name": "stderr",
     "output_type": "stream",
     "text": [
      "Action: emotion: 100%|██████████| 1/1 [00:00<00:00, 39.17it/s]\n"
     ]
    },
    {
     "name": "stdout",
     "output_type": "stream",
     "text": [
      "a major emotion\n",
      "[[208  83  74  74]]\n",
      "False False\n",
      "{'sleepy': False, 'yawn': False, 'dominant emotion': 'sad'} kasgdagdajd\n",
      "False False\n"
     ]
    },
    {
     "name": "stderr",
     "output_type": "stream",
     "text": [
      "Action: emotion: 100%|██████████| 1/1 [00:00<00:00, 40.48it/s]"
     ]
    },
    {
     "name": "stdout",
     "output_type": "stream",
     "text": [
      "no major emotion\n",
      "[[188  83  78  78]]\n",
      "False False\n",
      "{'sleepy': False, 'yawn': False, 'dominant emotion': False} kasgdagdajd\n"
     ]
    },
    {
     "name": "stderr",
     "output_type": "stream",
     "text": [
      "\n"
     ]
    },
    {
     "name": "stdout",
     "output_type": "stream",
     "text": [
      "False False\n"
     ]
    },
    {
     "name": "stderr",
     "output_type": "stream",
     "text": [
      "Action: emotion: 100%|██████████| 1/1 [00:00<00:00, 41.24it/s]\n"
     ]
    },
    {
     "name": "stdout",
     "output_type": "stream",
     "text": [
      "a major emotion\n",
      "[[178  83  83  83]]\n",
      "False False\n",
      "{'sleepy': False, 'yawn': False, 'dominant emotion': 'fear'} kasgdagdajd\n",
      "False False\n"
     ]
    },
    {
     "name": "stderr",
     "output_type": "stream",
     "text": [
      "Action: emotion: 100%|██████████| 1/1 [00:00<00:00, 30.25it/s]"
     ]
    },
    {
     "name": "stdout",
     "output_type": "stream",
     "text": [
      "a major emotion\n",
      "[[189  80  81  81]]\n",
      "False False\n",
      "{'sleepy': False, 'yawn': False, 'dominant emotion': 'sad'} kasgdagdajd\n"
     ]
    },
    {
     "name": "stderr",
     "output_type": "stream",
     "text": [
      "\n"
     ]
    },
    {
     "name": "stdout",
     "output_type": "stream",
     "text": [
      "False False\n",
      "[[211  88  76  76]]\n",
      "False False\n",
      "{'sleepy': False, 'yawn': False, 'dominant emotion': False} kasgdagdajd\n",
      "False False\n",
      "[[218  92  79  79]]\n",
      "False False\n",
      "{'sleepy': False, 'yawn': False, 'dominant emotion': False} kasgdagdajd\n",
      "False False\n"
     ]
    },
    {
     "name": "stderr",
     "output_type": "stream",
     "text": [
      "Action: emotion: 100%|██████████| 1/1 [00:00<00:00, 40.75it/s]\n"
     ]
    },
    {
     "name": "stdout",
     "output_type": "stream",
     "text": [
      "no major emotion\n",
      "[[222  92  84  84]]\n",
      "False False\n",
      "{'sleepy': False, 'yawn': False, 'dominant emotion': False} kasgdagdajd\n",
      "False False\n"
     ]
    },
    {
     "name": "stderr",
     "output_type": "stream",
     "text": [
      "Action: emotion: 100%|██████████| 1/1 [00:00<00:00, 38.12it/s]"
     ]
    },
    {
     "name": "stdout",
     "output_type": "stream",
     "text": [
      "no major emotion\n",
      "[[212  91  79  79]]\n"
     ]
    },
    {
     "name": "stderr",
     "output_type": "stream",
     "text": [
      "\n"
     ]
    },
    {
     "name": "stdout",
     "output_type": "stream",
     "text": [
      "False False\n",
      "{'sleepy': False, 'yawn': False, 'dominant emotion': False} kasgdagdajd\n",
      "False False\n"
     ]
    },
    {
     "name": "stderr",
     "output_type": "stream",
     "text": [
      "Action: emotion: 100%|██████████| 1/1 [00:00<00:00, 40.93it/s]\n"
     ]
    },
    {
     "name": "stdout",
     "output_type": "stream",
     "text": [
      "a major emotion\n",
      "[[193  86  79  79]]\n",
      "False False\n",
      "{'sleepy': False, 'yawn': False, 'dominant emotion': 'fear'} kasgdagdajd\n",
      "False False\n"
     ]
    },
    {
     "name": "stderr",
     "output_type": "stream",
     "text": [
      "Action: emotion: 100%|██████████| 1/1 [00:00<00:00, 40.58it/s]\n"
     ]
    },
    {
     "name": "stdout",
     "output_type": "stream",
     "text": [
      "a major emotion\n",
      "[[175  90  78  78]]\n",
      "False False\n",
      "{'sleepy': False, 'yawn': False, 'dominant emotion': 'fear'} kasgdagdajd\n",
      "False False\n"
     ]
    },
    {
     "name": "stderr",
     "output_type": "stream",
     "text": [
      "Action: emotion: 100%|██████████| 1/1 [00:00<00:00, 41.31it/s]"
     ]
    },
    {
     "name": "stdout",
     "output_type": "stream",
     "text": [
      "a major emotion\n",
      "[[174  87  78  78]]\n",
      "False False\n",
      "{'sleepy': False, 'yawn': False, 'dominant emotion': 'fear'} kasgdagdajd\n"
     ]
    },
    {
     "name": "stderr",
     "output_type": "stream",
     "text": [
      "\n"
     ]
    },
    {
     "name": "stdout",
     "output_type": "stream",
     "text": [
      "False False\n"
     ]
    },
    {
     "name": "stderr",
     "output_type": "stream",
     "text": [
      "Action: emotion: 100%|██████████| 1/1 [00:00<00:00, 41.27it/s]\n"
     ]
    },
    {
     "name": "stdout",
     "output_type": "stream",
     "text": [
      "a major emotion\n",
      "[[188  85  72  72]]\n",
      "False False\n",
      "{'sleepy': False, 'yawn': False, 'dominant emotion': 'fear'} kasgdagdajd\n",
      "False False\n"
     ]
    },
    {
     "name": "stderr",
     "output_type": "stream",
     "text": [
      "Action: emotion: 100%|██████████| 1/1 [00:00<00:00, 39.83it/s]\n"
     ]
    },
    {
     "name": "stdout",
     "output_type": "stream",
     "text": [
      "a major emotion\n",
      "[[197  86  69  69]]\n",
      "False False\n",
      "{'sleepy': False, 'yawn': False, 'dominant emotion': 'neutral'} kasgdagdajd\n",
      "False False\n"
     ]
    },
    {
     "name": "stderr",
     "output_type": "stream",
     "text": [
      "Action: emotion: 100%|██████████| 1/1 [00:00<00:00, 30.49it/s]\n"
     ]
    },
    {
     "name": "stdout",
     "output_type": "stream",
     "text": [
      "a major emotion\n",
      "[[202  87  67  67]]\n",
      "False False\n",
      "{'sleepy': False, 'yawn': False, 'dominant emotion': 'neutral'} kasgdagdajd\n",
      "False False\n"
     ]
    },
    {
     "name": "stderr",
     "output_type": "stream",
     "text": [
      "Action: emotion: 100%|██████████| 1/1 [00:00<00:00, 39.26it/s]\n"
     ]
    },
    {
     "name": "stdout",
     "output_type": "stream",
     "text": [
      "a major emotion\n",
      "[[208  89  66  66]]\n",
      "False False\n",
      "{'sleepy': False, 'yawn': False, 'dominant emotion': 'neutral'} kasgdagdajd\n",
      "False False\n"
     ]
    },
    {
     "name": "stderr",
     "output_type": "stream",
     "text": [
      "Action: emotion: 100%|██████████| 1/1 [00:00<00:00, 38.93it/s]\n"
     ]
    },
    {
     "name": "stdout",
     "output_type": "stream",
     "text": [
      "a major emotion\n",
      "[[208  89  66  66]]\n",
      "False False\n",
      "{'sleepy': False, 'yawn': False, 'dominant emotion': 'neutral'} kasgdagdajd\n",
      "False False\n"
     ]
    },
    {
     "name": "stderr",
     "output_type": "stream",
     "text": [
      "Action: emotion: 100%|██████████| 1/1 [00:00<00:00, 39.53it/s]\n"
     ]
    },
    {
     "name": "stdout",
     "output_type": "stream",
     "text": [
      "no major emotion\n",
      "[[208  90  64  64]]\n",
      "False False\n",
      "{'sleepy': False, 'yawn': False, 'dominant emotion': False} kasgdagdajd\n",
      "False False\n"
     ]
    },
    {
     "name": "stderr",
     "output_type": "stream",
     "text": [
      "Action: emotion: 100%|██████████| 1/1 [00:00<00:00, 40.84it/s]\n"
     ]
    },
    {
     "name": "stdout",
     "output_type": "stream",
     "text": [
      "no major emotion\n",
      "[[208  91  63  63]]\n",
      "False False\n",
      "{'sleepy': False, 'yawn': False, 'dominant emotion': False} kasgdagdajd\n",
      "False False\n",
      "[[207  91  63  63]]\n",
      "False False\n",
      "{'sleepy': False, 'yawn': False, 'dominant emotion': False} kasgdagdajd\n",
      "False False\n",
      "[[205  90  65  65]]\n",
      "False False\n",
      "{'sleepy': False, 'yawn': False, 'dominant emotion': False} kasgdagdajd\n",
      "False False\n",
      "()\n",
      "{'sleepy': False, 'yawn': False, 'dominant emotion': False} kasgdagdajd\n",
      "False False\n",
      "[[205  92  65  65]]\n",
      "False False\n",
      "{'sleepy': False, 'yawn': False, 'dominant emotion': False} kasgdagdajd\n",
      "False False\n"
     ]
    },
    {
     "name": "stderr",
     "output_type": "stream",
     "text": [
      "Action: emotion: 100%|██████████| 1/1 [00:00<00:00, 40.32it/s]\n"
     ]
    },
    {
     "name": "stdout",
     "output_type": "stream",
     "text": [
      "no major emotion\n",
      "[[206  93  64  64]]\n",
      "False False\n",
      "{'sleepy': False, 'yawn': False, 'dominant emotion': False} kasgdagdajd\n",
      "False False\n"
     ]
    },
    {
     "name": "stderr",
     "output_type": "stream",
     "text": [
      "Action: emotion: 100%|██████████| 1/1 [00:00<00:00, 36.19it/s]"
     ]
    },
    {
     "name": "stdout",
     "output_type": "stream",
     "text": [
      "a major emotion\n",
      "[[203  92  66  66]]\n",
      "False False\n",
      "{'sleepy': False, 'yawn': False, 'dominant emotion': 'sad'} kasgdagdajd\n"
     ]
    },
    {
     "name": "stderr",
     "output_type": "stream",
     "text": [
      "\n"
     ]
    },
    {
     "name": "stdout",
     "output_type": "stream",
     "text": [
      "False False\n"
     ]
    },
    {
     "name": "stderr",
     "output_type": "stream",
     "text": [
      "Action: emotion: 100%|██████████| 1/1 [00:00<00:00, 39.78it/s]\n"
     ]
    },
    {
     "name": "stdout",
     "output_type": "stream",
     "text": [
      "a major emotion\n",
      "[[176  32  86  86]]\n",
      "False False\n",
      "{'sleepy': False, 'yawn': False, 'dominant emotion': 'sad'} kasgdagdajd\n",
      "False False\n"
     ]
    },
    {
     "name": "stderr",
     "output_type": "stream",
     "text": [
      "Action: emotion: 100%|██████████| 1/1 [00:00<00:00, 38.18it/s]\n"
     ]
    },
    {
     "name": "stdout",
     "output_type": "stream",
     "text": [
      "no major emotion\n",
      "[[168  27  93  93]]\n",
      "False False\n",
      "{'sleepy': False, 'yawn': False, 'dominant emotion': False} kasgdagdajd\n",
      "False False\n"
     ]
    },
    {
     "name": "stderr",
     "output_type": "stream",
     "text": [
      "Action: emotion: 100%|██████████| 1/1 [00:00<00:00, 40.68it/s]\n"
     ]
    },
    {
     "name": "stdout",
     "output_type": "stream",
     "text": [
      "no major emotion\n",
      "[[159  25  95  95]]\n",
      "False False\n",
      "{'sleepy': False, 'yawn': False, 'dominant emotion': False} kasgdagdajd\n",
      "False False\n"
     ]
    },
    {
     "name": "stderr",
     "output_type": "stream",
     "text": [
      "Action: emotion: 100%|██████████| 1/1 [00:00<00:00, 38.85it/s]\n"
     ]
    },
    {
     "name": "stdout",
     "output_type": "stream",
     "text": [
      "a major emotion\n",
      "[[150  21 102 102]]\n",
      "False False\n",
      "{'sleepy': False, 'yawn': False, 'dominant emotion': 'fear'} kasgdagdajd\n",
      "False False\n",
      "()\n",
      "{'sleepy': False, 'yawn': False, 'dominant emotion': False} kasgdagdajd\n",
      "False False\n",
      "()\n",
      "{'sleepy': False, 'yawn': False, 'dominant emotion': False} kasgdagdajd\n",
      "False False\n",
      "()\n",
      "{'sleepy': False, 'yawn': False, 'dominant emotion': False} kasgdagdajd\n",
      "False False\n",
      "()\n",
      "{'sleepy': False, 'yawn': False, 'dominant emotion': False} kasgdagdajd\n",
      "False False\n",
      "()\n",
      "{'sleepy': False, 'yawn': False, 'dominant emotion': False} kasgdagdajd\n",
      "False False\n",
      "()\n",
      "{'sleepy': False, 'yawn': False, 'dominant emotion': False} kasgdagdajd\n",
      "False False\n",
      "()\n",
      "{'sleepy': False, 'yawn': False, 'dominant emotion': False} kasgdagdajd\n",
      "False False\n",
      "()\n",
      "{'sleepy': False, 'yawn': False, 'dominant emotion': False} kasgdagdajd\n",
      "False False\n",
      "()\n",
      "{'sleepy': False, 'yawn': False, 'dominant emotion': False} kasgdagdajd\n",
      "False False\n",
      "()\n",
      "{'sleepy': False, 'yawn': False, 'dominant emotion': False} kasgdagdajd\n",
      "False False\n",
      "()\n",
      "{'sleepy': False, 'yawn': False, 'dominant emotion': False} kasgdagdajd\n",
      "False False\n",
      "()\n",
      "{'sleepy': False, 'yawn': False, 'dominant emotion': False} kasgdagdajd\n",
      "False False\n",
      "()\n",
      "{'sleepy': False, 'yawn': False, 'dominant emotion': False} kasgdagdajd\n",
      "False False\n",
      "()\n",
      "{'sleepy': False, 'yawn': False, 'dominant emotion': False} kasgdagdajd\n",
      "False False\n",
      "()\n",
      "{'sleepy': False, 'yawn': False, 'dominant emotion': False} kasgdagdajd\n",
      "False False\n",
      "()\n",
      "{'sleepy': False, 'yawn': False, 'dominant emotion': False} kasgdagdajd\n",
      "False False\n",
      "()\n",
      "{'sleepy': False, 'yawn': False, 'dominant emotion': False} kasgdagdajd\n",
      "False False\n",
      "()\n",
      "{'sleepy': False, 'yawn': False, 'dominant emotion': False} kasgdagdajd\n",
      "False False\n",
      "()\n",
      "{'sleepy': False, 'yawn': False, 'dominant emotion': False} kasgdagdajd\n",
      "False False\n",
      "()\n",
      "{'sleepy': False, 'yawn': False, 'dominant emotion': False} kasgdagdajd\n",
      "False False\n",
      "()\n",
      "{'sleepy': False, 'yawn': False, 'dominant emotion': False} kasgdagdajd\n",
      "False False\n",
      "()\n",
      "{'sleepy': False, 'yawn': False, 'dominant emotion': False} kasgdagdajd\n",
      "False False\n",
      "()\n",
      "{'sleepy': False, 'yawn': False, 'dominant emotion': False} kasgdagdajd\n",
      "False False\n",
      "()\n",
      "{'sleepy': False, 'yawn': False, 'dominant emotion': False} kasgdagdajd\n",
      "False False\n",
      "()\n",
      "{'sleepy': False, 'yawn': False, 'dominant emotion': False} kasgdagdajd\n",
      "False False\n",
      "()\n",
      "{'sleepy': False, 'yawn': False, 'dominant emotion': False} kasgdagdajd\n",
      "False False\n",
      "()\n",
      "{'sleepy': False, 'yawn': False, 'dominant emotion': False} kasgdagdajd\n",
      "False False\n"
     ]
    },
    {
     "name": "stderr",
     "output_type": "stream",
     "text": [
      "Action: emotion: 100%|██████████| 1/1 [00:00<00:00, 38.92it/s]"
     ]
    },
    {
     "name": "stdout",
     "output_type": "stream",
     "text": [
      "a major emotion\n",
      "[[152  59  70  70]]\n",
      "False False\n",
      "{'sleepy': False, 'yawn': False, 'dominant emotion': 'sad'} kasgdagdajd\n"
     ]
    },
    {
     "name": "stderr",
     "output_type": "stream",
     "text": [
      "\n"
     ]
    },
    {
     "name": "stdout",
     "output_type": "stream",
     "text": [
      "False False\n"
     ]
    },
    {
     "name": "stderr",
     "output_type": "stream",
     "text": [
      "Action: emotion: 100%|██████████| 1/1 [00:00<00:00, 38.00it/s]"
     ]
    },
    {
     "name": "stdout",
     "output_type": "stream",
     "text": [
      "no major emotion\n",
      "[[157  45 103 103]]\n",
      "False False\n",
      "{'sleepy': False, 'yawn': False, 'dominant emotion': False} kasgdagdajd\n"
     ]
    },
    {
     "name": "stderr",
     "output_type": "stream",
     "text": [
      "\n"
     ]
    },
    {
     "name": "stdout",
     "output_type": "stream",
     "text": [
      "False False\n"
     ]
    },
    {
     "name": "stderr",
     "output_type": "stream",
     "text": [
      "Action: emotion: 100%|██████████| 1/1 [00:00<00:00, 39.37it/s]"
     ]
    },
    {
     "name": "stdout",
     "output_type": "stream",
     "text": [
      "a major emotion\n",
      "[[152  35 204 204]]\n",
      "False False\n",
      "{'sleepy': False, 'yawn': False, 'dominant emotion': 'happy'} kasgdagdajd\n"
     ]
    },
    {
     "name": "stderr",
     "output_type": "stream",
     "text": [
      "\n"
     ]
    },
    {
     "name": "stdout",
     "output_type": "stream",
     "text": [
      "False False\n",
      "[[169  25  91  91]\n",
      " [164  26 183 183]]\n",
      "False False\n",
      "False False\n",
      "{'sleepy': False, 'yawn': False, 'dominant emotion': False} kasgdagdajd\n",
      "False False\n",
      "[[178  28  78  78]]\n",
      "False False\n",
      "{'sleepy': False, 'yawn': False, 'dominant emotion': False} kasgdagdajd\n",
      "False False\n",
      "()\n",
      "{'sleepy': False, 'yawn': False, 'dominant emotion': False} kasgdagdajd\n",
      "False False\n"
     ]
    },
    {
     "name": "stderr",
     "output_type": "stream",
     "text": [
      "Action: emotion: 100%|██████████| 1/1 [00:00<00:00, 40.73it/s]"
     ]
    },
    {
     "name": "stdout",
     "output_type": "stream",
     "text": [
      "a major emotion\n",
      "[[183  52 107 107]]\n",
      "False False\n",
      "{'sleepy': False, 'yawn': False, 'dominant emotion': 'happy'} kasgdagdajd\n",
      "False False\n",
      "()\n",
      "{'sleepy': False, 'yawn': False, 'dominant emotion': False} kasgdagdajd\n",
      "False False\n",
      "()\n",
      "{'sleepy': False, 'yawn': False, 'dominant emotion': False} kasgdagdajd\n",
      "False False\n"
     ]
    },
    {
     "name": "stderr",
     "output_type": "stream",
     "text": [
      "\n"
     ]
    },
    {
     "name": "stdout",
     "output_type": "stream",
     "text": [
      "[[188  71  66  66]]\n",
      "False False\n",
      "{'sleepy': False, 'yawn': False, 'dominant emotion': False} kasgdagdajd\n",
      "False False\n",
      "()\n",
      "{'sleepy': False, 'yawn': False, 'dominant emotion': False} kasgdagdajd\n",
      "False False\n",
      "()\n",
      "{'sleepy': False, 'yawn': False, 'dominant emotion': False} kasgdagdajd\n",
      "False False\n",
      "[[203  95  75  75]]\n",
      "False False\n",
      "{'sleepy': False, 'yawn': False, 'dominant emotion': False} kasgdagdajd\n",
      "False False\n"
     ]
    },
    {
     "name": "stderr",
     "output_type": "stream",
     "text": [
      "Action: emotion: 100%|██████████| 1/1 [00:00<00:00, 40.21it/s]"
     ]
    },
    {
     "name": "stdout",
     "output_type": "stream",
     "text": [
      "a major emotion\n",
      "[[203 104  69  69]]\n",
      "False False\n",
      "{'sleepy': False, 'yawn': False, 'dominant emotion': 'happy'} kasgdagdajd\n",
      "False False\n",
      "()\n",
      "{'sleepy': False, 'yawn': False, 'dominant emotion': False} kasgdagdajd\n",
      "False False\n",
      "()\n",
      "{'sleepy': False, 'yawn': False, 'dominant emotion': False} kasgdagdajd\n",
      "False False\n",
      "[[191  77  62  62]]\n",
      "False False\n",
      "{'sleepy': False, 'yawn': False, 'dominant emotion': False} kasgdagdajd\n",
      "False False\n"
     ]
    },
    {
     "name": "stderr",
     "output_type": "stream",
     "text": [
      "\n"
     ]
    },
    {
     "name": "stdout",
     "output_type": "stream",
     "text": [
      "[[189  64  61  61]]\n",
      "False False\n",
      "{'sleepy': False, 'yawn': False, 'dominant emotion': False} kasgdagdajd\n",
      "False False\n",
      "()\n",
      "{'sleepy': False, 'yawn': False, 'dominant emotion': False} kasgdagdajd\n",
      "False False\n",
      "[[189  58  66  66]]\n",
      "False False\n",
      "{'sleepy': False, 'yawn': False, 'dominant emotion': False} kasgdagdajd\n",
      "False False\n",
      "()\n",
      "{'sleepy': False, 'yawn': False, 'dominant emotion': False} kasgdagdajd\n",
      "False False\n",
      "()\n",
      "{'sleepy': False, 'yawn': False, 'dominant emotion': False} kasgdagdajd\n",
      "False False\n",
      "()\n",
      "{'sleepy': False, 'yawn': False, 'dominant emotion': False} kasgdagdajd\n",
      "False False\n"
     ]
    },
    {
     "name": "stderr",
     "output_type": "stream",
     "text": [
      "Action: emotion: 100%|██████████| 1/1 [00:00<00:00, 39.69it/s]"
     ]
    },
    {
     "name": "stdout",
     "output_type": "stream",
     "text": [
      "a major emotion\n",
      "[[202 102  66  66]]\n",
      "False False\n",
      "{'sleepy': False, 'yawn': False, 'dominant emotion': 'happy'} kasgdagdajd\n",
      "False False\n",
      "[[205 100  66  66]]\n",
      "False False\n",
      "{'sleepy': False, 'yawn': False, 'dominant emotion': False} kasgdagdajd\n",
      "False False\n",
      "()\n",
      "{'sleepy': False, 'yawn': False, 'dominant emotion': False} kasgdagdajd\n"
     ]
    },
    {
     "name": "stderr",
     "output_type": "stream",
     "text": [
      "\n"
     ]
    },
    {
     "name": "stdout",
     "output_type": "stream",
     "text": [
      "False False\n",
      "[[208  77  70  70]]\n",
      "False False\n",
      "{'sleepy': False, 'yawn': False, 'dominant emotion': False} kasgdagdajd\n",
      "False False\n",
      "[[210  74  73  73]]\n",
      "False False\n",
      "{'sleepy': False, 'yawn': False, 'dominant emotion': False} kasgdagdajd\n",
      "False False\n",
      "()\n",
      "{'sleepy': False, 'yawn': False, 'dominant emotion': False} kasgdagdajd\n",
      "False False\n",
      "[[199  82  85  85]]\n",
      "False False\n",
      "{'sleepy': False, 'yawn': False, 'dominant emotion': False} kasgdagdajd\n",
      "False False\n",
      "()\n",
      "{'sleepy': False, 'yawn': False, 'dominant emotion': False} kasgdagdajd\n",
      "False False\n",
      "()\n",
      "{'sleepy': False, 'yawn': False, 'dominant emotion': False} kasgdagdajd\n",
      "False False\n",
      "[[202  70  88  88]]\n",
      "False False\n",
      "{'sleepy': False, 'yawn': False, 'dominant emotion': False} kasgdagdajd\n",
      "False False\n",
      "[[207  69  82  82]]\n",
      "False False\n",
      "{'sleepy': False, 'yawn': False, 'dominant emotion': False} kasgdagdajd\n",
      "False False\n",
      "[[203  73  95  95]]\n",
      "False False\n",
      "{'sleepy': False, 'yawn': False, 'dominant emotion': False} kasgdagdajd\n",
      "False False\n",
      "()\n",
      "{'sleepy': False, 'yawn': False, 'dominant emotion': False} kasgdagdajd\n",
      "False False\n",
      "()\n",
      "{'sleepy': False, 'yawn': False, 'dominant emotion': False} kasgdagdajd\n",
      "False False\n",
      "[[228  58  87  87]]\n",
      "False False\n",
      "{'sleepy': False, 'yawn': False, 'dominant emotion': False} kasgdagdajd\n",
      "False False\n",
      "[[226  54  94  94]]\n",
      "False False\n",
      "{'sleepy': False, 'yawn': False, 'dominant emotion': False} kasgdagdajd\n",
      "False False\n",
      "[[218  64 100 100]]\n",
      "False False\n",
      "{'sleepy': False, 'yawn': False, 'dominant emotion': False} kasgdagdajd\n",
      "False False\n",
      "[[216  67  99  99]]\n",
      "False False\n",
      "{'sleepy': False, 'yawn': False, 'dominant emotion': False} kasgdagdajd\n",
      "False False\n",
      "[[215  58  96  96]]\n",
      "False False\n",
      "{'sleepy': False, 'yawn': False, 'dominant emotion': False} kasgdagdajd\n",
      "False False\n",
      "[[213  59  96  96]]\n",
      "False False\n",
      "{'sleepy': False, 'yawn': False, 'dominant emotion': False} kasgdagdajd\n",
      "False False\n",
      "()\n",
      "{'sleepy': False, 'yawn': False, 'dominant emotion': False} kasgdagdajd\n",
      "False False\n",
      "()\n",
      "{'sleepy': False, 'yawn': False, 'dominant emotion': False} kasgdagdajd\n",
      "False False\n",
      "()\n",
      "{'sleepy': False, 'yawn': False, 'dominant emotion': False} kasgdagdajd\n",
      "False False\n",
      "()\n",
      "{'sleepy': False, 'yawn': False, 'dominant emotion': False} kasgdagdajd\n",
      "False False\n",
      "()\n",
      "{'sleepy': False, 'yawn': False, 'dominant emotion': False} kasgdagdajd\n",
      "False False\n",
      "[[240  89  82  82]]\n",
      "False False\n",
      "{'sleepy': False, 'yawn': False, 'dominant emotion': False} kasgdagdajd\n",
      "False False\n",
      "()\n",
      "{'sleepy': False, 'yawn': False, 'dominant emotion': False} kasgdagdajd\n",
      "False False\n",
      "()\n",
      "{'sleepy': False, 'yawn': False, 'dominant emotion': False} kasgdagdajd\n",
      "False False\n",
      "[[209  78  88  88]]\n",
      "False False\n",
      "{'sleepy': False, 'yawn': False, 'dominant emotion': False} kasgdagdajd\n",
      "False False\n",
      "()\n",
      "{'sleepy': False, 'yawn': False, 'dominant emotion': False} kasgdagdajd\n",
      "False False\n",
      "()\n",
      "{'sleepy': False, 'yawn': False, 'dominant emotion': False} kasgdagdajd\n",
      "False False\n"
     ]
    },
    {
     "name": "stderr",
     "output_type": "stream",
     "text": [
      "Action: emotion: 100%|██████████| 1/1 [00:00<00:00, 38.36it/s]"
     ]
    },
    {
     "name": "stdout",
     "output_type": "stream",
     "text": [
      "a major emotion\n",
      "[[220  84  80  80]]\n",
      "False False\n",
      "{'sleepy': False, 'yawn': False, 'dominant emotion': 'happy'} kasgdagdajd\n",
      "False False\n",
      "()\n",
      "{'sleepy': False, 'yawn': False, 'dominant emotion': False} kasgdagdajd\n",
      "False False\n",
      "()\n",
      "{'sleepy': False, 'yawn': False, 'dominant emotion': False} kasgdagdajd\n"
     ]
    },
    {
     "name": "stderr",
     "output_type": "stream",
     "text": [
      "\n"
     ]
    },
    {
     "name": "stdout",
     "output_type": "stream",
     "text": [
      "False False\n",
      "[[213 104  86  86]]\n",
      "False False\n",
      "{'sleepy': False, 'yawn': False, 'dominant emotion': False} kasgdagdajd\n",
      "False False\n"
     ]
    },
    {
     "name": "stderr",
     "output_type": "stream",
     "text": [
      "Action: emotion: 100%|██████████| 1/1 [00:00<00:00, 37.72it/s]\n"
     ]
    },
    {
     "name": "stdout",
     "output_type": "stream",
     "text": [
      "a major emotion\n",
      "[[210 102  88  88]]\n",
      "False False\n",
      "{'sleepy': False, 'yawn': False, 'dominant emotion': 'happy'} kasgdagdajd\n",
      "False False\n"
     ]
    },
    {
     "name": "stderr",
     "output_type": "stream",
     "text": [
      "Action: emotion: 100%|██████████| 1/1 [00:00<00:00, 39.53it/s]\n"
     ]
    },
    {
     "name": "stdout",
     "output_type": "stream",
     "text": [
      "a major emotion\n",
      "[[206  95  90  90]]\n",
      "False False\n",
      "{'sleepy': False, 'yawn': False, 'dominant emotion': 'happy'} kasgdagdajd\n",
      "False False\n"
     ]
    },
    {
     "name": "stderr",
     "output_type": "stream",
     "text": [
      "Action: emotion: 100%|██████████| 1/1 [00:00<00:00, 40.43it/s]\n"
     ]
    },
    {
     "name": "stdout",
     "output_type": "stream",
     "text": [
      "a major emotion\n",
      "[[194  93  93  93]]\n",
      "False False\n",
      "{'sleepy': False, 'yawn': False, 'dominant emotion': 'happy'} kasgdagdajd\n",
      "False False\n"
     ]
    },
    {
     "name": "stderr",
     "output_type": "stream",
     "text": [
      "Action: emotion: 100%|██████████| 1/1 [00:00<00:00, 39.75it/s]\n"
     ]
    },
    {
     "name": "stdout",
     "output_type": "stream",
     "text": [
      "a major emotion\n",
      "[[184  98  91  91]]\n",
      "False False\n",
      "{'sleepy': False, 'yawn': False, 'dominant emotion': 'fear'} kasgdagdajd\n",
      "False False\n"
     ]
    },
    {
     "name": "stderr",
     "output_type": "stream",
     "text": [
      "Action: emotion: 100%|██████████| 1/1 [00:00<00:00, 39.11it/s]\n"
     ]
    },
    {
     "name": "stdout",
     "output_type": "stream",
     "text": [
      "no major emotion\n",
      "[[172  95  93  93]]\n",
      "False False\n",
      "{'sleepy': False, 'yawn': False, 'dominant emotion': False} kasgdagdajd\n",
      "False False\n"
     ]
    },
    {
     "name": "stderr",
     "output_type": "stream",
     "text": [
      "Action: emotion: 100%|██████████| 1/1 [00:00<00:00, 29.89it/s]\n"
     ]
    },
    {
     "name": "stdout",
     "output_type": "stream",
     "text": [
      "a major emotion\n",
      "[[160  79  97  97]]\n",
      "False False\n",
      "{'sleepy': False, 'yawn': False, 'dominant emotion': 'neutral'} kasgdagdajd\n",
      "False False\n"
     ]
    },
    {
     "name": "stderr",
     "output_type": "stream",
     "text": [
      "Action: emotion: 100%|██████████| 1/1 [00:00<00:00, 37.68it/s]\n"
     ]
    },
    {
     "name": "stdout",
     "output_type": "stream",
     "text": [
      "no major emotion\n",
      "[[156  61  87  87]]\n",
      "False False\n",
      "{'sleepy': False, 'yawn': False, 'dominant emotion': False} kasgdagdajd\n",
      "False False\n"
     ]
    },
    {
     "name": "stderr",
     "output_type": "stream",
     "text": [
      "Action: emotion: 100%|██████████| 1/1 [00:00<00:00, 40.71it/s]\n"
     ]
    },
    {
     "name": "stdout",
     "output_type": "stream",
     "text": [
      "a major emotion\n",
      "[[152  53  89  89]]\n",
      "False False\n",
      "{'sleepy': False, 'yawn': False, 'dominant emotion': 'neutral'} kasgdagdajd\n",
      "False False\n"
     ]
    },
    {
     "name": "stderr",
     "output_type": "stream",
     "text": [
      "Action: emotion: 100%|██████████| 1/1 [00:00<00:00, 39.05it/s]\n"
     ]
    },
    {
     "name": "stdout",
     "output_type": "stream",
     "text": [
      "a major emotion\n",
      "[[156  52  88  88]]\n",
      "False False\n",
      "{'sleepy': False, 'yawn': False, 'dominant emotion': 'neutral'} kasgdagdajd\n",
      "False False\n"
     ]
    },
    {
     "name": "stderr",
     "output_type": "stream",
     "text": [
      "Action: emotion: 100%|██████████| 1/1 [00:00<00:00, 40.35it/s]\n"
     ]
    },
    {
     "name": "stdout",
     "output_type": "stream",
     "text": [
      "a major emotion\n",
      "[[159  51  85  85]]\n",
      "False False\n",
      "{'sleepy': False, 'yawn': False, 'dominant emotion': 'neutral'} kasgdagdajd\n",
      "False False\n"
     ]
    },
    {
     "name": "stderr",
     "output_type": "stream",
     "text": [
      "Action: emotion: 100%|██████████| 1/1 [00:00<00:00, 39.76it/s]\n"
     ]
    },
    {
     "name": "stdout",
     "output_type": "stream",
     "text": [
      "a major emotion\n",
      "[[161  48  85  85]]\n",
      "False False\n",
      "{'sleepy': False, 'yawn': False, 'dominant emotion': 'neutral'} kasgdagdajd\n"
     ]
    }
   ],
   "source": [
    "detector = cv2.CascadeClassifier(\"haarcascade_frontalface_default.xml\")    #Faster but less accurate\n",
    "predictor = dlib.shape_predictor('shape_predictor_68_face_landmarks.dat')\n",
    "\n",
    "engine = pyttsx3.init()\n",
    "#ap = argparse.ArgumentParser()\n",
    "#ap.add_argument(\"-w\", \"--webcam\", type=int, default=0,\n",
    "                #help=\"index of webcam on system\")\n",
    "#args = vars(ap.parse_args())\n",
    "\n",
    "EYE_AR_THRESH = 0.3\n",
    "EYE_AR_CONSEC_FRAMES = 30\n",
    "YAWN_THRESH = 20\n",
    "sleepy = False\n",
    "yawn = False\n",
    "saying = False\n",
    "COUNTER = 0\n",
    "#vs = VideoStream(0).start()\n",
    "cap = cv2.VideoCapture(0)\n",
    "timesincelastreport = time.time()\n",
    "while True:\n",
    "    #frame = vs.read()\n",
    "    ret, frame = cap.read()\n",
    "    frame = imutils.resize(frame, width=450)\n",
    "    status = getstatus(frame)\n",
    "    \n",
    "    #print(status)\n",
    "    emotion = status.get('dominant emotion')\n",
    "    sleepy = status.get('sleepy')\n",
    "    yawn = status.get('yawn')\n",
    "    cv2.imshow(\"Frame\", frame)\n",
    "    #key = cv2.waitKey(1) & 0xFF\n",
    "\n",
    "    #print(COUNTER)\n",
    "\n",
    "    other_emotion = False\n",
    "    \n",
    "\n",
    "\n",
    "    if emotion != False:\n",
    "        if timesincelastreport+5 <= time.time():\n",
    "            if emotion == 'angry':\n",
    "                other_emotion = True\n",
    "                engine.say('please calm down')\n",
    "                engine.runAndWait()\n",
    "                engine.say(random.choice(anger_quotes))\n",
    "                engine.runAndWait()\n",
    "                timesincelastreport = time.time()\n",
    "                #time.sleep(5)\n",
    "            elif emotion == 'sad':\n",
    "                #time.sleep(0.5)\n",
    "\n",
    "                other_emotion = True\n",
    "                engine.say('dont be sad')\n",
    "                engine.runAndWait()\n",
    "                engine.say(random.choice(sadness_quotes))\n",
    "                engine.runAndWait()\n",
    "                timesincelastreport = time.time()\n",
    "                #time.sleep(5)\n",
    "            # elif emotion == 'fear':\n",
    "                # other_emotion = True\n",
    "                # engine.say('dont be scared')\n",
    "                # engine.runAndWait()\n",
    "                # time.sleep(5)\n",
    "            #elif emotion != 'neutral':\n",
    "                #other_emotion == True\n",
    "                #time.sleep(5)\n",
    "            else:\n",
    "                pass\n",
    "\n",
    "    if sleepy  == True and other_emotion == False and timesincelastreport+5 <= time.time():\n",
    "        engine.say('feeling sleepy? drink some water or have a coffee')\n",
    "        engine.runAndWait()\n",
    "        sleepy = False\n",
    "        yawn = False\n",
    "        print('slpehf')\n",
    "        timesincelastreport = time.time()\n",
    "        #time.sleep(5)\n",
    "\n",
    "        print(other_emotion)\n",
    "    if cv2.waitKey(1) & 0xFF == ord('q'):\n",
    "        break\n",
    "\n",
    "    print(sleepy,yawn)\n",
    "cap.release()\n",
    "cv2.destroyAllWindows()"
   ]
  },
  {
   "cell_type": "code",
   "execution_count": null,
   "metadata": {},
   "outputs": [],
   "source": []
  },
  {
   "cell_type": "code",
   "execution_count": null,
   "metadata": {},
   "outputs": [],
   "source": []
  }
 ],
 "metadata": {
  "kernelspec": {
   "display_name": "Aarush-env",
   "language": "python",
   "name": "python3"
  },
  "language_info": {
   "codemirror_mode": {
    "name": "ipython",
    "version": 3
   },
   "file_extension": ".py",
   "mimetype": "text/x-python",
   "name": "python",
   "nbconvert_exporter": "python",
   "pygments_lexer": "ipython3",
   "version": "3.11.6"
  }
 },
 "nbformat": 4,
 "nbformat_minor": 2
}
